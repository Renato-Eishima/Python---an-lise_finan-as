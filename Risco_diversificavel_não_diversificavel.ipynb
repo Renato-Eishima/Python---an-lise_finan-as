{
  "nbformat": 4,
  "nbformat_minor": 0,
  "metadata": {
    "colab": {
      "name": "Risco_diversificavel_não_diversificavel",
      "provenance": [],
      "collapsed_sections": [],
      "authorship_tag": "ABX9TyO1vM1I4p7RciIb8kZ6jvXC",
      "include_colab_link": true
    },
    "kernelspec": {
      "name": "python3",
      "display_name": "Python 3"
    },
    "language_info": {
      "name": "python"
    }
  },
  "cells": [
    {
      "cell_type": "markdown",
      "metadata": {
        "id": "view-in-github",
        "colab_type": "text"
      },
      "source": [
        "<a href=\"https://colab.research.google.com/github/Renato-Eishima/Python_analise_financas/blob/main/Risco_diversificavel_n%C3%A3o_diversificavel.ipynb\" target=\"_parent\"><img src=\"https://colab.research.google.com/assets/colab-badge.svg\" alt=\"Open In Colab\"/></a>"
      ]
    },
    {
      "cell_type": "markdown",
      "source": [
        "## Risco Diversificável e Não Diversificável de uma Carteira"
      ],
      "metadata": {
        "id": "JKjN6XBjpc7h"
      }
    },
    {
      "cell_type": "markdown",
      "metadata": {
        "id": "dn2U9WtKoPbU"
      },
      "source": [
        "Importando as mesmas ações da carteira Dica de Hoje, fazendo o download do \n",
        "Yahoo Finance. Intervalo de tempo 1º janeiro de 2017 até o dia de hoje."
      ]
    },
    {
      "cell_type": "code",
      "execution_count": 1,
      "metadata": {
        "colab": {
          "base_uri": "https://localhost:8080/"
        },
        "id": "TT-WMKcZpbCs",
        "outputId": "bd74e7b8-85ef-42ab-f0dc-5dbaf086b6f3"
      },
      "outputs": [
        {
          "output_type": "stream",
          "name": "stdout",
          "text": [
            "Collecting yfinance\n",
            "  Downloading yfinance-0.1.70-py2.py3-none-any.whl (26 kB)\n",
            "Collecting requests>=2.26\n",
            "  Downloading requests-2.27.1-py2.py3-none-any.whl (63 kB)\n",
            "\u001b[K     |████████████████████████████████| 63 kB 1.5 MB/s \n",
            "\u001b[?25hRequirement already satisfied: multitasking>=0.0.7 in /usr/local/lib/python3.7/dist-packages (from yfinance) (0.0.10)\n",
            "Collecting lxml>=4.5.1\n",
            "  Downloading lxml-4.8.0-cp37-cp37m-manylinux_2_17_x86_64.manylinux2014_x86_64.manylinux_2_24_x86_64.whl (6.4 MB)\n",
            "\u001b[K     |████████████████████████████████| 6.4 MB 49.2 MB/s \n",
            "\u001b[?25hRequirement already satisfied: pandas>=0.24.0 in /usr/local/lib/python3.7/dist-packages (from yfinance) (1.3.5)\n",
            "Requirement already satisfied: numpy>=1.15 in /usr/local/lib/python3.7/dist-packages (from yfinance) (1.21.5)\n",
            "Requirement already satisfied: python-dateutil>=2.7.3 in /usr/local/lib/python3.7/dist-packages (from pandas>=0.24.0->yfinance) (2.8.2)\n",
            "Requirement already satisfied: pytz>=2017.3 in /usr/local/lib/python3.7/dist-packages (from pandas>=0.24.0->yfinance) (2018.9)\n",
            "Requirement already satisfied: six>=1.5 in /usr/local/lib/python3.7/dist-packages (from python-dateutil>=2.7.3->pandas>=0.24.0->yfinance) (1.15.0)\n",
            "Requirement already satisfied: charset-normalizer~=2.0.0 in /usr/local/lib/python3.7/dist-packages (from requests>=2.26->yfinance) (2.0.11)\n",
            "Requirement already satisfied: urllib3<1.27,>=1.21.1 in /usr/local/lib/python3.7/dist-packages (from requests>=2.26->yfinance) (1.24.3)\n",
            "Requirement already satisfied: idna<4,>=2.5 in /usr/local/lib/python3.7/dist-packages (from requests>=2.26->yfinance) (2.10)\n",
            "Requirement already satisfied: certifi>=2017.4.17 in /usr/local/lib/python3.7/dist-packages (from requests>=2.26->yfinance) (2021.10.8)\n",
            "Installing collected packages: requests, lxml, yfinance\n",
            "  Attempting uninstall: requests\n",
            "    Found existing installation: requests 2.23.0\n",
            "    Uninstalling requests-2.23.0:\n",
            "      Successfully uninstalled requests-2.23.0\n",
            "  Attempting uninstall: lxml\n",
            "    Found existing installation: lxml 4.2.6\n",
            "    Uninstalling lxml-4.2.6:\n",
            "      Successfully uninstalled lxml-4.2.6\n",
            "\u001b[31mERROR: pip's dependency resolver does not currently take into account all the packages that are installed. This behaviour is the source of the following dependency conflicts.\n",
            "google-colab 1.0.0 requires requests~=2.23.0, but you have requests 2.27.1 which is incompatible.\n",
            "datascience 0.10.6 requires folium==0.2.1, but you have folium 0.8.3 which is incompatible.\u001b[0m\n",
            "Successfully installed lxml-4.8.0 requests-2.27.1 yfinance-0.1.70\n"
          ]
        }
      ],
      "source": [
        "!pip install yfinance"
      ]
    },
    {
      "cell_type": "code",
      "execution_count": 3,
      "metadata": {
        "id": "Bfo58_Wig94O"
      },
      "outputs": [],
      "source": [
        "import numpy as np\n",
        "import pandas as pd\n",
        "import yfinance as yf\n",
        "import matplotlib.pyplot as plt"
      ]
    },
    {
      "cell_type": "code",
      "source": [
        "acoes = ['EGIE3.SA', 'ITSA4.SA', 'SULA11.SA', 'ABEV3.SA', 'LREN3.SA', 'SLCE3.SA', 'BBAS3.SA', 'CSAN3.SA', 'B3SA3.SA'] \n",
        "carteira = pd.DataFrame()\n",
        "\n",
        "for acao in acoes:\n",
        "  carteira[acao] = yf.download(acao, start = '2017-01-01')['Adj Close']"
      ],
      "metadata": {
        "colab": {
          "base_uri": "https://localhost:8080/"
        },
        "id": "Bw9IS6N5hXl-",
        "outputId": "eef467fd-0a85-4229-8322-e5b459441c84"
      },
      "execution_count": 4,
      "outputs": [
        {
          "output_type": "stream",
          "name": "stdout",
          "text": [
            "[*********************100%***********************]  1 of 1 completed\n",
            "[*********************100%***********************]  1 of 1 completed\n",
            "[*********************100%***********************]  1 of 1 completed\n",
            "[*********************100%***********************]  1 of 1 completed\n",
            "[*********************100%***********************]  1 of 1 completed\n",
            "[*********************100%***********************]  1 of 1 completed\n",
            "[*********************100%***********************]  1 of 1 completed\n",
            "[*********************100%***********************]  1 of 1 completed\n",
            "[*********************100%***********************]  1 of 1 completed\n"
          ]
        }
      ]
    },
    {
      "cell_type": "code",
      "execution_count": 5,
      "metadata": {
        "colab": {
          "base_uri": "https://localhost:8080/"
        },
        "id": "QUjxDJiH8n6c",
        "outputId": "2fd40567-0ae9-4357-9481-55dd82e807d6"
      },
      "outputs": [
        {
          "output_type": "stream",
          "name": "stdout",
          "text": [
            "             EGIE3.SA  ITSA4.SA  SULA11.SA  ...   BBAS3.SA  CSAN3.SA  B3SA3.SA\n",
            "Date                                        ...                               \n",
            "2017-01-02  19.134180  5.317467  11.952114  ...  21.435801  8.195603  4.571318\n",
            "2017-01-03  19.875391  5.550632  12.532647  ...  22.416519  8.577257  4.759449\n",
            "2017-01-04  19.622831  5.583017  12.997073  ...  22.299772  8.581669  4.849301\n",
            "2017-01-05  19.480083  5.634830  12.969751  ...  22.245279  8.566226  4.790336\n",
            "2017-01-06  19.238501  5.615400  12.867306  ...  22.486568  8.367680  4.787529\n",
            "\n",
            "[5 rows x 9 columns]\n",
            "\n",
            "\n",
            "             EGIE3.SA  ITSA4.SA  SULA11.SA  ...   BBAS3.SA   CSAN3.SA  B3SA3.SA\n",
            "Date                                        ...                                \n",
            "2022-02-14  40.520000     10.48  25.280001  ...  33.540001  22.270000     14.12\n",
            "2022-02-15  40.520000     10.61  25.549999  ...  35.130001  22.299999     14.60\n",
            "2022-02-16  40.549999     10.58  25.740000  ...  35.330002  22.920000     14.59\n",
            "2022-02-17  40.570000     10.47  26.209999  ...  35.330002  22.860001     14.20\n",
            "2022-02-18  40.439999     10.52  25.750000  ...  36.049999  21.760000     14.27\n",
            "\n",
            "[5 rows x 9 columns]\n"
          ]
        }
      ],
      "source": [
        "print(carteira.head())\n",
        "print('\\n')\n",
        "print(carteira.tail())"
      ]
    },
    {
      "cell_type": "code",
      "source": [
        "# verificando algumas informações da carteira\n",
        "carteira.info()"
      ],
      "metadata": {
        "colab": {
          "base_uri": "https://localhost:8080/"
        },
        "id": "b7TtV-xD5b7E",
        "outputId": "36ff5e78-680d-4985-8960-ba0025305617"
      },
      "execution_count": 6,
      "outputs": [
        {
          "output_type": "stream",
          "name": "stdout",
          "text": [
            "<class 'pandas.core.frame.DataFrame'>\n",
            "DatetimeIndex: 1278 entries, 2017-01-02 to 2022-02-18\n",
            "Data columns (total 9 columns):\n",
            " #   Column     Non-Null Count  Dtype  \n",
            "---  ------     --------------  -----  \n",
            " 0   EGIE3.SA   1278 non-null   float64\n",
            " 1   ITSA4.SA   1278 non-null   float64\n",
            " 2   SULA11.SA  1278 non-null   float64\n",
            " 3   ABEV3.SA   1278 non-null   float64\n",
            " 4   LREN3.SA   1278 non-null   float64\n",
            " 5   SLCE3.SA   1278 non-null   float64\n",
            " 6   BBAS3.SA   1278 non-null   float64\n",
            " 7   CSAN3.SA   1278 non-null   float64\n",
            " 8   B3SA3.SA   1278 non-null   float64\n",
            "dtypes: float64(9)\n",
            "memory usage: 99.8 KB\n"
          ]
        }
      ]
    },
    {
      "cell_type": "markdown",
      "source": [
        "Calculando o risco diversificável e não diversificável da carteira, composta\n",
        "pelas ações acima."
      ],
      "metadata": {
        "id": "l6WqBv4t55UG"
      }
    },
    {
      "cell_type": "code",
      "source": [
        "ret_log = np.log(carteira / carteira.shift(1))\n",
        "ret_log"
      ],
      "metadata": {
        "colab": {
          "base_uri": "https://localhost:8080/",
          "height": 455
        },
        "id": "X3zRULUZ6v_z",
        "outputId": "ab9fd844-3c65-40ef-c6eb-74d0e53b4ad4"
      },
      "execution_count": 9,
      "outputs": [
        {
          "output_type": "execute_result",
          "data": {
            "text/html": [
              "\n",
              "  <div id=\"df-1e5f95f3-e45a-4abf-8fa9-fa6e170e2581\">\n",
              "    <div class=\"colab-df-container\">\n",
              "      <div>\n",
              "<style scoped>\n",
              "    .dataframe tbody tr th:only-of-type {\n",
              "        vertical-align: middle;\n",
              "    }\n",
              "\n",
              "    .dataframe tbody tr th {\n",
              "        vertical-align: top;\n",
              "    }\n",
              "\n",
              "    .dataframe thead th {\n",
              "        text-align: right;\n",
              "    }\n",
              "</style>\n",
              "<table border=\"1\" class=\"dataframe\">\n",
              "  <thead>\n",
              "    <tr style=\"text-align: right;\">\n",
              "      <th></th>\n",
              "      <th>EGIE3.SA</th>\n",
              "      <th>ITSA4.SA</th>\n",
              "      <th>SULA11.SA</th>\n",
              "      <th>ABEV3.SA</th>\n",
              "      <th>LREN3.SA</th>\n",
              "      <th>SLCE3.SA</th>\n",
              "      <th>BBAS3.SA</th>\n",
              "      <th>CSAN3.SA</th>\n",
              "      <th>B3SA3.SA</th>\n",
              "    </tr>\n",
              "    <tr>\n",
              "      <th>Date</th>\n",
              "      <th></th>\n",
              "      <th></th>\n",
              "      <th></th>\n",
              "      <th></th>\n",
              "      <th></th>\n",
              "      <th></th>\n",
              "      <th></th>\n",
              "      <th></th>\n",
              "      <th></th>\n",
              "    </tr>\n",
              "  </thead>\n",
              "  <tbody>\n",
              "    <tr>\n",
              "      <th>2017-01-02</th>\n",
              "      <td>NaN</td>\n",
              "      <td>NaN</td>\n",
              "      <td>NaN</td>\n",
              "      <td>NaN</td>\n",
              "      <td>NaN</td>\n",
              "      <td>NaN</td>\n",
              "      <td>NaN</td>\n",
              "      <td>NaN</td>\n",
              "      <td>NaN</td>\n",
              "    </tr>\n",
              "    <tr>\n",
              "      <th>2017-01-03</th>\n",
              "      <td>0.038006</td>\n",
              "      <td>0.042915</td>\n",
              "      <td>0.047429</td>\n",
              "      <td>0.020031</td>\n",
              "      <td>0.030222</td>\n",
              "      <td>0.006798</td>\n",
              "      <td>0.044736</td>\n",
              "      <td>0.045516</td>\n",
              "      <td>0.040331</td>\n",
              "    </tr>\n",
              "    <tr>\n",
              "      <th>2017-01-04</th>\n",
              "      <td>-0.012789</td>\n",
              "      <td>0.005817</td>\n",
              "      <td>0.036387</td>\n",
              "      <td>-0.007843</td>\n",
              "      <td>-0.008844</td>\n",
              "      <td>0.032659</td>\n",
              "      <td>-0.005222</td>\n",
              "      <td>0.000514</td>\n",
              "      <td>0.018703</td>\n",
              "    </tr>\n",
              "    <tr>\n",
              "      <th>2017-01-05</th>\n",
              "      <td>-0.007301</td>\n",
              "      <td>0.009238</td>\n",
              "      <td>-0.002104</td>\n",
              "      <td>0.005436</td>\n",
              "      <td>-0.009350</td>\n",
              "      <td>0.027169</td>\n",
              "      <td>-0.002447</td>\n",
              "      <td>-0.001801</td>\n",
              "      <td>-0.012234</td>\n",
              "    </tr>\n",
              "    <tr>\n",
              "      <th>2017-01-06</th>\n",
              "      <td>-0.012479</td>\n",
              "      <td>-0.003454</td>\n",
              "      <td>-0.007930</td>\n",
              "      <td>-0.008469</td>\n",
              "      <td>-0.011596</td>\n",
              "      <td>-0.000638</td>\n",
              "      <td>0.010788</td>\n",
              "      <td>-0.023451</td>\n",
              "      <td>-0.000586</td>\n",
              "    </tr>\n",
              "    <tr>\n",
              "      <th>...</th>\n",
              "      <td>...</td>\n",
              "      <td>...</td>\n",
              "      <td>...</td>\n",
              "      <td>...</td>\n",
              "      <td>...</td>\n",
              "      <td>...</td>\n",
              "      <td>...</td>\n",
              "      <td>...</td>\n",
              "      <td>...</td>\n",
              "    </tr>\n",
              "    <tr>\n",
              "      <th>2022-02-14</th>\n",
              "      <td>0.000247</td>\n",
              "      <td>-0.003810</td>\n",
              "      <td>-0.006702</td>\n",
              "      <td>0.013369</td>\n",
              "      <td>0.021850</td>\n",
              "      <td>0.013320</td>\n",
              "      <td>0.004183</td>\n",
              "      <td>0.000000</td>\n",
              "      <td>0.014266</td>\n",
              "    </tr>\n",
              "    <tr>\n",
              "      <th>2022-02-15</th>\n",
              "      <td>0.000000</td>\n",
              "      <td>0.012328</td>\n",
              "      <td>0.010624</td>\n",
              "      <td>0.021026</td>\n",
              "      <td>0.045274</td>\n",
              "      <td>-0.049369</td>\n",
              "      <td>0.046317</td>\n",
              "      <td>0.001346</td>\n",
              "      <td>0.033429</td>\n",
              "    </tr>\n",
              "    <tr>\n",
              "      <th>2022-02-16</th>\n",
              "      <td>0.000740</td>\n",
              "      <td>-0.002832</td>\n",
              "      <td>0.007409</td>\n",
              "      <td>-0.019699</td>\n",
              "      <td>0.014647</td>\n",
              "      <td>-0.014880</td>\n",
              "      <td>0.005677</td>\n",
              "      <td>0.027423</td>\n",
              "      <td>-0.000685</td>\n",
              "    </tr>\n",
              "    <tr>\n",
              "      <th>2022-02-17</th>\n",
              "      <td>0.000493</td>\n",
              "      <td>-0.010451</td>\n",
              "      <td>0.018095</td>\n",
              "      <td>-0.015369</td>\n",
              "      <td>-0.010230</td>\n",
              "      <td>-0.006636</td>\n",
              "      <td>0.000000</td>\n",
              "      <td>-0.002621</td>\n",
              "      <td>-0.027094</td>\n",
              "    </tr>\n",
              "    <tr>\n",
              "      <th>2022-02-18</th>\n",
              "      <td>-0.003210</td>\n",
              "      <td>0.004764</td>\n",
              "      <td>-0.017706</td>\n",
              "      <td>-0.005402</td>\n",
              "      <td>0.013496</td>\n",
              "      <td>-0.032938</td>\n",
              "      <td>0.020174</td>\n",
              "      <td>-0.049315</td>\n",
              "      <td>0.004918</td>\n",
              "    </tr>\n",
              "  </tbody>\n",
              "</table>\n",
              "<p>1278 rows × 9 columns</p>\n",
              "</div>\n",
              "      <button class=\"colab-df-convert\" onclick=\"convertToInteractive('df-1e5f95f3-e45a-4abf-8fa9-fa6e170e2581')\"\n",
              "              title=\"Convert this dataframe to an interactive table.\"\n",
              "              style=\"display:none;\">\n",
              "        \n",
              "  <svg xmlns=\"http://www.w3.org/2000/svg\" height=\"24px\"viewBox=\"0 0 24 24\"\n",
              "       width=\"24px\">\n",
              "    <path d=\"M0 0h24v24H0V0z\" fill=\"none\"/>\n",
              "    <path d=\"M18.56 5.44l.94 2.06.94-2.06 2.06-.94-2.06-.94-.94-2.06-.94 2.06-2.06.94zm-11 1L8.5 8.5l.94-2.06 2.06-.94-2.06-.94L8.5 2.5l-.94 2.06-2.06.94zm10 10l.94 2.06.94-2.06 2.06-.94-2.06-.94-.94-2.06-.94 2.06-2.06.94z\"/><path d=\"M17.41 7.96l-1.37-1.37c-.4-.4-.92-.59-1.43-.59-.52 0-1.04.2-1.43.59L10.3 9.45l-7.72 7.72c-.78.78-.78 2.05 0 2.83L4 21.41c.39.39.9.59 1.41.59.51 0 1.02-.2 1.41-.59l7.78-7.78 2.81-2.81c.8-.78.8-2.07 0-2.86zM5.41 20L4 18.59l7.72-7.72 1.47 1.35L5.41 20z\"/>\n",
              "  </svg>\n",
              "      </button>\n",
              "      \n",
              "  <style>\n",
              "    .colab-df-container {\n",
              "      display:flex;\n",
              "      flex-wrap:wrap;\n",
              "      gap: 12px;\n",
              "    }\n",
              "\n",
              "    .colab-df-convert {\n",
              "      background-color: #E8F0FE;\n",
              "      border: none;\n",
              "      border-radius: 50%;\n",
              "      cursor: pointer;\n",
              "      display: none;\n",
              "      fill: #1967D2;\n",
              "      height: 32px;\n",
              "      padding: 0 0 0 0;\n",
              "      width: 32px;\n",
              "    }\n",
              "\n",
              "    .colab-df-convert:hover {\n",
              "      background-color: #E2EBFA;\n",
              "      box-shadow: 0px 1px 2px rgba(60, 64, 67, 0.3), 0px 1px 3px 1px rgba(60, 64, 67, 0.15);\n",
              "      fill: #174EA6;\n",
              "    }\n",
              "\n",
              "    [theme=dark] .colab-df-convert {\n",
              "      background-color: #3B4455;\n",
              "      fill: #D2E3FC;\n",
              "    }\n",
              "\n",
              "    [theme=dark] .colab-df-convert:hover {\n",
              "      background-color: #434B5C;\n",
              "      box-shadow: 0px 1px 3px 1px rgba(0, 0, 0, 0.15);\n",
              "      filter: drop-shadow(0px 1px 2px rgba(0, 0, 0, 0.3));\n",
              "      fill: #FFFFFF;\n",
              "    }\n",
              "  </style>\n",
              "\n",
              "      <script>\n",
              "        const buttonEl =\n",
              "          document.querySelector('#df-1e5f95f3-e45a-4abf-8fa9-fa6e170e2581 button.colab-df-convert');\n",
              "        buttonEl.style.display =\n",
              "          google.colab.kernel.accessAllowed ? 'block' : 'none';\n",
              "\n",
              "        async function convertToInteractive(key) {\n",
              "          const element = document.querySelector('#df-1e5f95f3-e45a-4abf-8fa9-fa6e170e2581');\n",
              "          const dataTable =\n",
              "            await google.colab.kernel.invokeFunction('convertToInteractive',\n",
              "                                                     [key], {});\n",
              "          if (!dataTable) return;\n",
              "\n",
              "          const docLinkHtml = 'Like what you see? Visit the ' +\n",
              "            '<a target=\"_blank\" href=https://colab.research.google.com/notebooks/data_table.ipynb>data table notebook</a>'\n",
              "            + ' to learn more about interactive tables.';\n",
              "          element.innerHTML = '';\n",
              "          dataTable['output_type'] = 'display_data';\n",
              "          await google.colab.output.renderOutput(dataTable, element);\n",
              "          const docLink = document.createElement('div');\n",
              "          docLink.innerHTML = docLinkHtml;\n",
              "          element.appendChild(docLink);\n",
              "        }\n",
              "      </script>\n",
              "    </div>\n",
              "  </div>\n",
              "  "
            ],
            "text/plain": [
              "            EGIE3.SA  ITSA4.SA  SULA11.SA  ...  BBAS3.SA  CSAN3.SA  B3SA3.SA\n",
              "Date                                       ...                              \n",
              "2017-01-02       NaN       NaN        NaN  ...       NaN       NaN       NaN\n",
              "2017-01-03  0.038006  0.042915   0.047429  ...  0.044736  0.045516  0.040331\n",
              "2017-01-04 -0.012789  0.005817   0.036387  ... -0.005222  0.000514  0.018703\n",
              "2017-01-05 -0.007301  0.009238  -0.002104  ... -0.002447 -0.001801 -0.012234\n",
              "2017-01-06 -0.012479 -0.003454  -0.007930  ...  0.010788 -0.023451 -0.000586\n",
              "...              ...       ...        ...  ...       ...       ...       ...\n",
              "2022-02-14  0.000247 -0.003810  -0.006702  ...  0.004183  0.000000  0.014266\n",
              "2022-02-15  0.000000  0.012328   0.010624  ...  0.046317  0.001346  0.033429\n",
              "2022-02-16  0.000740 -0.002832   0.007409  ...  0.005677  0.027423 -0.000685\n",
              "2022-02-17  0.000493 -0.010451   0.018095  ...  0.000000 -0.002621 -0.027094\n",
              "2022-02-18 -0.003210  0.004764  -0.017706  ...  0.020174 -0.049315  0.004918\n",
              "\n",
              "[1278 rows x 9 columns]"
            ]
          },
          "metadata": {},
          "execution_count": 9
        }
      ]
    },
    {
      "cell_type": "markdown",
      "metadata": {
        "id": "u4VFEmFpoPbY"
      },
      "source": [
        "a) com pesos iguais para cada ação;"
      ]
    },
    {
      "cell_type": "markdown",
      "metadata": {
        "id": "CjyC1IZuoPbY"
      },
      "source": [
        "### Calculando a Variância da Carteira"
      ]
    },
    {
      "cell_type": "code",
      "source": [
        "pesos = np.array([1/9, 1/9, 1/9, 1/9, 1/9, 1/9, 1/9, 1/9, 1/9])\n",
        "pesos"
      ],
      "metadata": {
        "colab": {
          "base_uri": "https://localhost:8080/"
        },
        "id": "7Mj-DyRG6i3O",
        "outputId": "c4161a1b-9378-4de6-88bf-73b1339172b1"
      },
      "execution_count": 7,
      "outputs": [
        {
          "output_type": "execute_result",
          "data": {
            "text/plain": [
              "array([0.11111111, 0.11111111, 0.11111111, 0.11111111, 0.11111111,\n",
              "       0.11111111, 0.11111111, 0.11111111, 0.11111111])"
            ]
          },
          "metadata": {},
          "execution_count": 7
        }
      ]
    },
    {
      "cell_type": "code",
      "source": [
        "pesos.sum()"
      ],
      "metadata": {
        "colab": {
          "base_uri": "https://localhost:8080/"
        },
        "id": "P8qe5VNV5fEi",
        "outputId": "4a598fbe-d7f8-4ec7-81f8-565b506f18e1"
      },
      "execution_count": 8,
      "outputs": [
        {
          "output_type": "execute_result",
          "data": {
            "text/plain": [
              "1.0"
            ]
          },
          "metadata": {},
          "execution_count": 8
        }
      ]
    },
    {
      "cell_type": "markdown",
      "metadata": {
        "id": "48slMUeooPba"
      },
      "source": [
        "Variância da Carteira:"
      ]
    },
    {
      "cell_type": "code",
      "source": [
        "var_carteira = np.dot(pesos.T, np.dot(ret_log.cov() * 250, pesos))\n",
        "var_carteira"
      ],
      "metadata": {
        "colab": {
          "base_uri": "https://localhost:8080/"
        },
        "id": "uF1Z1o_M7hLq",
        "outputId": "8e28fcd9-b9bc-44c7-a078-67eb00680885"
      },
      "execution_count": 10,
      "outputs": [
        {
          "output_type": "execute_result",
          "data": {
            "text/plain": [
              "0.06467037448854442"
            ]
          },
          "metadata": {},
          "execution_count": 10
        }
      ]
    },
    {
      "cell_type": "markdown",
      "metadata": {
        "id": "FunM7Ip3oPbb"
      },
      "source": [
        "### Calculando o Risco Diversificável e Não Diversificável da Carteira"
      ]
    },
    {
      "cell_type": "markdown",
      "metadata": {
        "id": "qkKc2sjroPbb"
      },
      "source": [
        "Risco Diversificável:"
      ]
    },
    {
      "cell_type": "markdown",
      "metadata": {
        "id": "hPbtPTupoPbb"
      },
      "source": [
        "Risco Diversificável = variância da carteira - Variância Anual Ponderada"
      ]
    },
    {
      "cell_type": "code",
      "source": [
        "# Cálculo da variância anual de cada ação\n",
        "EGIE_var_anual = ret_log['EGIE3.SA'].var() * 250\n",
        "EGIE_var_anual"
      ],
      "metadata": {
        "colab": {
          "base_uri": "https://localhost:8080/"
        },
        "id": "IjUmTGMy8VI5",
        "outputId": "90eb01c6-ecfb-4610-e9b9-c40211861c57"
      },
      "execution_count": 20,
      "outputs": [
        {
          "output_type": "execute_result",
          "data": {
            "text/plain": [
              "0.05886154661774287"
            ]
          },
          "metadata": {},
          "execution_count": 20
        }
      ]
    },
    {
      "cell_type": "code",
      "source": [
        "ITSA_var_anual = ret_log['ITSA4.SA'].var() * 250\n",
        "ITSA_var_anual"
      ],
      "metadata": {
        "colab": {
          "base_uri": "https://localhost:8080/"
        },
        "outputId": "8b900b16-3182-4825-9a5f-101a28a2896d",
        "id": "m1qphzZcv9UV"
      },
      "execution_count": 21,
      "outputs": [
        {
          "output_type": "execute_result",
          "data": {
            "text/plain": [
              "0.09473163936147343"
            ]
          },
          "metadata": {},
          "execution_count": 21
        }
      ]
    },
    {
      "cell_type": "code",
      "source": [
        "SULA_var_anual = ret_log['SULA11.SA'].var() * 250\n",
        "SULA_var_anual"
      ],
      "metadata": {
        "colab": {
          "base_uri": "https://localhost:8080/"
        },
        "outputId": "f016bdca-bcef-4e9e-92ce-b95b0edd5e7b",
        "id": "yf_rEdMPv9UW"
      },
      "execution_count": 12,
      "outputs": [
        {
          "output_type": "execute_result",
          "data": {
            "text/plain": [
              "0.1426117870772379"
            ]
          },
          "metadata": {},
          "execution_count": 12
        }
      ]
    },
    {
      "cell_type": "code",
      "source": [
        "ABEV_var_anual = ret_log['ABEV3.SA'].var() * 250\n",
        "ABEV_var_anual"
      ],
      "metadata": {
        "colab": {
          "base_uri": "https://localhost:8080/"
        },
        "outputId": "8933b616-b346-469a-ac3c-0d546e43ab44",
        "id": "ufeThfhev9UW"
      },
      "execution_count": 13,
      "outputs": [
        {
          "output_type": "execute_result",
          "data": {
            "text/plain": [
              "0.08907235803453606"
            ]
          },
          "metadata": {},
          "execution_count": 13
        }
      ]
    },
    {
      "cell_type": "code",
      "source": [
        "LREN_var_anual = ret_log['LREN3.SA'].var() * 250\n",
        "LREN_var_anual"
      ],
      "metadata": {
        "colab": {
          "base_uri": "https://localhost:8080/"
        },
        "outputId": "09566367-ca17-46af-d06b-06a64f96e51b",
        "id": "Q2HZ48_sv9UW"
      },
      "execution_count": 14,
      "outputs": [
        {
          "output_type": "execute_result",
          "data": {
            "text/plain": [
              "0.16857007729820359"
            ]
          },
          "metadata": {},
          "execution_count": 14
        }
      ]
    },
    {
      "cell_type": "code",
      "source": [
        "SLCE_var_anual = ret_log['SLCE3.SA'].var() * 250\n",
        "SLCE_var_anual"
      ],
      "metadata": {
        "colab": {
          "base_uri": "https://localhost:8080/"
        },
        "outputId": "3e343b07-5da4-4384-f0ed-541ab7539d27",
        "id": "hmw1qZsQv9UW"
      },
      "execution_count": 15,
      "outputs": [
        {
          "output_type": "execute_result",
          "data": {
            "text/plain": [
              "0.15562225887970835"
            ]
          },
          "metadata": {},
          "execution_count": 15
        }
      ]
    },
    {
      "cell_type": "code",
      "source": [
        "BBAS_var_anual = ret_log['BBAS3.SA'].var() * 250\n",
        "BBAS_var_anual"
      ],
      "metadata": {
        "colab": {
          "base_uri": "https://localhost:8080/"
        },
        "outputId": "97195bfc-015c-47fc-d290-6f38b6cfb25e",
        "id": "I4VudNoYv9UW"
      },
      "execution_count": 16,
      "outputs": [
        {
          "output_type": "execute_result",
          "data": {
            "text/plain": [
              "0.17570095276426204"
            ]
          },
          "metadata": {},
          "execution_count": 16
        }
      ]
    },
    {
      "cell_type": "code",
      "source": [
        "CSAN_var_anual = ret_log['CSAN3.SA'].var() * 250\n",
        "CSAN_var_anual"
      ],
      "metadata": {
        "colab": {
          "base_uri": "https://localhost:8080/"
        },
        "outputId": "01ec68ec-c446-4482-cc6c-0902308804fa",
        "id": "Hvf-sU4Vv9UW"
      },
      "execution_count": 17,
      "outputs": [
        {
          "output_type": "execute_result",
          "data": {
            "text/plain": [
              "0.14640661386676232"
            ]
          },
          "metadata": {},
          "execution_count": 17
        }
      ]
    },
    {
      "cell_type": "code",
      "source": [
        "B3SA_var_anual = ret_log['B3SA3.SA'].var() * 250\n",
        "B3SA_var_anual"
      ],
      "metadata": {
        "colab": {
          "base_uri": "https://localhost:8080/"
        },
        "outputId": "c5ab5200-fe23-4566-b13a-b81f9eaedf8b",
        "id": "eebgqaSYv9UX"
      },
      "execution_count": 18,
      "outputs": [
        {
          "output_type": "execute_result",
          "data": {
            "text/plain": [
              "0.1496906081897631"
            ]
          },
          "metadata": {},
          "execution_count": 18
        }
      ]
    },
    {
      "cell_type": "markdown",
      "metadata": {
        "id": "7KVkbBB_oPbd"
      },
      "source": [
        "Calculando o Risco Diversificável:"
      ]
    },
    {
      "cell_type": "code",
      "source": [
        "risco_div = var_carteira - (pesos[0]**2 * EGIE_var_anual) - (pesos[1]**2 * ITSA_var_anual) - (pesos[2]**2 * SULA_var_anual) - (pesos[3]**2 * ABEV_var_anual) - (pesos[4]**2 * LREN_var_anual) - (pesos[5]**2 * SLCE_var_anual) - (pesos[6]**2 * BBAS_var_anual) - (pesos[7]**2 * CSAN_var_anual) - (pesos[8]**2 * B3SA_var_anual)\n",
        "risco_div"
      ],
      "metadata": {
        "colab": {
          "base_uri": "https://localhost:8080/"
        },
        "id": "0Rh0yDlp9Dg4",
        "outputId": "f6838ddd-fa81-4cb5-86e4-9ca7e6bad4ce"
      },
      "execution_count": 28,
      "outputs": [
        {
          "output_type": "execute_result",
          "data": {
            "text/plain": [
              "0.05008682088249887"
            ]
          },
          "metadata": {},
          "execution_count": 28
        }
      ]
    },
    {
      "cell_type": "code",
      "source": [
        "print(f'O risco diversificável da carteira é {round(risco_div * 100, 2)}%')"
      ],
      "metadata": {
        "colab": {
          "base_uri": "https://localhost:8080/"
        },
        "id": "Rbi_j9tH_Mq2",
        "outputId": "f4992eec-bdab-459f-86f1-8c7166dc8ab5"
      },
      "execution_count": 29,
      "outputs": [
        {
          "output_type": "stream",
          "name": "stdout",
          "text": [
            "O risco diversificável da carteira é 5.01%\n"
          ]
        }
      ]
    },
    {
      "cell_type": "markdown",
      "metadata": {
        "id": "kiaW5ReToPbd"
      },
      "source": [
        "Calculando o Risco não Diversificável:"
      ]
    },
    {
      "cell_type": "code",
      "source": [
        "risco_nao_div = var_carteira - risco_div\n",
        "risco_nao_div"
      ],
      "metadata": {
        "colab": {
          "base_uri": "https://localhost:8080/"
        },
        "id": "7ZvDDlg7_hJC",
        "outputId": "f8db619a-3aa5-4b0a-92c5-987f1ab4c7fe"
      },
      "execution_count": 30,
      "outputs": [
        {
          "output_type": "execute_result",
          "data": {
            "text/plain": [
              "0.014583553606045546"
            ]
          },
          "metadata": {},
          "execution_count": 30
        }
      ]
    },
    {
      "cell_type": "markdown",
      "metadata": {
        "id": "Rcma9y4HoPbd"
      },
      "source": [
        "OU:"
      ]
    },
    {
      "cell_type": "code",
      "source": [
        "risco_nao_div_1a = (pesos[0]**2 * EGIE_var_anual) + (pesos[1]**2 * ITSA_var_anual) + (pesos[2]**2 * SULA_var_anual) + (pesos[3]**2 * ABEV_var_anual) + (pesos[4]**2 * LREN_var_anual) + (pesos[5]**2 * SLCE_var_anual) + (pesos[6]**2 * BBAS_var_anual) + (pesos[7]**2 * CSAN_var_anual) + (pesos[8]**2 * B3SA_var_anual)\n",
        "risco_nao_div_1a"
      ],
      "metadata": {
        "colab": {
          "base_uri": "https://localhost:8080/"
        },
        "id": "SNniAYc2_wvH",
        "outputId": "29b9b29b-b061-46dd-ed15-d678c6d4a42a"
      },
      "execution_count": 31,
      "outputs": [
        {
          "output_type": "execute_result",
          "data": {
            "text/plain": [
              "0.014583553606045551"
            ]
          },
          "metadata": {},
          "execution_count": 31
        }
      ]
    },
    {
      "cell_type": "code",
      "source": [
        "print(f'O risco não diversificável da carteira é {round(risco_nao_div * 100, 2)}%')"
      ],
      "metadata": {
        "colab": {
          "base_uri": "https://localhost:8080/"
        },
        "id": "HQfu65AOAH4a",
        "outputId": "ff7e7625-5af0-4a5a-d17a-ff9a09032218"
      },
      "execution_count": 39,
      "outputs": [
        {
          "output_type": "stream",
          "name": "stdout",
          "text": [
            "O risco não diversificável da carteira é 1.46%\n"
          ]
        }
      ]
    },
    {
      "cell_type": "markdown",
      "metadata": {
        "id": "6DTwLf-LoPbe"
      },
      "source": [
        "b)\tcom pesos diferentes, seguindo a ordem a seguir: \n",
        "\n",
        "    EGIE3 0,15; ITSA4 0,12; SULA11 0,15; ABEV3 0,08; LREN3 0,12; SLCE3 0,1; BBAS3 0,1; CSAN3 0,08 e B3SA3 0,1.\n",
        "\n"
      ]
    },
    {
      "cell_type": "code",
      "source": [
        "pesos2 = np.array([0.15, 0.12, 0.15, 0.08, 0.12, 0.1, 0.1, 0.08, 0.1])\n",
        "pesos2"
      ],
      "metadata": {
        "colab": {
          "base_uri": "https://localhost:8080/"
        },
        "id": "mlaaUso5a7HM",
        "outputId": "1af2d6fe-d4d2-45e8-8463-21e1257ab1f0"
      },
      "execution_count": 32,
      "outputs": [
        {
          "output_type": "execute_result",
          "data": {
            "text/plain": [
              "array([0.15, 0.12, 0.15, 0.08, 0.12, 0.1 , 0.1 , 0.08, 0.1 ])"
            ]
          },
          "metadata": {},
          "execution_count": 32
        }
      ]
    },
    {
      "cell_type": "markdown",
      "metadata": {
        "id": "ORNwV1iGBnkg"
      },
      "source": [
        "Variância da Carteira:"
      ]
    },
    {
      "cell_type": "code",
      "source": [
        "var_carteira2 = np.dot(pesos2.T, np.dot(ret_log.cov() * 250, pesos2))\n",
        "var_carteira2"
      ],
      "metadata": {
        "colab": {
          "base_uri": "https://localhost:8080/"
        },
        "id": "GQxN6nuXBpa4",
        "outputId": "8f663edd-8740-4b71-f3bf-94206ddf45b9"
      },
      "execution_count": 33,
      "outputs": [
        {
          "output_type": "execute_result",
          "data": {
            "text/plain": [
              "0.0637511532985192"
            ]
          },
          "metadata": {},
          "execution_count": 33
        }
      ]
    },
    {
      "cell_type": "markdown",
      "metadata": {
        "id": "pYH3DXYaB6Ls"
      },
      "source": [
        "### Calculando o Risco Diversificável e Não Diversificável da Carteira"
      ]
    },
    {
      "cell_type": "markdown",
      "metadata": {
        "id": "Xx-RzhE2CNPZ"
      },
      "source": [
        "Calculando o Risco Diversificável:"
      ]
    },
    {
      "cell_type": "code",
      "source": [
        "risco_div2 = var_carteira2 - pesos2[0]**2 * EGIE_var_anual - pesos2[1]**2 * ITSA_var_anual - pesos2[2]**2 * SULA_var_anual - pesos2[3]**2 * ABEV_var_anual - pesos2[4]**2 * LREN_var_anual - pesos2[5]**2 * SLCE_var_anual - pesos2[6]**2 * BBAS_var_anual - pesos2[7]**2 * CSAN_var_anual - pesos2[8]**2 * B3SA_var_anual\n",
        "risco_div2"
      ],
      "metadata": {
        "colab": {
          "base_uri": "https://localhost:8080/"
        },
        "id": "vodcfIVaBehL",
        "outputId": "32b1fe8d-4f83-413e-9a98-a713ab48e5d7"
      },
      "execution_count": 34,
      "outputs": [
        {
          "output_type": "execute_result",
          "data": {
            "text/plain": [
              "0.049109254951977134"
            ]
          },
          "metadata": {},
          "execution_count": 34
        }
      ]
    },
    {
      "cell_type": "code",
      "source": [
        "print(f'O risco diversificável da segunda carteira é {round(risco_div2 * 100, 2)}%')"
      ],
      "metadata": {
        "colab": {
          "base_uri": "https://localhost:8080/"
        },
        "id": "poFfxEFDEFLC",
        "outputId": "0c932845-5c1c-424f-aa17-7395aeecf134"
      },
      "execution_count": 38,
      "outputs": [
        {
          "output_type": "stream",
          "name": "stdout",
          "text": [
            "O risco diversificável da segunda carteira é 4.91%\n"
          ]
        }
      ]
    },
    {
      "cell_type": "markdown",
      "metadata": {
        "id": "4-YLL3ItDR8L"
      },
      "source": [
        "Calculando o Risco não Diversificável:"
      ]
    },
    {
      "cell_type": "code",
      "source": [
        "risco_nao_div2 = var_carteira2 - risco_div2\n",
        "risco_nao_div2"
      ],
      "metadata": {
        "colab": {
          "base_uri": "https://localhost:8080/"
        },
        "id": "RE2zDxCrDSuV",
        "outputId": "64f3924d-e2f6-44fa-e98e-c1b85c2e85ed"
      },
      "execution_count": 35,
      "outputs": [
        {
          "output_type": "execute_result",
          "data": {
            "text/plain": [
              "0.014641898346542066"
            ]
          },
          "metadata": {},
          "execution_count": 35
        }
      ]
    },
    {
      "cell_type": "code",
      "source": [
        "print(f'O risco não diversificável da segunda carteira é {round(risco_nao_div2 * 100, 2)}%')"
      ],
      "metadata": {
        "colab": {
          "base_uri": "https://localhost:8080/"
        },
        "id": "6RJjSCFRDjUD",
        "outputId": "bf22a0e0-a259-4309-e59d-298e62f8aae6"
      },
      "execution_count": 37,
      "outputs": [
        {
          "output_type": "stream",
          "name": "stdout",
          "text": [
            "O risco não diversificável da segunda carteira é 1.46%\n"
          ]
        }
      ]
    }
  ]
}