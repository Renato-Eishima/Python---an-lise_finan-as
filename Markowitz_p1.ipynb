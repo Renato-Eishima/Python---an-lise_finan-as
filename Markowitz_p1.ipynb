{
  "nbformat": 4,
  "nbformat_minor": 0,
  "metadata": {
    "colab": {
      "name": "Markowitz_p1.ipynb",
      "provenance": [],
      "collapsed_sections": [],
      "authorship_tag": "ABX9TyMWlrshr/li2uXnBiCN7Btl",
      "include_colab_link": true
    },
    "kernelspec": {
      "name": "python3",
      "display_name": "Python 3"
    },
    "language_info": {
      "name": "python"
    }
  },
  "cells": [
    {
      "cell_type": "markdown",
      "metadata": {
        "id": "view-in-github",
        "colab_type": "text"
      },
      "source": [
        "<a href=\"https://colab.research.google.com/github/Renato-Eishima/Python_analise_financas/blob/main/Markowitz_p1.ipynb\" target=\"_parent\"><img src=\"https://colab.research.google.com/assets/colab-badge.svg\" alt=\"Open In Colab\"/></a>"
      ]
    },
    {
      "cell_type": "markdown",
      "metadata": {
        "id": "BCihloW3r2U9"
      },
      "source": [
        "## Obtendo a Fronteira Eficiente de Markowitz - parte 1"
      ]
    },
    {
      "cell_type": "markdown",
      "metadata": {
        "id": "1cmZS4JLr2U_"
      },
      "source": [
        "Estamos no meio de um conjunto de 3 aulas de Python que o ajudarão a reproduzir a Fronteira Eficiente de Markowitz. Vamos dividir este conhecimento em 3 partes e cobrir a primeira parte aqui."
      ]
    },
    {
      "cell_type": "code",
      "execution_count": 1,
      "metadata": {
        "colab": {
          "base_uri": "https://localhost:8080/"
        },
        "id": "TT-WMKcZpbCs",
        "outputId": "3d77b95a-427f-43fd-ce22-760f936e7421"
      },
      "outputs": [
        {
          "output_type": "stream",
          "name": "stdout",
          "text": [
            "Collecting yfinance\n",
            "  Downloading yfinance-0.1.70-py2.py3-none-any.whl (26 kB)\n",
            "Collecting requests>=2.26\n",
            "  Downloading requests-2.27.1-py2.py3-none-any.whl (63 kB)\n",
            "\u001b[K     |████████████████████████████████| 63 kB 270 kB/s \n",
            "\u001b[?25hRequirement already satisfied: multitasking>=0.0.7 in /usr/local/lib/python3.7/dist-packages (from yfinance) (0.0.10)\n",
            "Collecting lxml>=4.5.1\n",
            "  Downloading lxml-4.8.0-cp37-cp37m-manylinux_2_17_x86_64.manylinux2014_x86_64.manylinux_2_24_x86_64.whl (6.4 MB)\n",
            "\u001b[K     |████████████████████████████████| 6.4 MB 26.3 MB/s \n",
            "\u001b[?25hRequirement already satisfied: numpy>=1.15 in /usr/local/lib/python3.7/dist-packages (from yfinance) (1.21.5)\n",
            "Requirement already satisfied: pandas>=0.24.0 in /usr/local/lib/python3.7/dist-packages (from yfinance) (1.3.5)\n",
            "Requirement already satisfied: pytz>=2017.3 in /usr/local/lib/python3.7/dist-packages (from pandas>=0.24.0->yfinance) (2018.9)\n",
            "Requirement already satisfied: python-dateutil>=2.7.3 in /usr/local/lib/python3.7/dist-packages (from pandas>=0.24.0->yfinance) (2.8.2)\n",
            "Requirement already satisfied: six>=1.5 in /usr/local/lib/python3.7/dist-packages (from python-dateutil>=2.7.3->pandas>=0.24.0->yfinance) (1.15.0)\n",
            "Requirement already satisfied: charset-normalizer~=2.0.0 in /usr/local/lib/python3.7/dist-packages (from requests>=2.26->yfinance) (2.0.12)\n",
            "Requirement already satisfied: certifi>=2017.4.17 in /usr/local/lib/python3.7/dist-packages (from requests>=2.26->yfinance) (2021.10.8)\n",
            "Requirement already satisfied: urllib3<1.27,>=1.21.1 in /usr/local/lib/python3.7/dist-packages (from requests>=2.26->yfinance) (1.24.3)\n",
            "Requirement already satisfied: idna<4,>=2.5 in /usr/local/lib/python3.7/dist-packages (from requests>=2.26->yfinance) (2.10)\n",
            "Installing collected packages: requests, lxml, yfinance\n",
            "  Attempting uninstall: requests\n",
            "    Found existing installation: requests 2.23.0\n",
            "    Uninstalling requests-2.23.0:\n",
            "      Successfully uninstalled requests-2.23.0\n",
            "  Attempting uninstall: lxml\n",
            "    Found existing installation: lxml 4.2.6\n",
            "    Uninstalling lxml-4.2.6:\n",
            "      Successfully uninstalled lxml-4.2.6\n",
            "\u001b[31mERROR: pip's dependency resolver does not currently take into account all the packages that are installed. This behaviour is the source of the following dependency conflicts.\n",
            "google-colab 1.0.0 requires requests~=2.23.0, but you have requests 2.27.1 which is incompatible.\n",
            "datascience 0.10.6 requires folium==0.2.1, but you have folium 0.8.3 which is incompatible.\u001b[0m\n",
            "Successfully installed lxml-4.8.0 requests-2.27.1 yfinance-0.1.70\n"
          ]
        }
      ],
      "source": [
        "!pip install yfinance"
      ]
    },
    {
      "cell_type": "code",
      "execution_count": 2,
      "metadata": {
        "id": "Bfo58_Wig94O"
      },
      "outputs": [],
      "source": [
        "import numpy as np\n",
        "import pandas as pd\n",
        "import yfinance as yf\n",
        "import matplotlib.pyplot as plt"
      ]
    },
    {
      "cell_type": "code",
      "execution_count": 3,
      "metadata": {
        "colab": {
          "base_uri": "https://localhost:8080/"
        },
        "id": "K0kAkPGSsqhH",
        "outputId": "5f28d520-a11d-466b-c0a8-83319f900dd4"
      },
      "outputs": [
        {
          "output_type": "stream",
          "name": "stdout",
          "text": [
            "[*********************100%***********************]  1 of 1 completed\n",
            "[*********************100%***********************]  1 of 1 completed\n",
            "[*********************100%***********************]  1 of 1 completed\n",
            "[*********************100%***********************]  1 of 1 completed\n",
            "[*********************100%***********************]  1 of 1 completed\n",
            "[*********************100%***********************]  1 of 1 completed\n",
            "[*********************100%***********************]  1 of 1 completed\n",
            "[*********************100%***********************]  1 of 1 completed\n",
            "[*********************100%***********************]  1 of 1 completed\n"
          ]
        }
      ],
      "source": [
        "acoes = ['EGIE3.SA', 'ITSA4.SA', 'SULA11.SA', 'ABEV3.SA', 'LREN3.SA', 'SLCE3.SA', 'BBAS3.SA', 'CSAN3.SA', 'B3SA3.SA'] \n",
        "carteira = pd.DataFrame()\n",
        "\n",
        "for acao in acoes:\n",
        "  carteira[acao] = yf.download(acao, start = '2017-01-01')['Adj Close']"
      ]
    },
    {
      "cell_type": "markdown",
      "metadata": {
        "id": "8To5Mghpr2VC"
      },
      "source": [
        "Faça uma verificação rápida dos dados, normalize-os para 100 e veja como os dois estoques estavam durante o período de tempo determinado."
      ]
    },
    {
      "cell_type": "code",
      "execution_count": 4,
      "metadata": {
        "colab": {
          "base_uri": "https://localhost:8080/"
        },
        "id": "QUjxDJiH8n6c",
        "outputId": "adac268e-7b3e-4681-e8fe-95bd1c065d5c"
      },
      "outputs": [
        {
          "output_type": "stream",
          "name": "stdout",
          "text": [
            "             EGIE3.SA  ITSA4.SA  SULA11.SA  ...   BBAS3.SA  CSAN3.SA  B3SA3.SA\n",
            "Date                                        ...                               \n",
            "2017-01-02  19.134180  5.317467  11.952114  ...  21.435804  8.195604  4.571318\n",
            "2017-01-03  19.875393  5.550632  12.532648  ...  22.416523  8.577256  4.759449\n",
            "2017-01-04  19.622831  5.583014  12.997072  ...  22.299772  8.581670  4.849303\n",
            "2017-01-05  19.480082  5.634831  12.969752  ...  22.245287  8.566227  4.790336\n",
            "2017-01-06  19.238501  5.615401  12.867305  ...  22.486574  8.367679  4.787528\n",
            "\n",
            "[5 rows x 9 columns]\n",
            "\n",
            "\n",
            "             EGIE3.SA  ITSA4.SA  SULA11.SA  ...   BBAS3.SA   CSAN3.SA  B3SA3.SA\n",
            "Date                                        ...                                \n",
            "2022-02-17  40.570000     10.47  26.209999  ...  35.330002  22.860001     14.20\n",
            "2022-02-18  40.439999     10.52  25.620001  ...  36.049999  21.760000     14.27\n",
            "2022-02-21  40.689999     10.21  24.500000  ...  35.279999  21.180000     14.07\n",
            "2022-02-22  40.680000     10.21  24.969999  ...  35.770000  20.639999     14.50\n",
            "2022-02-23  41.040001     10.08  30.940001  ...  35.790001  20.450001     14.59\n",
            "\n",
            "[5 rows x 9 columns]\n"
          ]
        }
      ],
      "source": [
        "print(carteira.head())\n",
        "print('\\n')\n",
        "print(carteira.tail())"
      ]
    },
    {
      "cell_type": "code",
      "source": [
        "(carteira / carteira.iloc[0] * 100).plot(figsize = (10, 5))"
      ],
      "metadata": {
        "colab": {
          "base_uri": "https://localhost:8080/",
          "height": 336
        },
        "id": "2qa6-klfuJiL",
        "outputId": "a46564f5-acdd-417d-b5f3-3c4f571d6ee6"
      },
      "execution_count": 6,
      "outputs": [
        {
          "output_type": "execute_result",
          "data": {
            "text/plain": [
              "<matplotlib.axes._subplots.AxesSubplot at 0x7fa7c127ec50>"
            ]
          },
          "metadata": {},
          "execution_count": 6
        },
        {
          "output_type": "display_data",
          "data": {
            "image/png": "[encoded data removed]",
            "text/plain": [
              "<Figure size 720x360 with 1 Axes>"
            ]
          },
          "metadata": {
            "needs_background": "light"
          }
        }
      ]
    },
    {
      "cell_type": "markdown",
      "metadata": {
        "id": "aM2WiGtyr2VD"
      },
      "source": [
        "Calcule seus retornos logarítmicos."
      ]
    },
    {
      "cell_type": "code",
      "source": [
        "ret_log = np.log(carteira / carteira.shift(1))\n",
        "ret_log"
      ],
      "metadata": {
        "colab": {
          "base_uri": "https://localhost:8080/",
          "height": 455
        },
        "id": "X3zRULUZ6v_z",
        "outputId": "c05a98b8-a432-4802-efd2-da72b380a30b"
      },
      "execution_count": 5,
      "outputs": [
        {
          "output_type": "execute_result",
          "data": {
            "text/html": [
              "\n",
              "  <div id=\"df-5af01c3e-1e5c-45a9-b7af-aad68f61d6c5\">\n",
              "    <div class=\"colab-df-container\">\n",
              "      <div>\n",
              "<style scoped>\n",
              "    .dataframe tbody tr th:only-of-type {\n",
              "        vertical-align: middle;\n",
              "    }\n",
              "\n",
              "    .dataframe tbody tr th {\n",
              "        vertical-align: top;\n",
              "    }\n",
              "\n",
              "    .dataframe thead th {\n",
              "        text-align: right;\n",
              "    }\n",
              "</style>\n",
              "<table border=\"1\" class=\"dataframe\">\n",
              "  <thead>\n",
              "    <tr style=\"text-align: right;\">\n",
              "      <th></th>\n",
              "      <th>EGIE3.SA</th>\n",
              "      <th>ITSA4.SA</th>\n",
              "      <th>SULA11.SA</th>\n",
              "      <th>ABEV3.SA</th>\n",
              "      <th>LREN3.SA</th>\n",
              "      <th>SLCE3.SA</th>\n",
              "      <th>BBAS3.SA</th>\n",
              "      <th>CSAN3.SA</th>\n",
              "      <th>B3SA3.SA</th>\n",
              "    </tr>\n",
              "    <tr>\n",
              "      <th>Date</th>\n",
              "      <th></th>\n",
              "      <th></th>\n",
              "      <th></th>\n",
              "      <th></th>\n",
              "      <th></th>\n",
              "      <th></th>\n",
              "      <th></th>\n",
              "      <th></th>\n",
              "      <th></th>\n",
              "    </tr>\n",
              "  </thead>\n",
              "  <tbody>\n",
              "    <tr>\n",
              "      <th>2017-01-02</th>\n",
              "      <td>NaN</td>\n",
              "      <td>NaN</td>\n",
              "      <td>NaN</td>\n",
              "      <td>NaN</td>\n",
              "      <td>NaN</td>\n",
              "      <td>NaN</td>\n",
              "      <td>NaN</td>\n",
              "      <td>NaN</td>\n",
              "      <td>NaN</td>\n",
              "    </tr>\n",
              "    <tr>\n",
              "      <th>2017-01-03</th>\n",
              "      <td>0.038006</td>\n",
              "      <td>0.042915</td>\n",
              "      <td>0.047429</td>\n",
              "      <td>0.020031</td>\n",
              "      <td>0.030222</td>\n",
              "      <td>0.006798</td>\n",
              "      <td>0.044736</td>\n",
              "      <td>0.045516</td>\n",
              "      <td>0.040330</td>\n",
              "    </tr>\n",
              "    <tr>\n",
              "      <th>2017-01-04</th>\n",
              "      <td>-0.012789</td>\n",
              "      <td>0.005817</td>\n",
              "      <td>0.036387</td>\n",
              "      <td>-0.007843</td>\n",
              "      <td>-0.008844</td>\n",
              "      <td>0.032659</td>\n",
              "      <td>-0.005222</td>\n",
              "      <td>0.000514</td>\n",
              "      <td>0.018703</td>\n",
              "    </tr>\n",
              "    <tr>\n",
              "      <th>2017-01-05</th>\n",
              "      <td>-0.007301</td>\n",
              "      <td>0.009238</td>\n",
              "      <td>-0.002104</td>\n",
              "      <td>0.005436</td>\n",
              "      <td>-0.009350</td>\n",
              "      <td>0.027168</td>\n",
              "      <td>-0.002446</td>\n",
              "      <td>-0.001801</td>\n",
              "      <td>-0.012235</td>\n",
              "    </tr>\n",
              "    <tr>\n",
              "      <th>2017-01-06</th>\n",
              "      <td>-0.012479</td>\n",
              "      <td>-0.003454</td>\n",
              "      <td>-0.007930</td>\n",
              "      <td>-0.008469</td>\n",
              "      <td>-0.011595</td>\n",
              "      <td>-0.000638</td>\n",
              "      <td>0.010788</td>\n",
              "      <td>-0.023451</td>\n",
              "      <td>-0.000586</td>\n",
              "    </tr>\n",
              "    <tr>\n",
              "      <th>...</th>\n",
              "      <td>...</td>\n",
              "      <td>...</td>\n",
              "      <td>...</td>\n",
              "      <td>...</td>\n",
              "      <td>...</td>\n",
              "      <td>...</td>\n",
              "      <td>...</td>\n",
              "      <td>...</td>\n",
              "      <td>...</td>\n",
              "    </tr>\n",
              "    <tr>\n",
              "      <th>2022-02-17</th>\n",
              "      <td>0.000493</td>\n",
              "      <td>-0.010451</td>\n",
              "      <td>0.018095</td>\n",
              "      <td>-0.015369</td>\n",
              "      <td>-0.010230</td>\n",
              "      <td>-0.006636</td>\n",
              "      <td>0.000000</td>\n",
              "      <td>-0.002621</td>\n",
              "      <td>-0.027094</td>\n",
              "    </tr>\n",
              "    <tr>\n",
              "      <th>2022-02-18</th>\n",
              "      <td>-0.003210</td>\n",
              "      <td>0.004764</td>\n",
              "      <td>-0.022768</td>\n",
              "      <td>-0.005402</td>\n",
              "      <td>0.013496</td>\n",
              "      <td>-0.032938</td>\n",
              "      <td>0.020174</td>\n",
              "      <td>-0.049315</td>\n",
              "      <td>0.004918</td>\n",
              "    </tr>\n",
              "    <tr>\n",
              "      <th>2022-02-21</th>\n",
              "      <td>0.006163</td>\n",
              "      <td>-0.029911</td>\n",
              "      <td>-0.044700</td>\n",
              "      <td>-0.021904</td>\n",
              "      <td>-0.045589</td>\n",
              "      <td>0.005261</td>\n",
              "      <td>-0.021591</td>\n",
              "      <td>-0.027016</td>\n",
              "      <td>-0.014115</td>\n",
              "    </tr>\n",
              "    <tr>\n",
              "      <th>2022-02-22</th>\n",
              "      <td>-0.000246</td>\n",
              "      <td>0.000000</td>\n",
              "      <td>0.019002</td>\n",
              "      <td>0.015110</td>\n",
              "      <td>-0.012977</td>\n",
              "      <td>-0.001598</td>\n",
              "      <td>0.013793</td>\n",
              "      <td>-0.025826</td>\n",
              "      <td>0.030104</td>\n",
              "    </tr>\n",
              "    <tr>\n",
              "      <th>2022-02-23</th>\n",
              "      <td>0.008811</td>\n",
              "      <td>-0.012814</td>\n",
              "      <td>0.214375</td>\n",
              "      <td>0.009498</td>\n",
              "      <td>-0.012759</td>\n",
              "      <td>-0.008722</td>\n",
              "      <td>0.000559</td>\n",
              "      <td>-0.009248</td>\n",
              "      <td>0.006188</td>\n",
              "    </tr>\n",
              "  </tbody>\n",
              "</table>\n",
              "<p>1281 rows × 9 columns</p>\n",
              "</div>\n",
              "      <button class=\"colab-df-convert\" onclick=\"convertToInteractive('df-5af01c3e-1e5c-45a9-b7af-aad68f61d6c5')\"\n",
              "              title=\"Convert this dataframe to an interactive table.\"\n",
              "              style=\"display:none;\">\n",
              "        \n",
              "  <svg xmlns=\"http://www.w3.org/2000/svg\" height=\"24px\"viewBox=\"0 0 24 24\"\n",
              "       width=\"24px\">\n",
              "    <path d=\"M0 0h24v24H0V0z\" fill=\"none\"/>\n",
              "    <path d=\"M18.56 5.44l.94 2.06.94-2.06 2.06-.94-2.06-.94-.94-2.06-.94 2.06-2.06.94zm-11 1L8.5 8.5l.94-2.06 2.06-.94-2.06-.94L8.5 2.5l-.94 2.06-2.06.94zm10 10l.94 2.06.94-2.06 2.06-.94-2.06-.94-.94-2.06-.94 2.06-2.06.94z\"/><path d=\"M17.41 7.96l-1.37-1.37c-.4-.4-.92-.59-1.43-.59-.52 0-1.04.2-1.43.59L10.3 9.45l-7.72 7.72c-.78.78-.78 2.05 0 2.83L4 21.41c.39.39.9.59 1.41.59.51 0 1.02-.2 1.41-.59l7.78-7.78 2.81-2.81c.8-.78.8-2.07 0-2.86zM5.41 20L4 18.59l7.72-7.72 1.47 1.35L5.41 20z\"/>\n",
              "  </svg>\n",
              "      </button>\n",
              "      \n",
              "  <style>\n",
              "    .colab-df-container {\n",
              "      display:flex;\n",
              "      flex-wrap:wrap;\n",
              "      gap: 12px;\n",
              "    }\n",
              "\n",
              "    .colab-df-convert {\n",
              "      background-color: #E8F0FE;\n",
              "      border: none;\n",
              "      border-radius: 50%;\n",
              "      cursor: pointer;\n",
              "      display: none;\n",
              "      fill: #1967D2;\n",
              "      height: 32px;\n",
              "      padding: 0 0 0 0;\n",
              "      width: 32px;\n",
              "    }\n",
              "\n",
              "    .colab-df-convert:hover {\n",
              "      background-color: #E2EBFA;\n",
              "      box-shadow: 0px 1px 2px rgba(60, 64, 67, 0.3), 0px 1px 3px 1px rgba(60, 64, 67, 0.15);\n",
              "      fill: #174EA6;\n",
              "    }\n",
              "\n",
              "    [theme=dark] .colab-df-convert {\n",
              "      background-color: #3B4455;\n",
              "      fill: #D2E3FC;\n",
              "    }\n",
              "\n",
              "    [theme=dark] .colab-df-convert:hover {\n",
              "      background-color: #434B5C;\n",
              "      box-shadow: 0px 1px 3px 1px rgba(0, 0, 0, 0.15);\n",
              "      filter: drop-shadow(0px 1px 2px rgba(0, 0, 0, 0.3));\n",
              "      fill: #FFFFFF;\n",
              "    }\n",
              "  </style>\n",
              "\n",
              "      <script>\n",
              "        const buttonEl =\n",
              "          document.querySelector('#df-5af01c3e-1e5c-45a9-b7af-aad68f61d6c5 button.colab-df-convert');\n",
              "        buttonEl.style.display =\n",
              "          google.colab.kernel.accessAllowed ? 'block' : 'none';\n",
              "\n",
              "        async function convertToInteractive(key) {\n",
              "          const element = document.querySelector('#df-5af01c3e-1e5c-45a9-b7af-aad68f61d6c5');\n",
              "          const dataTable =\n",
              "            await google.colab.kernel.invokeFunction('convertToInteractive',\n",
              "                                                     [key], {});\n",
              "          if (!dataTable) return;\n",
              "\n",
              "          const docLinkHtml = 'Like what you see? Visit the ' +\n",
              "            '<a target=\"_blank\" href=https://colab.research.google.com/notebooks/data_table.ipynb>data table notebook</a>'\n",
              "            + ' to learn more about interactive tables.';\n",
              "          element.innerHTML = '';\n",
              "          dataTable['output_type'] = 'display_data';\n",
              "          await google.colab.output.renderOutput(dataTable, element);\n",
              "          const docLink = document.createElement('div');\n",
              "          docLink.innerHTML = docLinkHtml;\n",
              "          element.appendChild(docLink);\n",
              "        }\n",
              "      </script>\n",
              "    </div>\n",
              "  </div>\n",
              "  "
            ],
            "text/plain": [
              "            EGIE3.SA  ITSA4.SA  SULA11.SA  ...  BBAS3.SA  CSAN3.SA  B3SA3.SA\n",
              "Date                                       ...                              \n",
              "2017-01-02       NaN       NaN        NaN  ...       NaN       NaN       NaN\n",
              "2017-01-03  0.038006  0.042915   0.047429  ...  0.044736  0.045516  0.040330\n",
              "2017-01-04 -0.012789  0.005817   0.036387  ... -0.005222  0.000514  0.018703\n",
              "2017-01-05 -0.007301  0.009238  -0.002104  ... -0.002446 -0.001801 -0.012235\n",
              "2017-01-06 -0.012479 -0.003454  -0.007930  ...  0.010788 -0.023451 -0.000586\n",
              "...              ...       ...        ...  ...       ...       ...       ...\n",
              "2022-02-17  0.000493 -0.010451   0.018095  ...  0.000000 -0.002621 -0.027094\n",
              "2022-02-18 -0.003210  0.004764  -0.022768  ...  0.020174 -0.049315  0.004918\n",
              "2022-02-21  0.006163 -0.029911  -0.044700  ... -0.021591 -0.027016 -0.014115\n",
              "2022-02-22 -0.000246  0.000000   0.019002  ...  0.013793 -0.025826  0.030104\n",
              "2022-02-23  0.008811 -0.012814   0.214375  ...  0.000559 -0.009248  0.006188\n",
              "\n",
              "[1281 rows x 9 columns]"
            ]
          },
          "metadata": {},
          "execution_count": 5
        }
      ]
    },
    {
      "cell_type": "code",
      "source": [
        "ret_log.mean() * 250"
      ],
      "metadata": {
        "colab": {
          "base_uri": "https://localhost:8080/"
        },
        "id": "63eyX6qCuhH4",
        "outputId": "e11e0f27-7765-4f9e-a0b8-476aa177498b"
      },
      "execution_count": 7,
      "outputs": [
        {
          "output_type": "execute_result",
          "data": {
            "text/plain": [
              "EGIE3.SA     0.149037\n",
              "ITSA4.SA     0.124913\n",
              "SULA11.SA    0.185770\n",
              "ABEV3.SA     0.011428\n",
              "LREN3.SA     0.074095\n",
              "SLCE3.SA     0.445543\n",
              "BBAS3.SA     0.100118\n",
              "CSAN3.SA     0.178591\n",
              "B3SA3.SA     0.226667\n",
              "dtype: float64"
            ]
          },
          "metadata": {},
          "execution_count": 7
        }
      ]
    },
    {
      "cell_type": "code",
      "source": [
        "ret_log.cov() * 250"
      ],
      "metadata": {
        "colab": {
          "base_uri": "https://localhost:8080/",
          "height": 331
        },
        "id": "jISX7VnRuCG8",
        "outputId": "046a1d0b-f96f-46c8-dec3-b55e6f4cc695"
      },
      "execution_count": 8,
      "outputs": [
        {
          "output_type": "execute_result",
          "data": {
            "text/html": [
              "\n",
              "  <div id=\"df-377a7230-1cf1-4866-9472-ef9c2924f3dc\">\n",
              "    <div class=\"colab-df-container\">\n",
              "      <div>\n",
              "<style scoped>\n",
              "    .dataframe tbody tr th:only-of-type {\n",
              "        vertical-align: middle;\n",
              "    }\n",
              "\n",
              "    .dataframe tbody tr th {\n",
              "        vertical-align: top;\n",
              "    }\n",
              "\n",
              "    .dataframe thead th {\n",
              "        text-align: right;\n",
              "    }\n",
              "</style>\n",
              "<table border=\"1\" class=\"dataframe\">\n",
              "  <thead>\n",
              "    <tr style=\"text-align: right;\">\n",
              "      <th></th>\n",
              "      <th>EGIE3.SA</th>\n",
              "      <th>ITSA4.SA</th>\n",
              "      <th>SULA11.SA</th>\n",
              "      <th>ABEV3.SA</th>\n",
              "      <th>LREN3.SA</th>\n",
              "      <th>SLCE3.SA</th>\n",
              "      <th>BBAS3.SA</th>\n",
              "      <th>CSAN3.SA</th>\n",
              "      <th>B3SA3.SA</th>\n",
              "    </tr>\n",
              "  </thead>\n",
              "  <tbody>\n",
              "    <tr>\n",
              "      <th>EGIE3.SA</th>\n",
              "      <td>0.058743</td>\n",
              "      <td>0.041147</td>\n",
              "      <td>0.034951</td>\n",
              "      <td>0.029775</td>\n",
              "      <td>0.049152</td>\n",
              "      <td>0.022573</td>\n",
              "      <td>0.055358</td>\n",
              "      <td>0.043302</td>\n",
              "      <td>0.049068</td>\n",
              "    </tr>\n",
              "    <tr>\n",
              "      <th>ITSA4.SA</th>\n",
              "      <td>0.041147</td>\n",
              "      <td>0.094725</td>\n",
              "      <td>0.049119</td>\n",
              "      <td>0.047293</td>\n",
              "      <td>0.075010</td>\n",
              "      <td>0.024161</td>\n",
              "      <td>0.102064</td>\n",
              "      <td>0.063832</td>\n",
              "      <td>0.074074</td>\n",
              "    </tr>\n",
              "    <tr>\n",
              "      <th>SULA11.SA</th>\n",
              "      <td>0.034951</td>\n",
              "      <td>0.049119</td>\n",
              "      <td>0.151713</td>\n",
              "      <td>0.040051</td>\n",
              "      <td>0.074085</td>\n",
              "      <td>0.034430</td>\n",
              "      <td>0.070831</td>\n",
              "      <td>0.061564</td>\n",
              "      <td>0.071904</td>\n",
              "    </tr>\n",
              "    <tr>\n",
              "      <th>ABEV3.SA</th>\n",
              "      <td>0.029775</td>\n",
              "      <td>0.047293</td>\n",
              "      <td>0.040051</td>\n",
              "      <td>0.089019</td>\n",
              "      <td>0.056679</td>\n",
              "      <td>0.024336</td>\n",
              "      <td>0.056609</td>\n",
              "      <td>0.048211</td>\n",
              "      <td>0.049757</td>\n",
              "    </tr>\n",
              "    <tr>\n",
              "      <th>LREN3.SA</th>\n",
              "      <td>0.049152</td>\n",
              "      <td>0.075010</td>\n",
              "      <td>0.074085</td>\n",
              "      <td>0.056679</td>\n",
              "      <td>0.168655</td>\n",
              "      <td>0.026703</td>\n",
              "      <td>0.105430</td>\n",
              "      <td>0.075254</td>\n",
              "      <td>0.092208</td>\n",
              "    </tr>\n",
              "    <tr>\n",
              "      <th>SLCE3.SA</th>\n",
              "      <td>0.022573</td>\n",
              "      <td>0.024161</td>\n",
              "      <td>0.034430</td>\n",
              "      <td>0.024336</td>\n",
              "      <td>0.026703</td>\n",
              "      <td>0.155283</td>\n",
              "      <td>0.035823</td>\n",
              "      <td>0.038337</td>\n",
              "      <td>0.038510</td>\n",
              "    </tr>\n",
              "    <tr>\n",
              "      <th>BBAS3.SA</th>\n",
              "      <td>0.055358</td>\n",
              "      <td>0.102064</td>\n",
              "      <td>0.070831</td>\n",
              "      <td>0.056609</td>\n",
              "      <td>0.105430</td>\n",
              "      <td>0.035823</td>\n",
              "      <td>0.175418</td>\n",
              "      <td>0.085440</td>\n",
              "      <td>0.102067</td>\n",
              "    </tr>\n",
              "    <tr>\n",
              "      <th>CSAN3.SA</th>\n",
              "      <td>0.043302</td>\n",
              "      <td>0.063832</td>\n",
              "      <td>0.061564</td>\n",
              "      <td>0.048211</td>\n",
              "      <td>0.075254</td>\n",
              "      <td>0.038337</td>\n",
              "      <td>0.085440</td>\n",
              "      <td>0.146371</td>\n",
              "      <td>0.076737</td>\n",
              "    </tr>\n",
              "    <tr>\n",
              "      <th>B3SA3.SA</th>\n",
              "      <td>0.049068</td>\n",
              "      <td>0.074074</td>\n",
              "      <td>0.071904</td>\n",
              "      <td>0.049757</td>\n",
              "      <td>0.092208</td>\n",
              "      <td>0.038510</td>\n",
              "      <td>0.102067</td>\n",
              "      <td>0.076737</td>\n",
              "      <td>0.149556</td>\n",
              "    </tr>\n",
              "  </tbody>\n",
              "</table>\n",
              "</div>\n",
              "      <button class=\"colab-df-convert\" onclick=\"convertToInteractive('df-377a7230-1cf1-4866-9472-ef9c2924f3dc')\"\n",
              "              title=\"Convert this dataframe to an interactive table.\"\n",
              "              style=\"display:none;\">\n",
              "        \n",
              "  <svg xmlns=\"http://www.w3.org/2000/svg\" height=\"24px\"viewBox=\"0 0 24 24\"\n",
              "       width=\"24px\">\n",
              "    <path d=\"M0 0h24v24H0V0z\" fill=\"none\"/>\n",
              "    <path d=\"M18.56 5.44l.94 2.06.94-2.06 2.06-.94-2.06-.94-.94-2.06-.94 2.06-2.06.94zm-11 1L8.5 8.5l.94-2.06 2.06-.94-2.06-.94L8.5 2.5l-.94 2.06-2.06.94zm10 10l.94 2.06.94-2.06 2.06-.94-2.06-.94-.94-2.06-.94 2.06-2.06.94z\"/><path d=\"M17.41 7.96l-1.37-1.37c-.4-.4-.92-.59-1.43-.59-.52 0-1.04.2-1.43.59L10.3 9.45l-7.72 7.72c-.78.78-.78 2.05 0 2.83L4 21.41c.39.39.9.59 1.41.59.51 0 1.02-.2 1.41-.59l7.78-7.78 2.81-2.81c.8-.78.8-2.07 0-2.86zM5.41 20L4 18.59l7.72-7.72 1.47 1.35L5.41 20z\"/>\n",
              "  </svg>\n",
              "      </button>\n",
              "      \n",
              "  <style>\n",
              "    .colab-df-container {\n",
              "      display:flex;\n",
              "      flex-wrap:wrap;\n",
              "      gap: 12px;\n",
              "    }\n",
              "\n",
              "    .colab-df-convert {\n",
              "      background-color: #E8F0FE;\n",
              "      border: none;\n",
              "      border-radius: 50%;\n",
              "      cursor: pointer;\n",
              "      display: none;\n",
              "      fill: #1967D2;\n",
              "      height: 32px;\n",
              "      padding: 0 0 0 0;\n",
              "      width: 32px;\n",
              "    }\n",
              "\n",
              "    .colab-df-convert:hover {\n",
              "      background-color: #E2EBFA;\n",
              "      box-shadow: 0px 1px 2px rgba(60, 64, 67, 0.3), 0px 1px 3px 1px rgba(60, 64, 67, 0.15);\n",
              "      fill: #174EA6;\n",
              "    }\n",
              "\n",
              "    [theme=dark] .colab-df-convert {\n",
              "      background-color: #3B4455;\n",
              "      fill: #D2E3FC;\n",
              "    }\n",
              "\n",
              "    [theme=dark] .colab-df-convert:hover {\n",
              "      background-color: #434B5C;\n",
              "      box-shadow: 0px 1px 3px 1px rgba(0, 0, 0, 0.15);\n",
              "      filter: drop-shadow(0px 1px 2px rgba(0, 0, 0, 0.3));\n",
              "      fill: #FFFFFF;\n",
              "    }\n",
              "  </style>\n",
              "\n",
              "      <script>\n",
              "        const buttonEl =\n",
              "          document.querySelector('#df-377a7230-1cf1-4866-9472-ef9c2924f3dc button.colab-df-convert');\n",
              "        buttonEl.style.display =\n",
              "          google.colab.kernel.accessAllowed ? 'block' : 'none';\n",
              "\n",
              "        async function convertToInteractive(key) {\n",
              "          const element = document.querySelector('#df-377a7230-1cf1-4866-9472-ef9c2924f3dc');\n",
              "          const dataTable =\n",
              "            await google.colab.kernel.invokeFunction('convertToInteractive',\n",
              "                                                     [key], {});\n",
              "          if (!dataTable) return;\n",
              "\n",
              "          const docLinkHtml = 'Like what you see? Visit the ' +\n",
              "            '<a target=\"_blank\" href=https://colab.research.google.com/notebooks/data_table.ipynb>data table notebook</a>'\n",
              "            + ' to learn more about interactive tables.';\n",
              "          element.innerHTML = '';\n",
              "          dataTable['output_type'] = 'display_data';\n",
              "          await google.colab.output.renderOutput(dataTable, element);\n",
              "          const docLink = document.createElement('div');\n",
              "          docLink.innerHTML = docLinkHtml;\n",
              "          element.appendChild(docLink);\n",
              "        }\n",
              "      </script>\n",
              "    </div>\n",
              "  </div>\n",
              "  "
            ],
            "text/plain": [
              "           EGIE3.SA  ITSA4.SA  SULA11.SA  ...  BBAS3.SA  CSAN3.SA  B3SA3.SA\n",
              "EGIE3.SA   0.058743  0.041147   0.034951  ...  0.055358  0.043302  0.049068\n",
              "ITSA4.SA   0.041147  0.094725   0.049119  ...  0.102064  0.063832  0.074074\n",
              "SULA11.SA  0.034951  0.049119   0.151713  ...  0.070831  0.061564  0.071904\n",
              "ABEV3.SA   0.029775  0.047293   0.040051  ...  0.056609  0.048211  0.049757\n",
              "LREN3.SA   0.049152  0.075010   0.074085  ...  0.105430  0.075254  0.092208\n",
              "SLCE3.SA   0.022573  0.024161   0.034430  ...  0.035823  0.038337  0.038510\n",
              "BBAS3.SA   0.055358  0.102064   0.070831  ...  0.175418  0.085440  0.102067\n",
              "CSAN3.SA   0.043302  0.063832   0.061564  ...  0.085440  0.146371  0.076737\n",
              "B3SA3.SA   0.049068  0.074074   0.071904  ...  0.102067  0.076737  0.149556\n",
              "\n",
              "[9 rows x 9 columns]"
            ]
          },
          "metadata": {},
          "execution_count": 8
        }
      ]
    },
    {
      "cell_type": "code",
      "source": [
        "ret_log.corr()"
      ],
      "metadata": {
        "colab": {
          "base_uri": "https://localhost:8080/",
          "height": 331
        },
        "id": "OSfcpPD7uoal",
        "outputId": "5faf68ba-d001-49fd-9fa4-e85ea889c2bc"
      },
      "execution_count": 9,
      "outputs": [
        {
          "output_type": "execute_result",
          "data": {
            "text/html": [
              "\n",
              "  <div id=\"df-3d6e0d71-2014-489c-bdc5-6ef1d14836fe\">\n",
              "    <div class=\"colab-df-container\">\n",
              "      <div>\n",
              "<style scoped>\n",
              "    .dataframe tbody tr th:only-of-type {\n",
              "        vertical-align: middle;\n",
              "    }\n",
              "\n",
              "    .dataframe tbody tr th {\n",
              "        vertical-align: top;\n",
              "    }\n",
              "\n",
              "    .dataframe thead th {\n",
              "        text-align: right;\n",
              "    }\n",
              "</style>\n",
              "<table border=\"1\" class=\"dataframe\">\n",
              "  <thead>\n",
              "    <tr style=\"text-align: right;\">\n",
              "      <th></th>\n",
              "      <th>EGIE3.SA</th>\n",
              "      <th>ITSA4.SA</th>\n",
              "      <th>SULA11.SA</th>\n",
              "      <th>ABEV3.SA</th>\n",
              "      <th>LREN3.SA</th>\n",
              "      <th>SLCE3.SA</th>\n",
              "      <th>BBAS3.SA</th>\n",
              "      <th>CSAN3.SA</th>\n",
              "      <th>B3SA3.SA</th>\n",
              "    </tr>\n",
              "  </thead>\n",
              "  <tbody>\n",
              "    <tr>\n",
              "      <th>EGIE3.SA</th>\n",
              "      <td>1.000000</td>\n",
              "      <td>0.551610</td>\n",
              "      <td>0.370233</td>\n",
              "      <td>0.411746</td>\n",
              "      <td>0.493812</td>\n",
              "      <td>0.236343</td>\n",
              "      <td>0.545335</td>\n",
              "      <td>0.466981</td>\n",
              "      <td>0.523499</td>\n",
              "    </tr>\n",
              "    <tr>\n",
              "      <th>ITSA4.SA</th>\n",
              "      <td>0.551610</td>\n",
              "      <td>1.000000</td>\n",
              "      <td>0.409736</td>\n",
              "      <td>0.515013</td>\n",
              "      <td>0.593455</td>\n",
              "      <td>0.199215</td>\n",
              "      <td>0.791778</td>\n",
              "      <td>0.542097</td>\n",
              "      <td>0.622344</td>\n",
              "    </tr>\n",
              "    <tr>\n",
              "      <th>SULA11.SA</th>\n",
              "      <td>0.370233</td>\n",
              "      <td>0.409736</td>\n",
              "      <td>1.000000</td>\n",
              "      <td>0.344632</td>\n",
              "      <td>0.463144</td>\n",
              "      <td>0.224314</td>\n",
              "      <td>0.434186</td>\n",
              "      <td>0.413128</td>\n",
              "      <td>0.477355</td>\n",
              "    </tr>\n",
              "    <tr>\n",
              "      <th>ABEV3.SA</th>\n",
              "      <td>0.411746</td>\n",
              "      <td>0.515013</td>\n",
              "      <td>0.344632</td>\n",
              "      <td>1.000000</td>\n",
              "      <td>0.462569</td>\n",
              "      <td>0.206984</td>\n",
              "      <td>0.453007</td>\n",
              "      <td>0.422354</td>\n",
              "      <td>0.431231</td>\n",
              "    </tr>\n",
              "    <tr>\n",
              "      <th>LREN3.SA</th>\n",
              "      <td>0.493812</td>\n",
              "      <td>0.593455</td>\n",
              "      <td>0.463144</td>\n",
              "      <td>0.462569</td>\n",
              "      <td>1.000000</td>\n",
              "      <td>0.165005</td>\n",
              "      <td>0.612954</td>\n",
              "      <td>0.478965</td>\n",
              "      <td>0.580589</td>\n",
              "    </tr>\n",
              "    <tr>\n",
              "      <th>SLCE3.SA</th>\n",
              "      <td>0.236343</td>\n",
              "      <td>0.199215</td>\n",
              "      <td>0.224314</td>\n",
              "      <td>0.206984</td>\n",
              "      <td>0.165005</td>\n",
              "      <td>1.000000</td>\n",
              "      <td>0.217054</td>\n",
              "      <td>0.254290</td>\n",
              "      <td>0.252702</td>\n",
              "    </tr>\n",
              "    <tr>\n",
              "      <th>BBAS3.SA</th>\n",
              "      <td>0.545335</td>\n",
              "      <td>0.791778</td>\n",
              "      <td>0.434186</td>\n",
              "      <td>0.453007</td>\n",
              "      <td>0.612954</td>\n",
              "      <td>0.217054</td>\n",
              "      <td>1.000000</td>\n",
              "      <td>0.533209</td>\n",
              "      <td>0.630154</td>\n",
              "    </tr>\n",
              "    <tr>\n",
              "      <th>CSAN3.SA</th>\n",
              "      <td>0.466981</td>\n",
              "      <td>0.542097</td>\n",
              "      <td>0.413128</td>\n",
              "      <td>0.422354</td>\n",
              "      <td>0.478965</td>\n",
              "      <td>0.254290</td>\n",
              "      <td>0.533209</td>\n",
              "      <td>1.000000</td>\n",
              "      <td>0.518652</td>\n",
              "    </tr>\n",
              "    <tr>\n",
              "      <th>B3SA3.SA</th>\n",
              "      <td>0.523499</td>\n",
              "      <td>0.622344</td>\n",
              "      <td>0.477355</td>\n",
              "      <td>0.431231</td>\n",
              "      <td>0.580589</td>\n",
              "      <td>0.252702</td>\n",
              "      <td>0.630154</td>\n",
              "      <td>0.518652</td>\n",
              "      <td>1.000000</td>\n",
              "    </tr>\n",
              "  </tbody>\n",
              "</table>\n",
              "</div>\n",
              "      <button class=\"colab-df-convert\" onclick=\"convertToInteractive('df-3d6e0d71-2014-489c-bdc5-6ef1d14836fe')\"\n",
              "              title=\"Convert this dataframe to an interactive table.\"\n",
              "              style=\"display:none;\">\n",
              "        \n",
              "  <svg xmlns=\"http://www.w3.org/2000/svg\" height=\"24px\"viewBox=\"0 0 24 24\"\n",
              "       width=\"24px\">\n",
              "    <path d=\"M0 0h24v24H0V0z\" fill=\"none\"/>\n",
              "    <path d=\"M18.56 5.44l.94 2.06.94-2.06 2.06-.94-2.06-.94-.94-2.06-.94 2.06-2.06.94zm-11 1L8.5 8.5l.94-2.06 2.06-.94-2.06-.94L8.5 2.5l-.94 2.06-2.06.94zm10 10l.94 2.06.94-2.06 2.06-.94-2.06-.94-.94-2.06-.94 2.06-2.06.94z\"/><path d=\"M17.41 7.96l-1.37-1.37c-.4-.4-.92-.59-1.43-.59-.52 0-1.04.2-1.43.59L10.3 9.45l-7.72 7.72c-.78.78-.78 2.05 0 2.83L4 21.41c.39.39.9.59 1.41.59.51 0 1.02-.2 1.41-.59l7.78-7.78 2.81-2.81c.8-.78.8-2.07 0-2.86zM5.41 20L4 18.59l7.72-7.72 1.47 1.35L5.41 20z\"/>\n",
              "  </svg>\n",
              "      </button>\n",
              "      \n",
              "  <style>\n",
              "    .colab-df-container {\n",
              "      display:flex;\n",
              "      flex-wrap:wrap;\n",
              "      gap: 12px;\n",
              "    }\n",
              "\n",
              "    .colab-df-convert {\n",
              "      background-color: #E8F0FE;\n",
              "      border: none;\n",
              "      border-radius: 50%;\n",
              "      cursor: pointer;\n",
              "      display: none;\n",
              "      fill: #1967D2;\n",
              "      height: 32px;\n",
              "      padding: 0 0 0 0;\n",
              "      width: 32px;\n",
              "    }\n",
              "\n",
              "    .colab-df-convert:hover {\n",
              "      background-color: #E2EBFA;\n",
              "      box-shadow: 0px 1px 2px rgba(60, 64, 67, 0.3), 0px 1px 3px 1px rgba(60, 64, 67, 0.15);\n",
              "      fill: #174EA6;\n",
              "    }\n",
              "\n",
              "    [theme=dark] .colab-df-convert {\n",
              "      background-color: #3B4455;\n",
              "      fill: #D2E3FC;\n",
              "    }\n",
              "\n",
              "    [theme=dark] .colab-df-convert:hover {\n",
              "      background-color: #434B5C;\n",
              "      box-shadow: 0px 1px 3px 1px rgba(0, 0, 0, 0.15);\n",
              "      filter: drop-shadow(0px 1px 2px rgba(0, 0, 0, 0.3));\n",
              "      fill: #FFFFFF;\n",
              "    }\n",
              "  </style>\n",
              "\n",
              "      <script>\n",
              "        const buttonEl =\n",
              "          document.querySelector('#df-3d6e0d71-2014-489c-bdc5-6ef1d14836fe button.colab-df-convert');\n",
              "        buttonEl.style.display =\n",
              "          google.colab.kernel.accessAllowed ? 'block' : 'none';\n",
              "\n",
              "        async function convertToInteractive(key) {\n",
              "          const element = document.querySelector('#df-3d6e0d71-2014-489c-bdc5-6ef1d14836fe');\n",
              "          const dataTable =\n",
              "            await google.colab.kernel.invokeFunction('convertToInteractive',\n",
              "                                                     [key], {});\n",
              "          if (!dataTable) return;\n",
              "\n",
              "          const docLinkHtml = 'Like what you see? Visit the ' +\n",
              "            '<a target=\"_blank\" href=https://colab.research.google.com/notebooks/data_table.ipynb>data table notebook</a>'\n",
              "            + ' to learn more about interactive tables.';\n",
              "          element.innerHTML = '';\n",
              "          dataTable['output_type'] = 'display_data';\n",
              "          await google.colab.output.renderOutput(dataTable, element);\n",
              "          const docLink = document.createElement('div');\n",
              "          docLink.innerHTML = docLinkHtml;\n",
              "          element.appendChild(docLink);\n",
              "        }\n",
              "      </script>\n",
              "    </div>\n",
              "  </div>\n",
              "  "
            ],
            "text/plain": [
              "           EGIE3.SA  ITSA4.SA  SULA11.SA  ...  BBAS3.SA  CSAN3.SA  B3SA3.SA\n",
              "EGIE3.SA   1.000000  0.551610   0.370233  ...  0.545335  0.466981  0.523499\n",
              "ITSA4.SA   0.551610  1.000000   0.409736  ...  0.791778  0.542097  0.622344\n",
              "SULA11.SA  0.370233  0.409736   1.000000  ...  0.434186  0.413128  0.477355\n",
              "ABEV3.SA   0.411746  0.515013   0.344632  ...  0.453007  0.422354  0.431231\n",
              "LREN3.SA   0.493812  0.593455   0.463144  ...  0.612954  0.478965  0.580589\n",
              "SLCE3.SA   0.236343  0.199215   0.224314  ...  0.217054  0.254290  0.252702\n",
              "BBAS3.SA   0.545335  0.791778   0.434186  ...  1.000000  0.533209  0.630154\n",
              "CSAN3.SA   0.466981  0.542097   0.413128  ...  0.533209  1.000000  0.518652\n",
              "B3SA3.SA   0.523499  0.622344   0.477355  ...  0.630154  0.518652  1.000000\n",
              "\n",
              "[9 rows x 9 columns]"
            ]
          },
          "metadata": {},
          "execution_count": 9
        }
      ]
    },
    {
      "cell_type": "markdown",
      "metadata": {
        "id": "SbxskRNOr2VF"
      },
      "source": [
        "Crie uma variável que conte o número de ativos em seu portfólio."
      ]
    },
    {
      "cell_type": "code",
      "source": [
        "num_ativo = len(acoes)"
      ],
      "metadata": {
        "id": "na5HyFUrusZl"
      },
      "execution_count": 11,
      "outputs": []
    },
    {
      "cell_type": "code",
      "source": [
        "num_ativo"
      ],
      "metadata": {
        "colab": {
          "base_uri": "https://localhost:8080/"
        },
        "id": "WC9ahz4Iu1sk",
        "outputId": "8f3885d5-0736-4e78-d9c7-eb901d34a7e7"
      },
      "execution_count": 12,
      "outputs": [
        {
          "output_type": "execute_result",
          "data": {
            "text/plain": [
              "9"
            ]
          },
          "metadata": {},
          "execution_count": 12
        }
      ]
    },
    {
      "cell_type": "markdown",
      "metadata": {
        "id": "iCGcvd8fr2VG"
      },
      "source": [
        "O portfólio não precisa ser igualmente ponderado. Então, crie uma variável chamada \"pesos\". Deixe que ele contenha tantos valores gerados aleatoriamente quanto os ativos em seu portfólio. Não se esqueça de que esses valores não devem ser menores que 0 nem iguais ou maiores que 1! <br />\n",
        "\n",
        "*Dica: Existe uma função NumPy específica que permite gerar esses valores. É o que usamos no vídeo da aula - NumPy.random.random ().*"
      ]
    },
    {
      "cell_type": "code",
      "source": [
        "arr = np.random.random(9) # JEITO ERRADO!!\n",
        "arr"
      ],
      "metadata": {
        "colab": {
          "base_uri": "https://localhost:8080/"
        },
        "id": "Ghw2yC8ou3Ck",
        "outputId": "caa769e7-bf13-4f3c-c838-3b6cfa103337"
      },
      "execution_count": 13,
      "outputs": [
        {
          "output_type": "execute_result",
          "data": {
            "text/plain": [
              "array([0.91476493, 0.96483164, 0.47659317, 0.70607324, 0.00597155,\n",
              "       0.02946539, 0.90394453, 0.24948627, 0.81941377])"
            ]
          },
          "metadata": {},
          "execution_count": 13
        }
      ]
    },
    {
      "cell_type": "code",
      "source": [
        "arr[0] + arr[1] + arr[2] + arr[3] + arr[4] + arr[5] + arr[6] + arr[7] + arr[8]\n",
        "# VEJA QUE A SOMA NÃO DÁ IGUAL A 1!!"
      ],
      "metadata": {
        "colab": {
          "base_uri": "https://localhost:8080/"
        },
        "id": "69hSuzHqvKbQ",
        "outputId": "939c22a5-f6cb-4dbc-b1c5-05e59e5db6cc"
      },
      "execution_count": 14,
      "outputs": [
        {
          "output_type": "execute_result",
          "data": {
            "text/plain": [
              "5.070544495281401"
            ]
          },
          "metadata": {},
          "execution_count": 14
        }
      ]
    },
    {
      "cell_type": "markdown",
      "source": [
        "OU"
      ],
      "metadata": {
        "id": "vF-CemZ9wCH_"
      }
    },
    {
      "cell_type": "code",
      "source": [
        "np.sum(arr)\n",
        "# VEJA QUE A SOMA NÃO DÁ IGUAL A 1!!"
      ],
      "metadata": {
        "colab": {
          "base_uri": "https://localhost:8080/"
        },
        "id": "L2gZmp9OwEsn",
        "outputId": "98b837a8-669e-4023-d810-2b5074af28dc"
      },
      "execution_count": 16,
      "outputs": [
        {
          "output_type": "execute_result",
          "data": {
            "text/plain": [
              "5.070544495281401"
            ]
          },
          "metadata": {},
          "execution_count": 16
        }
      ]
    },
    {
      "cell_type": "markdown",
      "source": [
        "Fazendo da forma correta em que a soma dos pesos dê igual a 1"
      ],
      "metadata": {
        "id": "-b5YpnenwPcs"
      }
    },
    {
      "cell_type": "code",
      "source": [
        "pesos = np.random.random(num_ativo)\n",
        "pesos"
      ],
      "metadata": {
        "colab": {
          "base_uri": "https://localhost:8080/"
        },
        "id": "YmuiPJaVva38",
        "outputId": "db859ee1-58a3-4055-8da3-4493b8a3ccd7"
      },
      "execution_count": 15,
      "outputs": [
        {
          "output_type": "execute_result",
          "data": {
            "text/plain": [
              "array([0.93994874, 0.82439149, 0.98469739, 0.69047933, 0.30138918,\n",
              "       0.83281653, 0.61182352, 0.3388705 , 0.50393367])"
            ]
          },
          "metadata": {},
          "execution_count": 15
        }
      ]
    },
    {
      "cell_type": "code",
      "source": [
        "pesos /= np.sum(pesos) # é o mesmo que pesos = pesos / sum(pesos)\n",
        "pesos                  # a linha acima serve para criar nove pesos cuja soma é igual a 1 "
      ],
      "metadata": {
        "colab": {
          "base_uri": "https://localhost:8080/"
        },
        "id": "STblpLeEvrhK",
        "outputId": "6c393469-4e8f-4508-b951-d0c220155c5f"
      },
      "execution_count": 18,
      "outputs": [
        {
          "output_type": "execute_result",
          "data": {
            "text/plain": [
              "array([0.15592139, 0.13675242, 0.16334442, 0.11453869, 0.0499953 ,\n",
              "       0.13814999, 0.10149104, 0.05621281, 0.08359396])"
            ]
          },
          "metadata": {},
          "execution_count": 18
        }
      ]
    },
    {
      "cell_type": "markdown",
      "metadata": {
        "id": "ZEVxMs8Mr2VH"
      },
      "source": [
        "Some os valores obtidos para obter 1 - somando os pesos para 100%!"
      ]
    },
    {
      "cell_type": "code",
      "source": [
        "np.sum(pesos) # veja que agora a soma deu igual a 1"
      ],
      "metadata": {
        "colab": {
          "base_uri": "https://localhost:8080/"
        },
        "id": "98hOcZ_jwhhx",
        "outputId": "a5d98524-1164-4ad4-a969-794a711b0365"
      },
      "execution_count": 19,
      "outputs": [
        {
          "output_type": "execute_result",
          "data": {
            "text/plain": [
              "1.0"
            ]
          },
          "metadata": {},
          "execution_count": 19
        }
      ]
    },
    {
      "cell_type": "markdown",
      "source": [
        "continuação na parte 2"
      ],
      "metadata": {
        "id": "zZ_dv1kbwjQg"
      }
    }
  ]
}