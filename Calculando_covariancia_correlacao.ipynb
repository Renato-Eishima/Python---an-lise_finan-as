{
  "nbformat": 4,
  "nbformat_minor": 0,
  "metadata": {
    "colab": {
      "name": "Calculando_covariancia_correlacao.ipynb",
      "provenance": [],
      "collapsed_sections": [],
      "authorship_tag": "ABX9TyNVYFtqhRK2ZNCjSY8xfXAD",
      "include_colab_link": true
    },
    "kernelspec": {
      "name": "python3",
      "display_name": "Python 3"
    },
    "language_info": {
      "name": "python"
    }
  },
  "cells": [
    {
      "cell_type": "markdown",
      "metadata": {
        "id": "view-in-github",
        "colab_type": "text"
      },
      "source": [
        "<a href=\"https://colab.research.google.com/github/Renato-Eishima/Python_analise_financas/blob/main/Calculando_covariancia_correlacao.ipynb\" target=\"_parent\"><img src=\"https://colab.research.google.com/assets/colab-badge.svg\" alt=\"Open In Colab\"/></a>"
      ]
    },
    {
      "cell_type": "markdown",
      "metadata": {
        "id": "WZPEQzrXwmw_"
      },
      "source": [
        "## Calculando a Covariância e a Correlação"
      ]
    },
    {
      "cell_type": "code",
      "source": [
        "!pip install -q yfinance"
      ],
      "metadata": {
        "id": "9f_U_jYRwy-T",
        "colab": {
          "base_uri": "https://localhost:8080/"
        },
        "outputId": "e26eb17a-4d9f-4a0e-e7ef-7b9c72381219"
      },
      "execution_count": 1,
      "outputs": [
        {
          "output_type": "stream",
          "name": "stdout",
          "text": [
            "\u001b[K     |████████████████████████████████| 63 kB 1.3 MB/s \n",
            "\u001b[K     |████████████████████████████████| 6.4 MB 11.9 MB/s \n",
            "\u001b[31mERROR: pip's dependency resolver does not currently take into account all the packages that are installed. This behaviour is the source of the following dependency conflicts.\n",
            "google-colab 1.0.0 requires requests~=2.23.0, but you have requests 2.27.1 which is incompatible.\n",
            "datascience 0.10.6 requires folium==0.2.1, but you have folium 0.8.3 which is incompatible.\u001b[0m\n",
            "\u001b[?25h"
          ]
        }
      ]
    },
    {
      "cell_type": "code",
      "execution_count": 2,
      "metadata": {
        "id": "Bfo58_Wig94O"
      },
      "outputs": [],
      "source": [
        "import numpy as np\n",
        "import pandas as pd\n",
        "import yfinance as yf\n",
        "import matplotlib.pyplot as plt"
      ]
    },
    {
      "cell_type": "code",
      "source": [
        "acoes = ['EGIE3.SA', 'ITSA4.SA', 'SULA11.SA', 'ABEV3.SA', 'LREN3.SA', 'SLCE3.SA', 'BBAS3.SA', 'CSAN3.SA', 'B3SA3.SA'] \n",
        "carteira = pd.DataFrame()\n",
        "\n",
        "for acao in acoes:\n",
        "  carteira[acao] = yf.download(acao, start = '2017-01-01')['Adj Close']"
      ],
      "metadata": {
        "colab": {
          "base_uri": "https://localhost:8080/"
        },
        "id": "Bw9IS6N5hXl-",
        "outputId": "f374e133-6045-4ef2-a248-0675e4773b37"
      },
      "execution_count": 3,
      "outputs": [
        {
          "output_type": "stream",
          "name": "stdout",
          "text": [
            "[*********************100%***********************]  1 of 1 completed\n",
            "[*********************100%***********************]  1 of 1 completed\n",
            "[*********************100%***********************]  1 of 1 completed\n",
            "[*********************100%***********************]  1 of 1 completed\n",
            "[*********************100%***********************]  1 of 1 completed\n",
            "[*********************100%***********************]  1 of 1 completed\n",
            "[*********************100%***********************]  1 of 1 completed\n",
            "[*********************100%***********************]  1 of 1 completed\n",
            "[*********************100%***********************]  1 of 1 completed\n"
          ]
        }
      ]
    },
    {
      "cell_type": "code",
      "source": [
        "carteira.head()"
      ],
      "metadata": {
        "colab": {
          "base_uri": "https://localhost:8080/",
          "height": 281
        },
        "id": "mm0fusfPp_mV",
        "outputId": "c07d6c02-c162-4196-c60f-64ffd4e440c2"
      },
      "execution_count": 4,
      "outputs": [
        {
          "output_type": "execute_result",
          "data": {
            "text/html": [
              "\n",
              "  <div id=\"df-b1c7ed58-2141-48d4-bbe2-4c045da154c8\">\n",
              "    <div class=\"colab-df-container\">\n",
              "      <div>\n",
              "<style scoped>\n",
              "    .dataframe tbody tr th:only-of-type {\n",
              "        vertical-align: middle;\n",
              "    }\n",
              "\n",
              "    .dataframe tbody tr th {\n",
              "        vertical-align: top;\n",
              "    }\n",
              "\n",
              "    .dataframe thead th {\n",
              "        text-align: right;\n",
              "    }\n",
              "</style>\n",
              "<table border=\"1\" class=\"dataframe\">\n",
              "  <thead>\n",
              "    <tr style=\"text-align: right;\">\n",
              "      <th></th>\n",
              "      <th>EGIE3.SA</th>\n",
              "      <th>ITSA4.SA</th>\n",
              "      <th>SULA11.SA</th>\n",
              "      <th>ABEV3.SA</th>\n",
              "      <th>LREN3.SA</th>\n",
              "      <th>SLCE3.SA</th>\n",
              "      <th>BBAS3.SA</th>\n",
              "      <th>CSAN3.SA</th>\n",
              "      <th>B3SA3.SA</th>\n",
              "    </tr>\n",
              "    <tr>\n",
              "      <th>Date</th>\n",
              "      <th></th>\n",
              "      <th></th>\n",
              "      <th></th>\n",
              "      <th></th>\n",
              "      <th></th>\n",
              "      <th></th>\n",
              "      <th></th>\n",
              "      <th></th>\n",
              "      <th></th>\n",
              "    </tr>\n",
              "  </thead>\n",
              "  <tbody>\n",
              "    <tr>\n",
              "      <th>2017-01-02</th>\n",
              "      <td>19.134182</td>\n",
              "      <td>5.317467</td>\n",
              "      <td>11.952115</td>\n",
              "      <td>13.968292</td>\n",
              "      <td>17.586411</td>\n",
              "      <td>4.431844</td>\n",
              "      <td>21.435797</td>\n",
              "      <td>8.195604</td>\n",
              "      <td>4.571316</td>\n",
              "    </tr>\n",
              "    <tr>\n",
              "      <th>2017-01-03</th>\n",
              "      <td>19.875389</td>\n",
              "      <td>5.550631</td>\n",
              "      <td>12.532647</td>\n",
              "      <td>14.250911</td>\n",
              "      <td>18.126013</td>\n",
              "      <td>4.462075</td>\n",
              "      <td>22.416521</td>\n",
              "      <td>8.577257</td>\n",
              "      <td>4.759449</td>\n",
              "    </tr>\n",
              "    <tr>\n",
              "      <th>2017-01-04</th>\n",
              "      <td>19.622831</td>\n",
              "      <td>5.583017</td>\n",
              "      <td>12.997072</td>\n",
              "      <td>14.139580</td>\n",
              "      <td>17.966412</td>\n",
              "      <td>4.610206</td>\n",
              "      <td>22.299772</td>\n",
              "      <td>8.581668</td>\n",
              "      <td>4.849302</td>\n",
              "    </tr>\n",
              "    <tr>\n",
              "      <th>2017-01-05</th>\n",
              "      <td>19.480082</td>\n",
              "      <td>5.634831</td>\n",
              "      <td>12.969751</td>\n",
              "      <td>14.216658</td>\n",
              "      <td>17.799212</td>\n",
              "      <td>4.737176</td>\n",
              "      <td>22.245281</td>\n",
              "      <td>8.566227</td>\n",
              "      <td>4.790337</td>\n",
              "    </tr>\n",
              "    <tr>\n",
              "      <th>2017-01-06</th>\n",
              "      <td>19.238499</td>\n",
              "      <td>5.615400</td>\n",
              "      <td>12.867307</td>\n",
              "      <td>14.096755</td>\n",
              "      <td>17.594009</td>\n",
              "      <td>4.734152</td>\n",
              "      <td>22.486576</td>\n",
              "      <td>8.367679</td>\n",
              "      <td>4.787529</td>\n",
              "    </tr>\n",
              "  </tbody>\n",
              "</table>\n",
              "</div>\n",
              "      <button class=\"colab-df-convert\" onclick=\"convertToInteractive('df-b1c7ed58-2141-48d4-bbe2-4c045da154c8')\"\n",
              "              title=\"Convert this dataframe to an interactive table.\"\n",
              "              style=\"display:none;\">\n",
              "        \n",
              "  <svg xmlns=\"http://www.w3.org/2000/svg\" height=\"24px\"viewBox=\"0 0 24 24\"\n",
              "       width=\"24px\">\n",
              "    <path d=\"M0 0h24v24H0V0z\" fill=\"none\"/>\n",
              "    <path d=\"M18.56 5.44l.94 2.06.94-2.06 2.06-.94-2.06-.94-.94-2.06-.94 2.06-2.06.94zm-11 1L8.5 8.5l.94-2.06 2.06-.94-2.06-.94L8.5 2.5l-.94 2.06-2.06.94zm10 10l.94 2.06.94-2.06 2.06-.94-2.06-.94-.94-2.06-.94 2.06-2.06.94z\"/><path d=\"M17.41 7.96l-1.37-1.37c-.4-.4-.92-.59-1.43-.59-.52 0-1.04.2-1.43.59L10.3 9.45l-7.72 7.72c-.78.78-.78 2.05 0 2.83L4 21.41c.39.39.9.59 1.41.59.51 0 1.02-.2 1.41-.59l7.78-7.78 2.81-2.81c.8-.78.8-2.07 0-2.86zM5.41 20L4 18.59l7.72-7.72 1.47 1.35L5.41 20z\"/>\n",
              "  </svg>\n",
              "      </button>\n",
              "      \n",
              "  <style>\n",
              "    .colab-df-container {\n",
              "      display:flex;\n",
              "      flex-wrap:wrap;\n",
              "      gap: 12px;\n",
              "    }\n",
              "\n",
              "    .colab-df-convert {\n",
              "      background-color: #E8F0FE;\n",
              "      border: none;\n",
              "      border-radius: 50%;\n",
              "      cursor: pointer;\n",
              "      display: none;\n",
              "      fill: #1967D2;\n",
              "      height: 32px;\n",
              "      padding: 0 0 0 0;\n",
              "      width: 32px;\n",
              "    }\n",
              "\n",
              "    .colab-df-convert:hover {\n",
              "      background-color: #E2EBFA;\n",
              "      box-shadow: 0px 1px 2px rgba(60, 64, 67, 0.3), 0px 1px 3px 1px rgba(60, 64, 67, 0.15);\n",
              "      fill: #174EA6;\n",
              "    }\n",
              "\n",
              "    [theme=dark] .colab-df-convert {\n",
              "      background-color: #3B4455;\n",
              "      fill: #D2E3FC;\n",
              "    }\n",
              "\n",
              "    [theme=dark] .colab-df-convert:hover {\n",
              "      background-color: #434B5C;\n",
              "      box-shadow: 0px 1px 3px 1px rgba(0, 0, 0, 0.15);\n",
              "      filter: drop-shadow(0px 1px 2px rgba(0, 0, 0, 0.3));\n",
              "      fill: #FFFFFF;\n",
              "    }\n",
              "  </style>\n",
              "\n",
              "      <script>\n",
              "        const buttonEl =\n",
              "          document.querySelector('#df-b1c7ed58-2141-48d4-bbe2-4c045da154c8 button.colab-df-convert');\n",
              "        buttonEl.style.display =\n",
              "          google.colab.kernel.accessAllowed ? 'block' : 'none';\n",
              "\n",
              "        async function convertToInteractive(key) {\n",
              "          const element = document.querySelector('#df-b1c7ed58-2141-48d4-bbe2-4c045da154c8');\n",
              "          const dataTable =\n",
              "            await google.colab.kernel.invokeFunction('convertToInteractive',\n",
              "                                                     [key], {});\n",
              "          if (!dataTable) return;\n",
              "\n",
              "          const docLinkHtml = 'Like what you see? Visit the ' +\n",
              "            '<a target=\"_blank\" href=https://colab.research.google.com/notebooks/data_table.ipynb>data table notebook</a>'\n",
              "            + ' to learn more about interactive tables.';\n",
              "          element.innerHTML = '';\n",
              "          dataTable['output_type'] = 'display_data';\n",
              "          await google.colab.output.renderOutput(dataTable, element);\n",
              "          const docLink = document.createElement('div');\n",
              "          docLink.innerHTML = docLinkHtml;\n",
              "          element.appendChild(docLink);\n",
              "        }\n",
              "      </script>\n",
              "    </div>\n",
              "  </div>\n",
              "  "
            ],
            "text/plain": [
              "             EGIE3.SA  ITSA4.SA  SULA11.SA  ...   BBAS3.SA  CSAN3.SA  B3SA3.SA\n",
              "Date                                        ...                               \n",
              "2017-01-02  19.134182  5.317467  11.952115  ...  21.435797  8.195604  4.571316\n",
              "2017-01-03  19.875389  5.550631  12.532647  ...  22.416521  8.577257  4.759449\n",
              "2017-01-04  19.622831  5.583017  12.997072  ...  22.299772  8.581668  4.849302\n",
              "2017-01-05  19.480082  5.634831  12.969751  ...  22.245281  8.566227  4.790337\n",
              "2017-01-06  19.238499  5.615400  12.867307  ...  22.486576  8.367679  4.787529\n",
              "\n",
              "[5 rows x 9 columns]"
            ]
          },
          "metadata": {},
          "execution_count": 4
        }
      ]
    },
    {
      "cell_type": "code",
      "source": [
        "carteira.tail()"
      ],
      "metadata": {
        "colab": {
          "base_uri": "https://localhost:8080/",
          "height": 281
        },
        "id": "FJ5EWdvhiaOM",
        "outputId": "9f71c09c-3d80-4b24-a326-88e2d5e7d652"
      },
      "execution_count": 5,
      "outputs": [
        {
          "output_type": "execute_result",
          "data": {
            "text/html": [
              "\n",
              "  <div id=\"df-df5be8ae-62f8-4772-a45a-b38a5f54b98f\">\n",
              "    <div class=\"colab-df-container\">\n",
              "      <div>\n",
              "<style scoped>\n",
              "    .dataframe tbody tr th:only-of-type {\n",
              "        vertical-align: middle;\n",
              "    }\n",
              "\n",
              "    .dataframe tbody tr th {\n",
              "        vertical-align: top;\n",
              "    }\n",
              "\n",
              "    .dataframe thead th {\n",
              "        text-align: right;\n",
              "    }\n",
              "</style>\n",
              "<table border=\"1\" class=\"dataframe\">\n",
              "  <thead>\n",
              "    <tr style=\"text-align: right;\">\n",
              "      <th></th>\n",
              "      <th>EGIE3.SA</th>\n",
              "      <th>ITSA4.SA</th>\n",
              "      <th>SULA11.SA</th>\n",
              "      <th>ABEV3.SA</th>\n",
              "      <th>LREN3.SA</th>\n",
              "      <th>SLCE3.SA</th>\n",
              "      <th>BBAS3.SA</th>\n",
              "      <th>CSAN3.SA</th>\n",
              "      <th>B3SA3.SA</th>\n",
              "    </tr>\n",
              "    <tr>\n",
              "      <th>Date</th>\n",
              "      <th></th>\n",
              "      <th></th>\n",
              "      <th></th>\n",
              "      <th></th>\n",
              "      <th></th>\n",
              "      <th></th>\n",
              "      <th></th>\n",
              "      <th></th>\n",
              "      <th></th>\n",
              "    </tr>\n",
              "  </thead>\n",
              "  <tbody>\n",
              "    <tr>\n",
              "      <th>2022-02-10</th>\n",
              "      <td>40.360001</td>\n",
              "      <td>10.09</td>\n",
              "      <td>25.420000</td>\n",
              "      <td>14.75</td>\n",
              "      <td>25.580000</td>\n",
              "      <td>48.740002</td>\n",
              "      <td>32.270000</td>\n",
              "      <td>22.320000</td>\n",
              "      <td>14.10</td>\n",
              "    </tr>\n",
              "    <tr>\n",
              "      <th>2022-02-11</th>\n",
              "      <td>40.509998</td>\n",
              "      <td>10.52</td>\n",
              "      <td>25.450001</td>\n",
              "      <td>14.86</td>\n",
              "      <td>25.350000</td>\n",
              "      <td>47.730000</td>\n",
              "      <td>33.400002</td>\n",
              "      <td>22.270000</td>\n",
              "      <td>13.92</td>\n",
              "    </tr>\n",
              "    <tr>\n",
              "      <th>2022-02-14</th>\n",
              "      <td>40.520000</td>\n",
              "      <td>10.48</td>\n",
              "      <td>25.280001</td>\n",
              "      <td>15.06</td>\n",
              "      <td>25.910000</td>\n",
              "      <td>48.369999</td>\n",
              "      <td>33.540001</td>\n",
              "      <td>22.270000</td>\n",
              "      <td>14.12</td>\n",
              "    </tr>\n",
              "    <tr>\n",
              "      <th>2022-02-15</th>\n",
              "      <td>40.520000</td>\n",
              "      <td>10.61</td>\n",
              "      <td>25.549999</td>\n",
              "      <td>15.38</td>\n",
              "      <td>27.110001</td>\n",
              "      <td>46.040001</td>\n",
              "      <td>35.130001</td>\n",
              "      <td>22.299999</td>\n",
              "      <td>14.60</td>\n",
              "    </tr>\n",
              "    <tr>\n",
              "      <th>2022-02-16</th>\n",
              "      <td>40.570000</td>\n",
              "      <td>10.57</td>\n",
              "      <td>25.500000</td>\n",
              "      <td>15.13</td>\n",
              "      <td>26.900000</td>\n",
              "      <td>46.169998</td>\n",
              "      <td>35.389999</td>\n",
              "      <td>22.660000</td>\n",
              "      <td>14.60</td>\n",
              "    </tr>\n",
              "  </tbody>\n",
              "</table>\n",
              "</div>\n",
              "      <button class=\"colab-df-convert\" onclick=\"convertToInteractive('df-df5be8ae-62f8-4772-a45a-b38a5f54b98f')\"\n",
              "              title=\"Convert this dataframe to an interactive table.\"\n",
              "              style=\"display:none;\">\n",
              "        \n",
              "  <svg xmlns=\"http://www.w3.org/2000/svg\" height=\"24px\"viewBox=\"0 0 24 24\"\n",
              "       width=\"24px\">\n",
              "    <path d=\"M0 0h24v24H0V0z\" fill=\"none\"/>\n",
              "    <path d=\"M18.56 5.44l.94 2.06.94-2.06 2.06-.94-2.06-.94-.94-2.06-.94 2.06-2.06.94zm-11 1L8.5 8.5l.94-2.06 2.06-.94-2.06-.94L8.5 2.5l-.94 2.06-2.06.94zm10 10l.94 2.06.94-2.06 2.06-.94-2.06-.94-.94-2.06-.94 2.06-2.06.94z\"/><path d=\"M17.41 7.96l-1.37-1.37c-.4-.4-.92-.59-1.43-.59-.52 0-1.04.2-1.43.59L10.3 9.45l-7.72 7.72c-.78.78-.78 2.05 0 2.83L4 21.41c.39.39.9.59 1.41.59.51 0 1.02-.2 1.41-.59l7.78-7.78 2.81-2.81c.8-.78.8-2.07 0-2.86zM5.41 20L4 18.59l7.72-7.72 1.47 1.35L5.41 20z\"/>\n",
              "  </svg>\n",
              "      </button>\n",
              "      \n",
              "  <style>\n",
              "    .colab-df-container {\n",
              "      display:flex;\n",
              "      flex-wrap:wrap;\n",
              "      gap: 12px;\n",
              "    }\n",
              "\n",
              "    .colab-df-convert {\n",
              "      background-color: #E8F0FE;\n",
              "      border: none;\n",
              "      border-radius: 50%;\n",
              "      cursor: pointer;\n",
              "      display: none;\n",
              "      fill: #1967D2;\n",
              "      height: 32px;\n",
              "      padding: 0 0 0 0;\n",
              "      width: 32px;\n",
              "    }\n",
              "\n",
              "    .colab-df-convert:hover {\n",
              "      background-color: #E2EBFA;\n",
              "      box-shadow: 0px 1px 2px rgba(60, 64, 67, 0.3), 0px 1px 3px 1px rgba(60, 64, 67, 0.15);\n",
              "      fill: #174EA6;\n",
              "    }\n",
              "\n",
              "    [theme=dark] .colab-df-convert {\n",
              "      background-color: #3B4455;\n",
              "      fill: #D2E3FC;\n",
              "    }\n",
              "\n",
              "    [theme=dark] .colab-df-convert:hover {\n",
              "      background-color: #434B5C;\n",
              "      box-shadow: 0px 1px 3px 1px rgba(0, 0, 0, 0.15);\n",
              "      filter: drop-shadow(0px 1px 2px rgba(0, 0, 0, 0.3));\n",
              "      fill: #FFFFFF;\n",
              "    }\n",
              "  </style>\n",
              "\n",
              "      <script>\n",
              "        const buttonEl =\n",
              "          document.querySelector('#df-df5be8ae-62f8-4772-a45a-b38a5f54b98f button.colab-df-convert');\n",
              "        buttonEl.style.display =\n",
              "          google.colab.kernel.accessAllowed ? 'block' : 'none';\n",
              "\n",
              "        async function convertToInteractive(key) {\n",
              "          const element = document.querySelector('#df-df5be8ae-62f8-4772-a45a-b38a5f54b98f');\n",
              "          const dataTable =\n",
              "            await google.colab.kernel.invokeFunction('convertToInteractive',\n",
              "                                                     [key], {});\n",
              "          if (!dataTable) return;\n",
              "\n",
              "          const docLinkHtml = 'Like what you see? Visit the ' +\n",
              "            '<a target=\"_blank\" href=https://colab.research.google.com/notebooks/data_table.ipynb>data table notebook</a>'\n",
              "            + ' to learn more about interactive tables.';\n",
              "          element.innerHTML = '';\n",
              "          dataTable['output_type'] = 'display_data';\n",
              "          await google.colab.output.renderOutput(dataTable, element);\n",
              "          const docLink = document.createElement('div');\n",
              "          docLink.innerHTML = docLinkHtml;\n",
              "          element.appendChild(docLink);\n",
              "        }\n",
              "      </script>\n",
              "    </div>\n",
              "  </div>\n",
              "  "
            ],
            "text/plain": [
              "             EGIE3.SA  ITSA4.SA  SULA11.SA  ...   BBAS3.SA   CSAN3.SA  B3SA3.SA\n",
              "Date                                        ...                                \n",
              "2022-02-10  40.360001     10.09  25.420000  ...  32.270000  22.320000     14.10\n",
              "2022-02-11  40.509998     10.52  25.450001  ...  33.400002  22.270000     13.92\n",
              "2022-02-14  40.520000     10.48  25.280001  ...  33.540001  22.270000     14.12\n",
              "2022-02-15  40.520000     10.61  25.549999  ...  35.130001  22.299999     14.60\n",
              "2022-02-16  40.570000     10.57  25.500000  ...  35.389999  22.660000     14.60\n",
              "\n",
              "[5 rows x 9 columns]"
            ]
          },
          "metadata": {},
          "execution_count": 5
        }
      ]
    },
    {
      "cell_type": "code",
      "source": [
        "# calculando o retorno logarítmico da carteira\n",
        "ret_log = np.log(carteira / carteira.shift(1))\n",
        "ret_log"
      ],
      "metadata": {
        "colab": {
          "base_uri": "https://localhost:8080/",
          "height": 455
        },
        "id": "3Tbr93EHiex6",
        "outputId": "7438df44-beec-4e61-c672-6700773b43b6"
      },
      "execution_count": 6,
      "outputs": [
        {
          "output_type": "execute_result",
          "data": {
            "text/html": [
              "\n",
              "  <div id=\"df-d32f09da-8a06-4cb1-9f64-b892b1d37d08\">\n",
              "    <div class=\"colab-df-container\">\n",
              "      <div>\n",
              "<style scoped>\n",
              "    .dataframe tbody tr th:only-of-type {\n",
              "        vertical-align: middle;\n",
              "    }\n",
              "\n",
              "    .dataframe tbody tr th {\n",
              "        vertical-align: top;\n",
              "    }\n",
              "\n",
              "    .dataframe thead th {\n",
              "        text-align: right;\n",
              "    }\n",
              "</style>\n",
              "<table border=\"1\" class=\"dataframe\">\n",
              "  <thead>\n",
              "    <tr style=\"text-align: right;\">\n",
              "      <th></th>\n",
              "      <th>EGIE3.SA</th>\n",
              "      <th>ITSA4.SA</th>\n",
              "      <th>SULA11.SA</th>\n",
              "      <th>ABEV3.SA</th>\n",
              "      <th>LREN3.SA</th>\n",
              "      <th>SLCE3.SA</th>\n",
              "      <th>BBAS3.SA</th>\n",
              "      <th>CSAN3.SA</th>\n",
              "      <th>B3SA3.SA</th>\n",
              "    </tr>\n",
              "    <tr>\n",
              "      <th>Date</th>\n",
              "      <th></th>\n",
              "      <th></th>\n",
              "      <th></th>\n",
              "      <th></th>\n",
              "      <th></th>\n",
              "      <th></th>\n",
              "      <th></th>\n",
              "      <th></th>\n",
              "      <th></th>\n",
              "    </tr>\n",
              "  </thead>\n",
              "  <tbody>\n",
              "    <tr>\n",
              "      <th>2017-01-02</th>\n",
              "      <td>NaN</td>\n",
              "      <td>NaN</td>\n",
              "      <td>NaN</td>\n",
              "      <td>NaN</td>\n",
              "      <td>NaN</td>\n",
              "      <td>NaN</td>\n",
              "      <td>NaN</td>\n",
              "      <td>NaN</td>\n",
              "      <td>NaN</td>\n",
              "    </tr>\n",
              "    <tr>\n",
              "      <th>2017-01-03</th>\n",
              "      <td>0.038006</td>\n",
              "      <td>0.042915</td>\n",
              "      <td>0.047429</td>\n",
              "      <td>0.020031</td>\n",
              "      <td>0.030222</td>\n",
              "      <td>0.006798</td>\n",
              "      <td>0.044736</td>\n",
              "      <td>0.045516</td>\n",
              "      <td>0.040331</td>\n",
              "    </tr>\n",
              "    <tr>\n",
              "      <th>2017-01-04</th>\n",
              "      <td>-0.012788</td>\n",
              "      <td>0.005818</td>\n",
              "      <td>0.036387</td>\n",
              "      <td>-0.007843</td>\n",
              "      <td>-0.008844</td>\n",
              "      <td>0.032659</td>\n",
              "      <td>-0.005222</td>\n",
              "      <td>0.000514</td>\n",
              "      <td>0.018703</td>\n",
              "    </tr>\n",
              "    <tr>\n",
              "      <th>2017-01-05</th>\n",
              "      <td>-0.007301</td>\n",
              "      <td>0.009238</td>\n",
              "      <td>-0.002104</td>\n",
              "      <td>0.005436</td>\n",
              "      <td>-0.009350</td>\n",
              "      <td>0.027169</td>\n",
              "      <td>-0.002447</td>\n",
              "      <td>-0.001801</td>\n",
              "      <td>-0.012234</td>\n",
              "    </tr>\n",
              "    <tr>\n",
              "      <th>2017-01-06</th>\n",
              "      <td>-0.012479</td>\n",
              "      <td>-0.003454</td>\n",
              "      <td>-0.007930</td>\n",
              "      <td>-0.008470</td>\n",
              "      <td>-0.011596</td>\n",
              "      <td>-0.000639</td>\n",
              "      <td>0.010789</td>\n",
              "      <td>-0.023451</td>\n",
              "      <td>-0.000586</td>\n",
              "    </tr>\n",
              "    <tr>\n",
              "      <th>...</th>\n",
              "      <td>...</td>\n",
              "      <td>...</td>\n",
              "      <td>...</td>\n",
              "      <td>...</td>\n",
              "      <td>...</td>\n",
              "      <td>...</td>\n",
              "      <td>...</td>\n",
              "      <td>...</td>\n",
              "      <td>...</td>\n",
              "    </tr>\n",
              "    <tr>\n",
              "      <th>2022-02-10</th>\n",
              "      <td>-0.003463</td>\n",
              "      <td>0.010962</td>\n",
              "      <td>0.019063</td>\n",
              "      <td>0.014340</td>\n",
              "      <td>-0.012818</td>\n",
              "      <td>0.010934</td>\n",
              "      <td>0.010905</td>\n",
              "      <td>-0.001791</td>\n",
              "      <td>-0.004246</td>\n",
              "    </tr>\n",
              "    <tr>\n",
              "      <th>2022-02-11</th>\n",
              "      <td>0.003710</td>\n",
              "      <td>0.041733</td>\n",
              "      <td>0.001180</td>\n",
              "      <td>0.007430</td>\n",
              "      <td>-0.009032</td>\n",
              "      <td>-0.020940</td>\n",
              "      <td>0.034418</td>\n",
              "      <td>-0.002243</td>\n",
              "      <td>-0.012848</td>\n",
              "    </tr>\n",
              "    <tr>\n",
              "      <th>2022-02-14</th>\n",
              "      <td>0.000247</td>\n",
              "      <td>-0.003810</td>\n",
              "      <td>-0.006702</td>\n",
              "      <td>0.013369</td>\n",
              "      <td>0.021850</td>\n",
              "      <td>0.013320</td>\n",
              "      <td>0.004183</td>\n",
              "      <td>0.000000</td>\n",
              "      <td>0.014266</td>\n",
              "    </tr>\n",
              "    <tr>\n",
              "      <th>2022-02-15</th>\n",
              "      <td>0.000000</td>\n",
              "      <td>0.012328</td>\n",
              "      <td>0.010624</td>\n",
              "      <td>0.021026</td>\n",
              "      <td>0.045274</td>\n",
              "      <td>-0.049369</td>\n",
              "      <td>0.046317</td>\n",
              "      <td>0.001346</td>\n",
              "      <td>0.033429</td>\n",
              "    </tr>\n",
              "    <tr>\n",
              "      <th>2022-02-16</th>\n",
              "      <td>0.001233</td>\n",
              "      <td>-0.003777</td>\n",
              "      <td>-0.001959</td>\n",
              "      <td>-0.016388</td>\n",
              "      <td>-0.007776</td>\n",
              "      <td>0.002820</td>\n",
              "      <td>0.007374</td>\n",
              "      <td>0.016015</td>\n",
              "      <td>0.000000</td>\n",
              "    </tr>\n",
              "  </tbody>\n",
              "</table>\n",
              "<p>1276 rows × 9 columns</p>\n",
              "</div>\n",
              "      <button class=\"colab-df-convert\" onclick=\"convertToInteractive('df-d32f09da-8a06-4cb1-9f64-b892b1d37d08')\"\n",
              "              title=\"Convert this dataframe to an interactive table.\"\n",
              "              style=\"display:none;\">\n",
              "        \n",
              "  <svg xmlns=\"http://www.w3.org/2000/svg\" height=\"24px\"viewBox=\"0 0 24 24\"\n",
              "       width=\"24px\">\n",
              "    <path d=\"M0 0h24v24H0V0z\" fill=\"none\"/>\n",
              "    <path d=\"M18.56 5.44l.94 2.06.94-2.06 2.06-.94-2.06-.94-.94-2.06-.94 2.06-2.06.94zm-11 1L8.5 8.5l.94-2.06 2.06-.94-2.06-.94L8.5 2.5l-.94 2.06-2.06.94zm10 10l.94 2.06.94-2.06 2.06-.94-2.06-.94-.94-2.06-.94 2.06-2.06.94z\"/><path d=\"M17.41 7.96l-1.37-1.37c-.4-.4-.92-.59-1.43-.59-.52 0-1.04.2-1.43.59L10.3 9.45l-7.72 7.72c-.78.78-.78 2.05 0 2.83L4 21.41c.39.39.9.59 1.41.59.51 0 1.02-.2 1.41-.59l7.78-7.78 2.81-2.81c.8-.78.8-2.07 0-2.86zM5.41 20L4 18.59l7.72-7.72 1.47 1.35L5.41 20z\"/>\n",
              "  </svg>\n",
              "      </button>\n",
              "      \n",
              "  <style>\n",
              "    .colab-df-container {\n",
              "      display:flex;\n",
              "      flex-wrap:wrap;\n",
              "      gap: 12px;\n",
              "    }\n",
              "\n",
              "    .colab-df-convert {\n",
              "      background-color: #E8F0FE;\n",
              "      border: none;\n",
              "      border-radius: 50%;\n",
              "      cursor: pointer;\n",
              "      display: none;\n",
              "      fill: #1967D2;\n",
              "      height: 32px;\n",
              "      padding: 0 0 0 0;\n",
              "      width: 32px;\n",
              "    }\n",
              "\n",
              "    .colab-df-convert:hover {\n",
              "      background-color: #E2EBFA;\n",
              "      box-shadow: 0px 1px 2px rgba(60, 64, 67, 0.3), 0px 1px 3px 1px rgba(60, 64, 67, 0.15);\n",
              "      fill: #174EA6;\n",
              "    }\n",
              "\n",
              "    [theme=dark] .colab-df-convert {\n",
              "      background-color: #3B4455;\n",
              "      fill: #D2E3FC;\n",
              "    }\n",
              "\n",
              "    [theme=dark] .colab-df-convert:hover {\n",
              "      background-color: #434B5C;\n",
              "      box-shadow: 0px 1px 3px 1px rgba(0, 0, 0, 0.15);\n",
              "      filter: drop-shadow(0px 1px 2px rgba(0, 0, 0, 0.3));\n",
              "      fill: #FFFFFF;\n",
              "    }\n",
              "  </style>\n",
              "\n",
              "      <script>\n",
              "        const buttonEl =\n",
              "          document.querySelector('#df-d32f09da-8a06-4cb1-9f64-b892b1d37d08 button.colab-df-convert');\n",
              "        buttonEl.style.display =\n",
              "          google.colab.kernel.accessAllowed ? 'block' : 'none';\n",
              "\n",
              "        async function convertToInteractive(key) {\n",
              "          const element = document.querySelector('#df-d32f09da-8a06-4cb1-9f64-b892b1d37d08');\n",
              "          const dataTable =\n",
              "            await google.colab.kernel.invokeFunction('convertToInteractive',\n",
              "                                                     [key], {});\n",
              "          if (!dataTable) return;\n",
              "\n",
              "          const docLinkHtml = 'Like what you see? Visit the ' +\n",
              "            '<a target=\"_blank\" href=https://colab.research.google.com/notebooks/data_table.ipynb>data table notebook</a>'\n",
              "            + ' to learn more about interactive tables.';\n",
              "          element.innerHTML = '';\n",
              "          dataTable['output_type'] = 'display_data';\n",
              "          await google.colab.output.renderOutput(dataTable, element);\n",
              "          const docLink = document.createElement('div');\n",
              "          docLink.innerHTML = docLinkHtml;\n",
              "          element.appendChild(docLink);\n",
              "        }\n",
              "      </script>\n",
              "    </div>\n",
              "  </div>\n",
              "  "
            ],
            "text/plain": [
              "            EGIE3.SA  ITSA4.SA  SULA11.SA  ...  BBAS3.SA  CSAN3.SA  B3SA3.SA\n",
              "Date                                       ...                              \n",
              "2017-01-02       NaN       NaN        NaN  ...       NaN       NaN       NaN\n",
              "2017-01-03  0.038006  0.042915   0.047429  ...  0.044736  0.045516  0.040331\n",
              "2017-01-04 -0.012788  0.005818   0.036387  ... -0.005222  0.000514  0.018703\n",
              "2017-01-05 -0.007301  0.009238  -0.002104  ... -0.002447 -0.001801 -0.012234\n",
              "2017-01-06 -0.012479 -0.003454  -0.007930  ...  0.010789 -0.023451 -0.000586\n",
              "...              ...       ...        ...  ...       ...       ...       ...\n",
              "2022-02-10 -0.003463  0.010962   0.019063  ...  0.010905 -0.001791 -0.004246\n",
              "2022-02-11  0.003710  0.041733   0.001180  ...  0.034418 -0.002243 -0.012848\n",
              "2022-02-14  0.000247 -0.003810  -0.006702  ...  0.004183  0.000000  0.014266\n",
              "2022-02-15  0.000000  0.012328   0.010624  ...  0.046317  0.001346  0.033429\n",
              "2022-02-16  0.001233 -0.003777  -0.001959  ...  0.007374  0.016015  0.000000\n",
              "\n",
              "[1276 rows x 9 columns]"
            ]
          },
          "metadata": {},
          "execution_count": 6
        }
      ]
    },
    {
      "cell_type": "code",
      "source": [
        "# calculando a média do retorno logarítmico de cada ação da carteira\n",
        "ret_log[['EGIE3.SA', 'ITSA4.SA', 'SULA11.SA', 'ABEV3.SA', 'LREN3.SA', 'SLCE3.SA', 'BBAS3.SA', 'CSAN3.SA', 'B3SA3.SA']].mean() * 250"
      ],
      "metadata": {
        "colab": {
          "base_uri": "https://localhost:8080/"
        },
        "id": "2H7oZxwtj0yb",
        "outputId": "f2a32ca1-5faf-4d47-873c-d7e30c713e97"
      },
      "execution_count": 7,
      "outputs": [
        {
          "output_type": "execute_result",
          "data": {
            "text/plain": [
              "EGIE3.SA     0.147363\n",
              "ITSA4.SA     0.134710\n",
              "SULA11.SA    0.148582\n",
              "ABEV3.SA     0.015665\n",
              "LREN3.SA     0.083333\n",
              "SLCE3.SA     0.459513\n",
              "BBAS3.SA     0.098307\n",
              "CSAN3.SA     0.199412\n",
              "B3SA3.SA     0.227690\n",
              "dtype: float64"
            ]
          },
          "metadata": {},
          "execution_count": 7
        }
      ]
    },
    {
      "cell_type": "code",
      "source": [
        "# calculando a volatilidade anual de cada ação da carteira\n",
        "ret_log[['EGIE3.SA', 'ITSA4.SA', 'SULA11.SA', 'ABEV3.SA', 'LREN3.SA', 'SLCE3.SA', 'BBAS3.SA', 'CSAN3.SA', 'B3SA3.SA']].std() * 250 * 0.5"
      ],
      "metadata": {
        "colab": {
          "base_uri": "https://localhost:8080/"
        },
        "id": "cE9c0ULnj01L",
        "outputId": "4224f130-ef29-4283-ad9a-0ed421526269"
      },
      "execution_count": 8,
      "outputs": [
        {
          "output_type": "execute_result",
          "data": {
            "text/plain": [
              "EGIE3.SA     1.919492\n",
              "ITSA4.SA     2.434833\n",
              "SULA11.SA    2.986450\n",
              "ABEV3.SA     2.360298\n",
              "LREN3.SA     3.247611\n",
              "SLCE3.SA     3.118103\n",
              "BBAS3.SA     3.315721\n",
              "CSAN3.SA     3.021258\n",
              "B3SA3.SA     3.059497\n",
              "dtype: float64"
            ]
          },
          "metadata": {},
          "execution_count": 8
        }
      ]
    },
    {
      "cell_type": "markdown",
      "metadata": {
        "id": "5pXUQXSnxCwn"
      },
      "source": [
        "## Covariância e Correlação"
      ]
    },
    {
      "cell_type": "markdown",
      "metadata": {
        "id": "BrMDcv7RxCwn"
      },
      "source": [
        "\n",
        "\\begin{eqnarray*}\n",
        "Covariance Matrix: \\  \\   \n",
        "\\Sigma = \\begin{bmatrix}\n",
        "        \\sigma_{1}^2 \\ \\sigma_{12} \\ \\dots \\ \\sigma_{1I} \\\\\n",
        "        \\sigma_{21} \\ \\sigma_{2}^2 \\ \\dots \\ \\sigma_{2I} \\\\\n",
        "        \\vdots \\ \\vdots \\ \\ddots \\ \\vdots \\\\\n",
        "        \\sigma_{I1} \\ \\sigma_{I2} \\ \\dots \\ \\sigma_{I}^2\n",
        "    \\end{bmatrix}\n",
        "\\end{eqnarray*}"
      ]
    },
    {
      "cell_type": "code",
      "source": [
        "# calculando a variância de cada ação da carteira\n",
        "EGIE_var = ret_log['EGIE3.SA'].var()\n",
        "EGIE_var"
      ],
      "metadata": {
        "colab": {
          "base_uri": "https://localhost:8080/"
        },
        "id": "lP7eO8OlrD4o",
        "outputId": "2d031357-85c5-427d-ed1f-0187b566ff98"
      },
      "execution_count": 9,
      "outputs": [
        {
          "output_type": "execute_result",
          "data": {
            "text/plain": [
              "0.00023580479289764142"
            ]
          },
          "metadata": {},
          "execution_count": 9
        }
      ]
    },
    {
      "cell_type": "code",
      "source": [
        "ITSA_var = ret_log['ITSA4.SA'].var()\n",
        "ITSA_var"
      ],
      "metadata": {
        "colab": {
          "base_uri": "https://localhost:8080/"
        },
        "id": "QOxKUZ4yrvAR",
        "outputId": "630db8ec-e51a-4695-fb05-a8e0ac7d1c32"
      },
      "execution_count": 10,
      "outputs": [
        {
          "output_type": "execute_result",
          "data": {
            "text/plain": [
              "0.0003794184820164964"
            ]
          },
          "metadata": {},
          "execution_count": 10
        }
      ]
    },
    {
      "cell_type": "code",
      "source": [
        "SULA_var = ret_log['SULA11.SA'].var()\n",
        "SULA_var"
      ],
      "metadata": {
        "colab": {
          "base_uri": "https://localhost:8080/"
        },
        "id": "HgNBtwf4r1UO",
        "outputId": "eaa11350-52e3-4752-c3c3-96f4eccd0011"
      },
      "execution_count": 11,
      "outputs": [
        {
          "output_type": "execute_result",
          "data": {
            "text/plain": [
              "0.0005708084695427506"
            ]
          },
          "metadata": {},
          "execution_count": 11
        }
      ]
    },
    {
      "cell_type": "code",
      "source": [
        "ABEV_var = ret_log['ABEV3.SA'].var()\n",
        "ABEV_var"
      ],
      "metadata": {
        "colab": {
          "base_uri": "https://localhost:8080/"
        },
        "id": "jwTkqdH5r1cO",
        "outputId": "7fbc8596-2b5d-4530-ab97-a2c7982ac3ee"
      },
      "execution_count": 12,
      "outputs": [
        {
          "output_type": "execute_result",
          "data": {
            "text/plain": [
              "0.00035654450159316466"
            ]
          },
          "metadata": {},
          "execution_count": 12
        }
      ]
    },
    {
      "cell_type": "code",
      "source": [
        "LREN_var = ret_log['LREN3.SA'].var()\n",
        "LREN_var"
      ],
      "metadata": {
        "colab": {
          "base_uri": "https://localhost:8080/"
        },
        "id": "4GEVRzFQr1j-",
        "outputId": "f7212565-5422-452a-c586-4a17ccfe964a"
      },
      "execution_count": 13,
      "outputs": [
        {
          "output_type": "execute_result",
          "data": {
            "text/plain": [
              "0.000675006718486324"
            ]
          },
          "metadata": {},
          "execution_count": 13
        }
      ]
    },
    {
      "cell_type": "code",
      "source": [
        "SLCE_var = ret_log['SLCE3.SA'].var()\n",
        "SLCE_var"
      ],
      "metadata": {
        "colab": {
          "base_uri": "https://localhost:8080/"
        },
        "id": "V1D7VrN_r1r_",
        "outputId": "fb2c5b2a-26cc-4c72-bbe6-764b78f969d9"
      },
      "execution_count": 14,
      "outputs": [
        {
          "output_type": "execute_result",
          "data": {
            "text/plain": [
              "0.0006222441448546911"
            ]
          },
          "metadata": {},
          "execution_count": 14
        }
      ]
    },
    {
      "cell_type": "code",
      "source": [
        "BBAS_var = ret_log['BBAS3.SA'].var()\n",
        "BBAS_var"
      ],
      "metadata": {
        "colab": {
          "base_uri": "https://localhost:8080/"
        },
        "id": "F30ApC49r10O",
        "outputId": "c42d6214-5fec-4865-cea5-9a6cdf7afb81"
      },
      "execution_count": 15,
      "outputs": [
        {
          "output_type": "execute_result",
          "data": {
            "text/plain": [
              "0.0007036161973524156"
            ]
          },
          "metadata": {},
          "execution_count": 15
        }
      ]
    },
    {
      "cell_type": "code",
      "source": [
        "CSAN_var = ret_log['CSAN3.SA'].var()\n",
        "CSAN_var"
      ],
      "metadata": {
        "colab": {
          "base_uri": "https://localhost:8080/"
        },
        "id": "cFA7RbLKr17_",
        "outputId": "f4d66fdd-4f90-44fc-deca-20cc070283f4"
      },
      "execution_count": 16,
      "outputs": [
        {
          "output_type": "execute_result",
          "data": {
            "text/plain": [
              "0.0005841918554663865"
            ]
          },
          "metadata": {},
          "execution_count": 16
        }
      ]
    },
    {
      "cell_type": "code",
      "source": [
        "B3SA_var = ret_log['B3SA3.SA'].var()\n",
        "B3SA_var"
      ],
      "metadata": {
        "colab": {
          "base_uri": "https://localhost:8080/"
        },
        "id": "BgAjbC2Zr2C_",
        "outputId": "da676f88-bea3-49ee-da3b-34db71d8329b"
      },
      "execution_count": 17,
      "outputs": [
        {
          "output_type": "execute_result",
          "data": {
            "text/plain": [
              "0.0005990732391261904"
            ]
          },
          "metadata": {},
          "execution_count": 17
        }
      ]
    },
    {
      "cell_type": "code",
      "source": [
        "# Cálculo da variância anual de cada ação\n",
        "EGIE_var_anual = ret_log['EGIE3.SA'].var() * 250\n",
        "EGIE_var_anual"
      ],
      "metadata": {
        "colab": {
          "base_uri": "https://localhost:8080/"
        },
        "outputId": "03f54950-a541-4114-9962-57facd97f1c2",
        "id": "9mSc8FZIv9UP"
      },
      "execution_count": 18,
      "outputs": [
        {
          "output_type": "execute_result",
          "data": {
            "text/plain": [
              "0.058951198224410355"
            ]
          },
          "metadata": {},
          "execution_count": 18
        }
      ]
    },
    {
      "cell_type": "code",
      "source": [
        "ITSA_var_anual = ret_log['ITSA4.SA'].var() * 250\n",
        "ITSA_var_anual"
      ],
      "metadata": {
        "colab": {
          "base_uri": "https://localhost:8080/"
        },
        "outputId": "3a55d875-54ac-4391-f348-310632694cd3",
        "id": "m1qphzZcv9UV"
      },
      "execution_count": 19,
      "outputs": [
        {
          "output_type": "execute_result",
          "data": {
            "text/plain": [
              "0.0948546205041241"
            ]
          },
          "metadata": {},
          "execution_count": 19
        }
      ]
    },
    {
      "cell_type": "code",
      "source": [
        "SULA_var_anual = ret_log['SULA11.SA'].var() * 250\n",
        "SULA_var_anual"
      ],
      "metadata": {
        "colab": {
          "base_uri": "https://localhost:8080/"
        },
        "outputId": "9b342d04-2808-4293-dc56-968f6904f40a",
        "id": "yf_rEdMPv9UW"
      },
      "execution_count": 20,
      "outputs": [
        {
          "output_type": "execute_result",
          "data": {
            "text/plain": [
              "0.14270211738568767"
            ]
          },
          "metadata": {},
          "execution_count": 20
        }
      ]
    },
    {
      "cell_type": "code",
      "source": [
        "ABEV_var_anual = ret_log['ABEV3.SA'].var() * 250\n",
        "ABEV_var_anual"
      ],
      "metadata": {
        "colab": {
          "base_uri": "https://localhost:8080/"
        },
        "outputId": "fcfde1b3-0885-4ff5-ea93-be55b21173f8",
        "id": "ufeThfhev9UW"
      },
      "execution_count": 21,
      "outputs": [
        {
          "output_type": "execute_result",
          "data": {
            "text/plain": [
              "0.08913612539829116"
            ]
          },
          "metadata": {},
          "execution_count": 21
        }
      ]
    },
    {
      "cell_type": "code",
      "source": [
        "LREN_var_anual = ret_log['LREN3.SA'].var() * 250\n",
        "LREN_var_anual"
      ],
      "metadata": {
        "colab": {
          "base_uri": "https://localhost:8080/"
        },
        "outputId": "5c89532e-5fa7-4dec-dc4d-61aebcb015a7",
        "id": "Q2HZ48_sv9UW"
      },
      "execution_count": 22,
      "outputs": [
        {
          "output_type": "execute_result",
          "data": {
            "text/plain": [
              "0.168751679621581"
            ]
          },
          "metadata": {},
          "execution_count": 22
        }
      ]
    },
    {
      "cell_type": "code",
      "source": [
        "SLCE_var_anual = ret_log['SLCE3.SA'].var() * 250\n",
        "SLCE_var_anual"
      ],
      "metadata": {
        "colab": {
          "base_uri": "https://localhost:8080/"
        },
        "outputId": "616d671a-19f7-47d3-fa19-4df85ebbc90c",
        "id": "hmw1qZsQv9UW"
      },
      "execution_count": 23,
      "outputs": [
        {
          "output_type": "execute_result",
          "data": {
            "text/plain": [
              "0.15556103621367276"
            ]
          },
          "metadata": {},
          "execution_count": 23
        }
      ]
    },
    {
      "cell_type": "code",
      "source": [
        "BBAS_var_anual = ret_log['BBAS3.SA'].var() * 250\n",
        "BBAS_var_anual"
      ],
      "metadata": {
        "colab": {
          "base_uri": "https://localhost:8080/"
        },
        "outputId": "980c9fa1-f53b-413c-a99e-a87907e102e4",
        "id": "I4VudNoYv9UW"
      },
      "execution_count": 24,
      "outputs": [
        {
          "output_type": "execute_result",
          "data": {
            "text/plain": [
              "0.17590404933810388"
            ]
          },
          "metadata": {},
          "execution_count": 24
        }
      ]
    },
    {
      "cell_type": "code",
      "source": [
        "CSAN_var_anual = ret_log['CSAN3.SA'].var() * 250\n",
        "CSAN_var_anual"
      ],
      "metadata": {
        "colab": {
          "base_uri": "https://localhost:8080/"
        },
        "outputId": "ed9e1ef8-ebcb-4ffe-d7fa-c2a1f6dc5693",
        "id": "Hvf-sU4Vv9UW"
      },
      "execution_count": 25,
      "outputs": [
        {
          "output_type": "execute_result",
          "data": {
            "text/plain": [
              "0.14604796386659663"
            ]
          },
          "metadata": {},
          "execution_count": 25
        }
      ]
    },
    {
      "cell_type": "code",
      "source": [
        "B3SA_var_anual = ret_log['B3SA3.SA'].var() * 250\n",
        "B3SA_var_anual"
      ],
      "metadata": {
        "colab": {
          "base_uri": "https://localhost:8080/"
        },
        "outputId": "b2f825c6-d731-43b7-816f-8a83d58eb1ad",
        "id": "eebgqaSYv9UX"
      },
      "execution_count": 26,
      "outputs": [
        {
          "output_type": "execute_result",
          "data": {
            "text/plain": [
              "0.1497683097815476"
            ]
          },
          "metadata": {},
          "execution_count": 26
        }
      ]
    },
    {
      "cell_type": "markdown",
      "metadata": {
        "id": "OJquw3UGo-tY"
      },
      "source": [
        "Matriz de Covariância:"
      ]
    },
    {
      "cell_type": "code",
      "source": [
        "cov_matriz = ret_log.cov()\n",
        "cov_matriz"
      ],
      "metadata": {
        "colab": {
          "base_uri": "https://localhost:8080/",
          "height": 331
        },
        "id": "Douq1v1hsaLp",
        "outputId": "1c3ffbbb-6e37-486f-bc4a-701506767cf5"
      },
      "execution_count": null,
      "outputs": [
        {
          "output_type": "execute_result",
          "data": {
            "text/html": [
              "\n",
              "  <div id=\"df-3a330463-eb15-4119-a10d-933284f592ca\">\n",
              "    <div class=\"colab-df-container\">\n",
              "      <div>\n",
              "<style scoped>\n",
              "    .dataframe tbody tr th:only-of-type {\n",
              "        vertical-align: middle;\n",
              "    }\n",
              "\n",
              "    .dataframe tbody tr th {\n",
              "        vertical-align: top;\n",
              "    }\n",
              "\n",
              "    .dataframe thead th {\n",
              "        text-align: right;\n",
              "    }\n",
              "</style>\n",
              "<table border=\"1\" class=\"dataframe\">\n",
              "  <thead>\n",
              "    <tr style=\"text-align: right;\">\n",
              "      <th></th>\n",
              "      <th>EGIE3.SA</th>\n",
              "      <th>ITSA4.SA</th>\n",
              "      <th>SULA11.SA</th>\n",
              "      <th>ABEV3.SA</th>\n",
              "      <th>LREN3.SA</th>\n",
              "      <th>SLCE3.SA</th>\n",
              "      <th>BBAS3.SA</th>\n",
              "      <th>CSAN3.SA</th>\n",
              "      <th>B3SA3.SA</th>\n",
              "    </tr>\n",
              "  </thead>\n",
              "  <tbody>\n",
              "    <tr>\n",
              "      <th>EGIE3.SA</th>\n",
              "      <td>0.000237</td>\n",
              "      <td>0.000166</td>\n",
              "      <td>0.000140</td>\n",
              "      <td>0.000120</td>\n",
              "      <td>0.000198</td>\n",
              "      <td>0.000091</td>\n",
              "      <td>0.000223</td>\n",
              "      <td>0.000175</td>\n",
              "      <td>0.000198</td>\n",
              "    </tr>\n",
              "    <tr>\n",
              "      <th>ITSA4.SA</th>\n",
              "      <td>0.000166</td>\n",
              "      <td>0.000379</td>\n",
              "      <td>0.000199</td>\n",
              "      <td>0.000190</td>\n",
              "      <td>0.000301</td>\n",
              "      <td>0.000099</td>\n",
              "      <td>0.000409</td>\n",
              "      <td>0.000257</td>\n",
              "      <td>0.000298</td>\n",
              "    </tr>\n",
              "    <tr>\n",
              "      <th>SULA11.SA</th>\n",
              "      <td>0.000140</td>\n",
              "      <td>0.000199</td>\n",
              "      <td>0.000573</td>\n",
              "      <td>0.000159</td>\n",
              "      <td>0.000300</td>\n",
              "      <td>0.000141</td>\n",
              "      <td>0.000284</td>\n",
              "      <td>0.000248</td>\n",
              "      <td>0.000288</td>\n",
              "    </tr>\n",
              "    <tr>\n",
              "      <th>ABEV3.SA</th>\n",
              "      <td>0.000120</td>\n",
              "      <td>0.000190</td>\n",
              "      <td>0.000159</td>\n",
              "      <td>0.000357</td>\n",
              "      <td>0.000227</td>\n",
              "      <td>0.000099</td>\n",
              "      <td>0.000227</td>\n",
              "      <td>0.000194</td>\n",
              "      <td>0.000199</td>\n",
              "    </tr>\n",
              "    <tr>\n",
              "      <th>LREN3.SA</th>\n",
              "      <td>0.000198</td>\n",
              "      <td>0.000301</td>\n",
              "      <td>0.000300</td>\n",
              "      <td>0.000227</td>\n",
              "      <td>0.000675</td>\n",
              "      <td>0.000110</td>\n",
              "      <td>0.000423</td>\n",
              "      <td>0.000302</td>\n",
              "      <td>0.000370</td>\n",
              "    </tr>\n",
              "    <tr>\n",
              "      <th>SLCE3.SA</th>\n",
              "      <td>0.000091</td>\n",
              "      <td>0.000099</td>\n",
              "      <td>0.000141</td>\n",
              "      <td>0.000099</td>\n",
              "      <td>0.000110</td>\n",
              "      <td>0.000622</td>\n",
              "      <td>0.000147</td>\n",
              "      <td>0.000153</td>\n",
              "      <td>0.000156</td>\n",
              "    </tr>\n",
              "    <tr>\n",
              "      <th>BBAS3.SA</th>\n",
              "      <td>0.000223</td>\n",
              "      <td>0.000409</td>\n",
              "      <td>0.000284</td>\n",
              "      <td>0.000227</td>\n",
              "      <td>0.000423</td>\n",
              "      <td>0.000147</td>\n",
              "      <td>0.000704</td>\n",
              "      <td>0.000345</td>\n",
              "      <td>0.000410</td>\n",
              "    </tr>\n",
              "    <tr>\n",
              "      <th>CSAN3.SA</th>\n",
              "      <td>0.000175</td>\n",
              "      <td>0.000257</td>\n",
              "      <td>0.000248</td>\n",
              "      <td>0.000194</td>\n",
              "      <td>0.000302</td>\n",
              "      <td>0.000153</td>\n",
              "      <td>0.000345</td>\n",
              "      <td>0.000586</td>\n",
              "      <td>0.000310</td>\n",
              "    </tr>\n",
              "    <tr>\n",
              "      <th>B3SA3.SA</th>\n",
              "      <td>0.000198</td>\n",
              "      <td>0.000298</td>\n",
              "      <td>0.000288</td>\n",
              "      <td>0.000199</td>\n",
              "      <td>0.000370</td>\n",
              "      <td>0.000156</td>\n",
              "      <td>0.000410</td>\n",
              "      <td>0.000310</td>\n",
              "      <td>0.000600</td>\n",
              "    </tr>\n",
              "  </tbody>\n",
              "</table>\n",
              "</div>\n",
              "      <button class=\"colab-df-convert\" onclick=\"convertToInteractive('df-3a330463-eb15-4119-a10d-933284f592ca')\"\n",
              "              title=\"Convert this dataframe to an interactive table.\"\n",
              "              style=\"display:none;\">\n",
              "        \n",
              "  <svg xmlns=\"http://www.w3.org/2000/svg\" height=\"24px\"viewBox=\"0 0 24 24\"\n",
              "       width=\"24px\">\n",
              "    <path d=\"M0 0h24v24H0V0z\" fill=\"none\"/>\n",
              "    <path d=\"M18.56 5.44l.94 2.06.94-2.06 2.06-.94-2.06-.94-.94-2.06-.94 2.06-2.06.94zm-11 1L8.5 8.5l.94-2.06 2.06-.94-2.06-.94L8.5 2.5l-.94 2.06-2.06.94zm10 10l.94 2.06.94-2.06 2.06-.94-2.06-.94-.94-2.06-.94 2.06-2.06.94z\"/><path d=\"M17.41 7.96l-1.37-1.37c-.4-.4-.92-.59-1.43-.59-.52 0-1.04.2-1.43.59L10.3 9.45l-7.72 7.72c-.78.78-.78 2.05 0 2.83L4 21.41c.39.39.9.59 1.41.59.51 0 1.02-.2 1.41-.59l7.78-7.78 2.81-2.81c.8-.78.8-2.07 0-2.86zM5.41 20L4 18.59l7.72-7.72 1.47 1.35L5.41 20z\"/>\n",
              "  </svg>\n",
              "      </button>\n",
              "      \n",
              "  <style>\n",
              "    .colab-df-container {\n",
              "      display:flex;\n",
              "      flex-wrap:wrap;\n",
              "      gap: 12px;\n",
              "    }\n",
              "\n",
              "    .colab-df-convert {\n",
              "      background-color: #E8F0FE;\n",
              "      border: none;\n",
              "      border-radius: 50%;\n",
              "      cursor: pointer;\n",
              "      display: none;\n",
              "      fill: #1967D2;\n",
              "      height: 32px;\n",
              "      padding: 0 0 0 0;\n",
              "      width: 32px;\n",
              "    }\n",
              "\n",
              "    .colab-df-convert:hover {\n",
              "      background-color: #E2EBFA;\n",
              "      box-shadow: 0px 1px 2px rgba(60, 64, 67, 0.3), 0px 1px 3px 1px rgba(60, 64, 67, 0.15);\n",
              "      fill: #174EA6;\n",
              "    }\n",
              "\n",
              "    [theme=dark] .colab-df-convert {\n",
              "      background-color: #3B4455;\n",
              "      fill: #D2E3FC;\n",
              "    }\n",
              "\n",
              "    [theme=dark] .colab-df-convert:hover {\n",
              "      background-color: #434B5C;\n",
              "      box-shadow: 0px 1px 3px 1px rgba(0, 0, 0, 0.15);\n",
              "      filter: drop-shadow(0px 1px 2px rgba(0, 0, 0, 0.3));\n",
              "      fill: #FFFFFF;\n",
              "    }\n",
              "  </style>\n",
              "\n",
              "      <script>\n",
              "        const buttonEl =\n",
              "          document.querySelector('#df-3a330463-eb15-4119-a10d-933284f592ca button.colab-df-convert');\n",
              "        buttonEl.style.display =\n",
              "          google.colab.kernel.accessAllowed ? 'block' : 'none';\n",
              "\n",
              "        async function convertToInteractive(key) {\n",
              "          const element = document.querySelector('#df-3a330463-eb15-4119-a10d-933284f592ca');\n",
              "          const dataTable =\n",
              "            await google.colab.kernel.invokeFunction('convertToInteractive',\n",
              "                                                     [key], {});\n",
              "          if (!dataTable) return;\n",
              "\n",
              "          const docLinkHtml = 'Like what you see? Visit the ' +\n",
              "            '<a target=\"_blank\" href=https://colab.research.google.com/notebooks/data_table.ipynb>data table notebook</a>'\n",
              "            + ' to learn more about interactive tables.';\n",
              "          element.innerHTML = '';\n",
              "          dataTable['output_type'] = 'display_data';\n",
              "          await google.colab.output.renderOutput(dataTable, element);\n",
              "          const docLink = document.createElement('div');\n",
              "          docLink.innerHTML = docLinkHtml;\n",
              "          element.appendChild(docLink);\n",
              "        }\n",
              "      </script>\n",
              "    </div>\n",
              "  </div>\n",
              "  "
            ],
            "text/plain": [
              "           EGIE3.SA  ITSA4.SA  SULA11.SA  ...  BBAS3.SA  CSAN3.SA  B3SA3.SA\n",
              "EGIE3.SA   0.000237  0.000166   0.000140  ...  0.000223  0.000175  0.000198\n",
              "ITSA4.SA   0.000166  0.000379   0.000199  ...  0.000409  0.000257  0.000298\n",
              "SULA11.SA  0.000140  0.000199   0.000573  ...  0.000284  0.000248  0.000288\n",
              "ABEV3.SA   0.000120  0.000190   0.000159  ...  0.000227  0.000194  0.000199\n",
              "LREN3.SA   0.000198  0.000301   0.000300  ...  0.000423  0.000302  0.000370\n",
              "SLCE3.SA   0.000091  0.000099   0.000141  ...  0.000147  0.000153  0.000156\n",
              "BBAS3.SA   0.000223  0.000409   0.000284  ...  0.000704  0.000345  0.000410\n",
              "CSAN3.SA   0.000175  0.000257   0.000248  ...  0.000345  0.000586  0.000310\n",
              "B3SA3.SA   0.000198  0.000298   0.000288  ...  0.000410  0.000310  0.000600\n",
              "\n",
              "[9 rows x 9 columns]"
            ]
          },
          "metadata": {},
          "execution_count": 33
        }
      ]
    },
    {
      "cell_type": "code",
      "source": [
        "# matriz de covariância anual\n",
        "cov_matriz_anual = ret_log.cov() * 250\n",
        "cov_matriz_anual"
      ],
      "metadata": {
        "colab": {
          "base_uri": "https://localhost:8080/",
          "height": 331
        },
        "id": "1Ei7Gh5Xvop8",
        "outputId": "85228a62-67ea-41c6-b0bb-d7d4db149ff8"
      },
      "execution_count": 27,
      "outputs": [
        {
          "output_type": "execute_result",
          "data": {
            "text/html": [
              "\n",
              "  <div id=\"df-1ebbc245-e3cc-4f3e-bee2-eb2adcada962\">\n",
              "    <div class=\"colab-df-container\">\n",
              "      <div>\n",
              "<style scoped>\n",
              "    .dataframe tbody tr th:only-of-type {\n",
              "        vertical-align: middle;\n",
              "    }\n",
              "\n",
              "    .dataframe tbody tr th {\n",
              "        vertical-align: top;\n",
              "    }\n",
              "\n",
              "    .dataframe thead th {\n",
              "        text-align: right;\n",
              "    }\n",
              "</style>\n",
              "<table border=\"1\" class=\"dataframe\">\n",
              "  <thead>\n",
              "    <tr style=\"text-align: right;\">\n",
              "      <th></th>\n",
              "      <th>EGIE3.SA</th>\n",
              "      <th>ITSA4.SA</th>\n",
              "      <th>SULA11.SA</th>\n",
              "      <th>ABEV3.SA</th>\n",
              "      <th>LREN3.SA</th>\n",
              "      <th>SLCE3.SA</th>\n",
              "      <th>BBAS3.SA</th>\n",
              "      <th>CSAN3.SA</th>\n",
              "      <th>B3SA3.SA</th>\n",
              "    </tr>\n",
              "  </thead>\n",
              "  <tbody>\n",
              "    <tr>\n",
              "      <th>EGIE3.SA</th>\n",
              "      <td>0.058951</td>\n",
              "      <td>0.041366</td>\n",
              "      <td>0.034779</td>\n",
              "      <td>0.029897</td>\n",
              "      <td>0.049422</td>\n",
              "      <td>0.022648</td>\n",
              "      <td>0.055616</td>\n",
              "      <td>0.043477</td>\n",
              "      <td>0.049275</td>\n",
              "    </tr>\n",
              "    <tr>\n",
              "      <th>ITSA4.SA</th>\n",
              "      <td>0.041366</td>\n",
              "      <td>0.094855</td>\n",
              "      <td>0.049666</td>\n",
              "      <td>0.047346</td>\n",
              "      <td>0.074978</td>\n",
              "      <td>0.024248</td>\n",
              "      <td>0.102316</td>\n",
              "      <td>0.063927</td>\n",
              "      <td>0.074228</td>\n",
              "    </tr>\n",
              "    <tr>\n",
              "      <th>SULA11.SA</th>\n",
              "      <td>0.034779</td>\n",
              "      <td>0.049666</td>\n",
              "      <td>0.142702</td>\n",
              "      <td>0.039624</td>\n",
              "      <td>0.074645</td>\n",
              "      <td>0.034940</td>\n",
              "      <td>0.070940</td>\n",
              "      <td>0.061811</td>\n",
              "      <td>0.071843</td>\n",
              "    </tr>\n",
              "    <tr>\n",
              "      <th>ABEV3.SA</th>\n",
              "      <td>0.029897</td>\n",
              "      <td>0.047346</td>\n",
              "      <td>0.039624</td>\n",
              "      <td>0.089136</td>\n",
              "      <td>0.056831</td>\n",
              "      <td>0.024345</td>\n",
              "      <td>0.056714</td>\n",
              "      <td>0.048368</td>\n",
              "      <td>0.049708</td>\n",
              "    </tr>\n",
              "    <tr>\n",
              "      <th>LREN3.SA</th>\n",
              "      <td>0.049422</td>\n",
              "      <td>0.074978</td>\n",
              "      <td>0.074645</td>\n",
              "      <td>0.056831</td>\n",
              "      <td>0.168752</td>\n",
              "      <td>0.026921</td>\n",
              "      <td>0.105603</td>\n",
              "      <td>0.075228</td>\n",
              "      <td>0.092462</td>\n",
              "    </tr>\n",
              "    <tr>\n",
              "      <th>SLCE3.SA</th>\n",
              "      <td>0.022648</td>\n",
              "      <td>0.024248</td>\n",
              "      <td>0.034940</td>\n",
              "      <td>0.024345</td>\n",
              "      <td>0.026921</td>\n",
              "      <td>0.155561</td>\n",
              "      <td>0.036141</td>\n",
              "      <td>0.038211</td>\n",
              "      <td>0.038677</td>\n",
              "    </tr>\n",
              "    <tr>\n",
              "      <th>BBAS3.SA</th>\n",
              "      <td>0.055616</td>\n",
              "      <td>0.102316</td>\n",
              "      <td>0.070940</td>\n",
              "      <td>0.056714</td>\n",
              "      <td>0.105603</td>\n",
              "      <td>0.036141</td>\n",
              "      <td>0.175904</td>\n",
              "      <td>0.085913</td>\n",
              "      <td>0.102309</td>\n",
              "    </tr>\n",
              "    <tr>\n",
              "      <th>CSAN3.SA</th>\n",
              "      <td>0.043477</td>\n",
              "      <td>0.063927</td>\n",
              "      <td>0.061811</td>\n",
              "      <td>0.048368</td>\n",
              "      <td>0.075228</td>\n",
              "      <td>0.038211</td>\n",
              "      <td>0.085913</td>\n",
              "      <td>0.146048</td>\n",
              "      <td>0.077145</td>\n",
              "    </tr>\n",
              "    <tr>\n",
              "      <th>B3SA3.SA</th>\n",
              "      <td>0.049275</td>\n",
              "      <td>0.074228</td>\n",
              "      <td>0.071843</td>\n",
              "      <td>0.049708</td>\n",
              "      <td>0.092462</td>\n",
              "      <td>0.038677</td>\n",
              "      <td>0.102309</td>\n",
              "      <td>0.077145</td>\n",
              "      <td>0.149768</td>\n",
              "    </tr>\n",
              "  </tbody>\n",
              "</table>\n",
              "</div>\n",
              "      <button class=\"colab-df-convert\" onclick=\"convertToInteractive('df-1ebbc245-e3cc-4f3e-bee2-eb2adcada962')\"\n",
              "              title=\"Convert this dataframe to an interactive table.\"\n",
              "              style=\"display:none;\">\n",
              "        \n",
              "  <svg xmlns=\"http://www.w3.org/2000/svg\" height=\"24px\"viewBox=\"0 0 24 24\"\n",
              "       width=\"24px\">\n",
              "    <path d=\"M0 0h24v24H0V0z\" fill=\"none\"/>\n",
              "    <path d=\"M18.56 5.44l.94 2.06.94-2.06 2.06-.94-2.06-.94-.94-2.06-.94 2.06-2.06.94zm-11 1L8.5 8.5l.94-2.06 2.06-.94-2.06-.94L8.5 2.5l-.94 2.06-2.06.94zm10 10l.94 2.06.94-2.06 2.06-.94-2.06-.94-.94-2.06-.94 2.06-2.06.94z\"/><path d=\"M17.41 7.96l-1.37-1.37c-.4-.4-.92-.59-1.43-.59-.52 0-1.04.2-1.43.59L10.3 9.45l-7.72 7.72c-.78.78-.78 2.05 0 2.83L4 21.41c.39.39.9.59 1.41.59.51 0 1.02-.2 1.41-.59l7.78-7.78 2.81-2.81c.8-.78.8-2.07 0-2.86zM5.41 20L4 18.59l7.72-7.72 1.47 1.35L5.41 20z\"/>\n",
              "  </svg>\n",
              "      </button>\n",
              "      \n",
              "  <style>\n",
              "    .colab-df-container {\n",
              "      display:flex;\n",
              "      flex-wrap:wrap;\n",
              "      gap: 12px;\n",
              "    }\n",
              "\n",
              "    .colab-df-convert {\n",
              "      background-color: #E8F0FE;\n",
              "      border: none;\n",
              "      border-radius: 50%;\n",
              "      cursor: pointer;\n",
              "      display: none;\n",
              "      fill: #1967D2;\n",
              "      height: 32px;\n",
              "      padding: 0 0 0 0;\n",
              "      width: 32px;\n",
              "    }\n",
              "\n",
              "    .colab-df-convert:hover {\n",
              "      background-color: #E2EBFA;\n",
              "      box-shadow: 0px 1px 2px rgba(60, 64, 67, 0.3), 0px 1px 3px 1px rgba(60, 64, 67, 0.15);\n",
              "      fill: #174EA6;\n",
              "    }\n",
              "\n",
              "    [theme=dark] .colab-df-convert {\n",
              "      background-color: #3B4455;\n",
              "      fill: #D2E3FC;\n",
              "    }\n",
              "\n",
              "    [theme=dark] .colab-df-convert:hover {\n",
              "      background-color: #434B5C;\n",
              "      box-shadow: 0px 1px 3px 1px rgba(0, 0, 0, 0.15);\n",
              "      filter: drop-shadow(0px 1px 2px rgba(0, 0, 0, 0.3));\n",
              "      fill: #FFFFFF;\n",
              "    }\n",
              "  </style>\n",
              "\n",
              "      <script>\n",
              "        const buttonEl =\n",
              "          document.querySelector('#df-1ebbc245-e3cc-4f3e-bee2-eb2adcada962 button.colab-df-convert');\n",
              "        buttonEl.style.display =\n",
              "          google.colab.kernel.accessAllowed ? 'block' : 'none';\n",
              "\n",
              "        async function convertToInteractive(key) {\n",
              "          const element = document.querySelector('#df-1ebbc245-e3cc-4f3e-bee2-eb2adcada962');\n",
              "          const dataTable =\n",
              "            await google.colab.kernel.invokeFunction('convertToInteractive',\n",
              "                                                     [key], {});\n",
              "          if (!dataTable) return;\n",
              "\n",
              "          const docLinkHtml = 'Like what you see? Visit the ' +\n",
              "            '<a target=\"_blank\" href=https://colab.research.google.com/notebooks/data_table.ipynb>data table notebook</a>'\n",
              "            + ' to learn more about interactive tables.';\n",
              "          element.innerHTML = '';\n",
              "          dataTable['output_type'] = 'display_data';\n",
              "          await google.colab.output.renderOutput(dataTable, element);\n",
              "          const docLink = document.createElement('div');\n",
              "          docLink.innerHTML = docLinkHtml;\n",
              "          element.appendChild(docLink);\n",
              "        }\n",
              "      </script>\n",
              "    </div>\n",
              "  </div>\n",
              "  "
            ],
            "text/plain": [
              "           EGIE3.SA  ITSA4.SA  SULA11.SA  ...  BBAS3.SA  CSAN3.SA  B3SA3.SA\n",
              "EGIE3.SA   0.058951  0.041366   0.034779  ...  0.055616  0.043477  0.049275\n",
              "ITSA4.SA   0.041366  0.094855   0.049666  ...  0.102316  0.063927  0.074228\n",
              "SULA11.SA  0.034779  0.049666   0.142702  ...  0.070940  0.061811  0.071843\n",
              "ABEV3.SA   0.029897  0.047346   0.039624  ...  0.056714  0.048368  0.049708\n",
              "LREN3.SA   0.049422  0.074978   0.074645  ...  0.105603  0.075228  0.092462\n",
              "SLCE3.SA   0.022648  0.024248   0.034940  ...  0.036141  0.038211  0.038677\n",
              "BBAS3.SA   0.055616  0.102316   0.070940  ...  0.175904  0.085913  0.102309\n",
              "CSAN3.SA   0.043477  0.063927   0.061811  ...  0.085913  0.146048  0.077145\n",
              "B3SA3.SA   0.049275  0.074228   0.071843  ...  0.102309  0.077145  0.149768\n",
              "\n",
              "[9 rows x 9 columns]"
            ]
          },
          "metadata": {},
          "execution_count": 27
        }
      ]
    },
    {
      "cell_type": "markdown",
      "metadata": {
        "id": "ojVquAOGo-ta"
      },
      "source": [
        "Matriz de correlação:"
      ]
    },
    {
      "cell_type": "code",
      "source": [
        "corr_matriz = ret_log.corr()\n",
        "corr_matriz"
      ],
      "metadata": {
        "colab": {
          "base_uri": "https://localhost:8080/",
          "height": 331
        },
        "id": "QMva3egDwgv6",
        "outputId": "c6801476-65ea-48b0-a2b9-2960ddf10d47"
      },
      "execution_count": 28,
      "outputs": [
        {
          "output_type": "execute_result",
          "data": {
            "text/html": [
              "\n",
              "  <div id=\"df-ebd5f540-e34c-4db1-b0ca-668416e42629\">\n",
              "    <div class=\"colab-df-container\">\n",
              "      <div>\n",
              "<style scoped>\n",
              "    .dataframe tbody tr th:only-of-type {\n",
              "        vertical-align: middle;\n",
              "    }\n",
              "\n",
              "    .dataframe tbody tr th {\n",
              "        vertical-align: top;\n",
              "    }\n",
              "\n",
              "    .dataframe thead th {\n",
              "        text-align: right;\n",
              "    }\n",
              "</style>\n",
              "<table border=\"1\" class=\"dataframe\">\n",
              "  <thead>\n",
              "    <tr style=\"text-align: right;\">\n",
              "      <th></th>\n",
              "      <th>EGIE3.SA</th>\n",
              "      <th>ITSA4.SA</th>\n",
              "      <th>SULA11.SA</th>\n",
              "      <th>ABEV3.SA</th>\n",
              "      <th>LREN3.SA</th>\n",
              "      <th>SLCE3.SA</th>\n",
              "      <th>BBAS3.SA</th>\n",
              "      <th>CSAN3.SA</th>\n",
              "      <th>B3SA3.SA</th>\n",
              "    </tr>\n",
              "  </thead>\n",
              "  <tbody>\n",
              "    <tr>\n",
              "      <th>EGIE3.SA</th>\n",
              "      <td>1.000000</td>\n",
              "      <td>0.553183</td>\n",
              "      <td>0.379189</td>\n",
              "      <td>0.412435</td>\n",
              "      <td>0.495507</td>\n",
              "      <td>0.236506</td>\n",
              "      <td>0.546159</td>\n",
              "      <td>0.468565</td>\n",
              "      <td>0.524412</td>\n",
              "    </tr>\n",
              "    <tr>\n",
              "      <th>ITSA4.SA</th>\n",
              "      <td>0.553183</td>\n",
              "      <td>1.000000</td>\n",
              "      <td>0.426886</td>\n",
              "      <td>0.514900</td>\n",
              "      <td>0.592622</td>\n",
              "      <td>0.199613</td>\n",
              "      <td>0.792090</td>\n",
              "      <td>0.543133</td>\n",
              "      <td>0.622769</td>\n",
              "    </tr>\n",
              "    <tr>\n",
              "      <th>SULA11.SA</th>\n",
              "      <td>0.379189</td>\n",
              "      <td>0.426886</td>\n",
              "      <td>1.000000</td>\n",
              "      <td>0.351335</td>\n",
              "      <td>0.481016</td>\n",
              "      <td>0.234508</td>\n",
              "      <td>0.447755</td>\n",
              "      <td>0.428159</td>\n",
              "      <td>0.491428</td>\n",
              "    </tr>\n",
              "    <tr>\n",
              "      <th>ABEV3.SA</th>\n",
              "      <td>0.412435</td>\n",
              "      <td>0.514900</td>\n",
              "      <td>0.351335</td>\n",
              "      <td>1.000000</td>\n",
              "      <td>0.463373</td>\n",
              "      <td>0.206742</td>\n",
              "      <td>0.452927</td>\n",
              "      <td>0.423919</td>\n",
              "      <td>0.430217</td>\n",
              "    </tr>\n",
              "    <tr>\n",
              "      <th>LREN3.SA</th>\n",
              "      <td>0.495507</td>\n",
              "      <td>0.592622</td>\n",
              "      <td>0.481016</td>\n",
              "      <td>0.463373</td>\n",
              "      <td>1.000000</td>\n",
              "      <td>0.166154</td>\n",
              "      <td>0.612937</td>\n",
              "      <td>0.479188</td>\n",
              "      <td>0.581607</td>\n",
              "    </tr>\n",
              "    <tr>\n",
              "      <th>SLCE3.SA</th>\n",
              "      <td>0.236506</td>\n",
              "      <td>0.199613</td>\n",
              "      <td>0.234508</td>\n",
              "      <td>0.206742</td>\n",
              "      <td>0.166154</td>\n",
              "      <td>1.000000</td>\n",
              "      <td>0.218481</td>\n",
              "      <td>0.253509</td>\n",
              "      <td>0.253393</td>\n",
              "    </tr>\n",
              "    <tr>\n",
              "      <th>BBAS3.SA</th>\n",
              "      <td>0.546159</td>\n",
              "      <td>0.792090</td>\n",
              "      <td>0.447755</td>\n",
              "      <td>0.452927</td>\n",
              "      <td>0.612937</td>\n",
              "      <td>0.218481</td>\n",
              "      <td>1.000000</td>\n",
              "      <td>0.536012</td>\n",
              "      <td>0.630324</td>\n",
              "    </tr>\n",
              "    <tr>\n",
              "      <th>CSAN3.SA</th>\n",
              "      <td>0.468565</td>\n",
              "      <td>0.543133</td>\n",
              "      <td>0.428159</td>\n",
              "      <td>0.423919</td>\n",
              "      <td>0.479188</td>\n",
              "      <td>0.253509</td>\n",
              "      <td>0.536012</td>\n",
              "      <td>1.000000</td>\n",
              "      <td>0.521618</td>\n",
              "    </tr>\n",
              "    <tr>\n",
              "      <th>B3SA3.SA</th>\n",
              "      <td>0.524412</td>\n",
              "      <td>0.622769</td>\n",
              "      <td>0.491428</td>\n",
              "      <td>0.430217</td>\n",
              "      <td>0.581607</td>\n",
              "      <td>0.253393</td>\n",
              "      <td>0.630324</td>\n",
              "      <td>0.521618</td>\n",
              "      <td>1.000000</td>\n",
              "    </tr>\n",
              "  </tbody>\n",
              "</table>\n",
              "</div>\n",
              "      <button class=\"colab-df-convert\" onclick=\"convertToInteractive('df-ebd5f540-e34c-4db1-b0ca-668416e42629')\"\n",
              "              title=\"Convert this dataframe to an interactive table.\"\n",
              "              style=\"display:none;\">\n",
              "        \n",
              "  <svg xmlns=\"http://www.w3.org/2000/svg\" height=\"24px\"viewBox=\"0 0 24 24\"\n",
              "       width=\"24px\">\n",
              "    <path d=\"M0 0h24v24H0V0z\" fill=\"none\"/>\n",
              "    <path d=\"M18.56 5.44l.94 2.06.94-2.06 2.06-.94-2.06-.94-.94-2.06-.94 2.06-2.06.94zm-11 1L8.5 8.5l.94-2.06 2.06-.94-2.06-.94L8.5 2.5l-.94 2.06-2.06.94zm10 10l.94 2.06.94-2.06 2.06-.94-2.06-.94-.94-2.06-.94 2.06-2.06.94z\"/><path d=\"M17.41 7.96l-1.37-1.37c-.4-.4-.92-.59-1.43-.59-.52 0-1.04.2-1.43.59L10.3 9.45l-7.72 7.72c-.78.78-.78 2.05 0 2.83L4 21.41c.39.39.9.59 1.41.59.51 0 1.02-.2 1.41-.59l7.78-7.78 2.81-2.81c.8-.78.8-2.07 0-2.86zM5.41 20L4 18.59l7.72-7.72 1.47 1.35L5.41 20z\"/>\n",
              "  </svg>\n",
              "      </button>\n",
              "      \n",
              "  <style>\n",
              "    .colab-df-container {\n",
              "      display:flex;\n",
              "      flex-wrap:wrap;\n",
              "      gap: 12px;\n",
              "    }\n",
              "\n",
              "    .colab-df-convert {\n",
              "      background-color: #E8F0FE;\n",
              "      border: none;\n",
              "      border-radius: 50%;\n",
              "      cursor: pointer;\n",
              "      display: none;\n",
              "      fill: #1967D2;\n",
              "      height: 32px;\n",
              "      padding: 0 0 0 0;\n",
              "      width: 32px;\n",
              "    }\n",
              "\n",
              "    .colab-df-convert:hover {\n",
              "      background-color: #E2EBFA;\n",
              "      box-shadow: 0px 1px 2px rgba(60, 64, 67, 0.3), 0px 1px 3px 1px rgba(60, 64, 67, 0.15);\n",
              "      fill: #174EA6;\n",
              "    }\n",
              "\n",
              "    [theme=dark] .colab-df-convert {\n",
              "      background-color: #3B4455;\n",
              "      fill: #D2E3FC;\n",
              "    }\n",
              "\n",
              "    [theme=dark] .colab-df-convert:hover {\n",
              "      background-color: #434B5C;\n",
              "      box-shadow: 0px 1px 3px 1px rgba(0, 0, 0, 0.15);\n",
              "      filter: drop-shadow(0px 1px 2px rgba(0, 0, 0, 0.3));\n",
              "      fill: #FFFFFF;\n",
              "    }\n",
              "  </style>\n",
              "\n",
              "      <script>\n",
              "        const buttonEl =\n",
              "          document.querySelector('#df-ebd5f540-e34c-4db1-b0ca-668416e42629 button.colab-df-convert');\n",
              "        buttonEl.style.display =\n",
              "          google.colab.kernel.accessAllowed ? 'block' : 'none';\n",
              "\n",
              "        async function convertToInteractive(key) {\n",
              "          const element = document.querySelector('#df-ebd5f540-e34c-4db1-b0ca-668416e42629');\n",
              "          const dataTable =\n",
              "            await google.colab.kernel.invokeFunction('convertToInteractive',\n",
              "                                                     [key], {});\n",
              "          if (!dataTable) return;\n",
              "\n",
              "          const docLinkHtml = 'Like what you see? Visit the ' +\n",
              "            '<a target=\"_blank\" href=https://colab.research.google.com/notebooks/data_table.ipynb>data table notebook</a>'\n",
              "            + ' to learn more about interactive tables.';\n",
              "          element.innerHTML = '';\n",
              "          dataTable['output_type'] = 'display_data';\n",
              "          await google.colab.output.renderOutput(dataTable, element);\n",
              "          const docLink = document.createElement('div');\n",
              "          docLink.innerHTML = docLinkHtml;\n",
              "          element.appendChild(docLink);\n",
              "        }\n",
              "      </script>\n",
              "    </div>\n",
              "  </div>\n",
              "  "
            ],
            "text/plain": [
              "           EGIE3.SA  ITSA4.SA  SULA11.SA  ...  BBAS3.SA  CSAN3.SA  B3SA3.SA\n",
              "EGIE3.SA   1.000000  0.553183   0.379189  ...  0.546159  0.468565  0.524412\n",
              "ITSA4.SA   0.553183  1.000000   0.426886  ...  0.792090  0.543133  0.622769\n",
              "SULA11.SA  0.379189  0.426886   1.000000  ...  0.447755  0.428159  0.491428\n",
              "ABEV3.SA   0.412435  0.514900   0.351335  ...  0.452927  0.423919  0.430217\n",
              "LREN3.SA   0.495507  0.592622   0.481016  ...  0.612937  0.479188  0.581607\n",
              "SLCE3.SA   0.236506  0.199613   0.234508  ...  0.218481  0.253509  0.253393\n",
              "BBAS3.SA   0.546159  0.792090   0.447755  ...  1.000000  0.536012  0.630324\n",
              "CSAN3.SA   0.468565  0.543133   0.428159  ...  0.536012  1.000000  0.521618\n",
              "B3SA3.SA   0.524412  0.622769   0.491428  ...  0.630324  0.521618  1.000000\n",
              "\n",
              "[9 rows x 9 columns]"
            ]
          },
          "metadata": {},
          "execution_count": 28
        }
      ]
    }
  ]
}