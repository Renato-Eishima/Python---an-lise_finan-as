{
  "nbformat": 4,
  "nbformat_minor": 0,
  "metadata": {
    "colab": {
      "name": "Calc_risco_ativo.ipynb",
      "provenance": [],
      "collapsed_sections": [],
      "authorship_tag": "ABX9TyOXMeaiTqYg61vJqeRbqlVb",
      "include_colab_link": true
    },
    "kernelspec": {
      "name": "python3",
      "display_name": "Python 3"
    },
    "language_info": {
      "name": "python"
    }
  },
  "cells": [
    {
      "cell_type": "markdown",
      "metadata": {
        "id": "view-in-github",
        "colab_type": "text"
      },
      "source": [
        "<a href=\"https://colab.research.google.com/github/Renato-Eishima/Python_analise_financas/blob/main/Calc_risco_ativo.ipynb\" target=\"_parent\"><img src=\"https://colab.research.google.com/assets/colab-badge.svg\" alt=\"Open In Colab\"/></a>"
      ]
    },
    {
      "cell_type": "markdown",
      "metadata": {
        "id": "WZPEQzrXwmw_"
      },
      "source": [
        "## Calculando o Risco de um ativo"
      ]
    },
    {
      "cell_type": "code",
      "execution_count": 1,
      "metadata": {
        "colab": {
          "base_uri": "https://localhost:8080/"
        },
        "id": "rYqqr12yJgxW",
        "outputId": "95379558-37fb-45e9-b8c7-2c36eae8a93f"
      },
      "outputs": [
        {
          "output_type": "stream",
          "name": "stdout",
          "text": [
            "Collecting yfinance\n",
            "  Downloading yfinance-0.1.70-py2.py3-none-any.whl (26 kB)\n",
            "Requirement already satisfied: pandas>=0.24.0 in /usr/local/lib/python3.7/dist-packages (from yfinance) (1.3.5)\n",
            "Requirement already satisfied: multitasking>=0.0.7 in /usr/local/lib/python3.7/dist-packages (from yfinance) (0.0.10)\n",
            "Collecting lxml>=4.5.1\n",
            "  Downloading lxml-4.7.1-cp37-cp37m-manylinux_2_17_x86_64.manylinux2014_x86_64.manylinux_2_24_x86_64.whl (6.4 MB)\n",
            "\u001b[K     |████████████████████████████████| 6.4 MB 7.7 MB/s \n",
            "\u001b[?25hRequirement already satisfied: numpy>=1.15 in /usr/local/lib/python3.7/dist-packages (from yfinance) (1.19.5)\n",
            "Collecting requests>=2.26\n",
            "  Downloading requests-2.27.1-py2.py3-none-any.whl (63 kB)\n",
            "\u001b[K     |████████████████████████████████| 63 kB 1.4 MB/s \n",
            "\u001b[?25hRequirement already satisfied: python-dateutil>=2.7.3 in /usr/local/lib/python3.7/dist-packages (from pandas>=0.24.0->yfinance) (2.8.2)\n",
            "Requirement already satisfied: pytz>=2017.3 in /usr/local/lib/python3.7/dist-packages (from pandas>=0.24.0->yfinance) (2018.9)\n",
            "Requirement already satisfied: six>=1.5 in /usr/local/lib/python3.7/dist-packages (from python-dateutil>=2.7.3->pandas>=0.24.0->yfinance) (1.15.0)\n",
            "Requirement already satisfied: certifi>=2017.4.17 in /usr/local/lib/python3.7/dist-packages (from requests>=2.26->yfinance) (2021.10.8)\n",
            "Requirement already satisfied: urllib3<1.27,>=1.21.1 in /usr/local/lib/python3.7/dist-packages (from requests>=2.26->yfinance) (1.24.3)\n",
            "Requirement already satisfied: charset-normalizer~=2.0.0 in /usr/local/lib/python3.7/dist-packages (from requests>=2.26->yfinance) (2.0.11)\n",
            "Requirement already satisfied: idna<4,>=2.5 in /usr/local/lib/python3.7/dist-packages (from requests>=2.26->yfinance) (2.10)\n",
            "Installing collected packages: requests, lxml, yfinance\n",
            "  Attempting uninstall: requests\n",
            "    Found existing installation: requests 2.23.0\n",
            "    Uninstalling requests-2.23.0:\n",
            "      Successfully uninstalled requests-2.23.0\n",
            "  Attempting uninstall: lxml\n",
            "    Found existing installation: lxml 4.2.6\n",
            "    Uninstalling lxml-4.2.6:\n",
            "      Successfully uninstalled lxml-4.2.6\n",
            "\u001b[31mERROR: pip's dependency resolver does not currently take into account all the packages that are installed. This behaviour is the source of the following dependency conflicts.\n",
            "google-colab 1.0.0 requires requests~=2.23.0, but you have requests 2.27.1 which is incompatible.\n",
            "datascience 0.10.6 requires folium==0.2.1, but you have folium 0.8.3 which is incompatible.\u001b[0m\n",
            "Successfully installed lxml-4.7.1 requests-2.27.1 yfinance-0.1.70\n"
          ]
        }
      ],
      "source": [
        "!pip install yfinance"
      ]
    },
    {
      "cell_type": "code",
      "source": [
        "import numpy as np\n",
        "import pandas as pd\n",
        "import yfinance as yf\n",
        "import matplotlib.pyplot as plt"
      ],
      "metadata": {
        "id": "DKtYDEryKfud"
      },
      "execution_count": 2,
      "outputs": []
    },
    {
      "cell_type": "code",
      "source": [
        "acoes = ['EGIE3.SA', 'ITSA4.SA', 'SULA11.SA', 'ABEV3.SA', 'LREN3.SA', 'SLCE3.SA', 'BBAS3.SA', 'CSAN3.SA', 'B3SA3.SA'] \n",
        "carteira = pd.DataFrame()\n",
        "\n",
        "for acao in acoes:\n",
        "  carteira[acao] = yf.download(acao, start = '2017-01-01')['Adj Close']"
      ],
      "metadata": {
        "colab": {
          "base_uri": "https://localhost:8080/"
        },
        "id": "hKIvU6deK5lb",
        "outputId": "1d23b02f-7090-45b6-d418-8397625f31cf"
      },
      "execution_count": 3,
      "outputs": [
        {
          "output_type": "stream",
          "name": "stdout",
          "text": [
            "[*********************100%***********************]  1 of 1 completed\n",
            "[*********************100%***********************]  1 of 1 completed\n",
            "[*********************100%***********************]  1 of 1 completed\n",
            "[*********************100%***********************]  1 of 1 completed\n",
            "[*********************100%***********************]  1 of 1 completed\n",
            "[*********************100%***********************]  1 of 1 completed\n",
            "[*********************100%***********************]  1 of 1 completed\n",
            "[*********************100%***********************]  1 of 1 completed\n",
            "[*********************100%***********************]  1 of 1 completed\n"
          ]
        }
      ]
    },
    {
      "cell_type": "code",
      "source": [
        "carteira.tail()"
      ],
      "metadata": {
        "colab": {
          "base_uri": "https://localhost:8080/",
          "height": 237
        },
        "id": "yoIT5wJvLYsr",
        "outputId": "b5f1bf1f-4842-44b1-b5af-6e9149d37b98"
      },
      "execution_count": 4,
      "outputs": [
        {
          "output_type": "execute_result",
          "data": {
            "text/html": [
              "\n",
              "  <div id=\"df-915b58fa-12f2-47f8-a548-84de36ae3419\">\n",
              "    <div class=\"colab-df-container\">\n",
              "      <div>\n",
              "<style scoped>\n",
              "    .dataframe tbody tr th:only-of-type {\n",
              "        vertical-align: middle;\n",
              "    }\n",
              "\n",
              "    .dataframe tbody tr th {\n",
              "        vertical-align: top;\n",
              "    }\n",
              "\n",
              "    .dataframe thead th {\n",
              "        text-align: right;\n",
              "    }\n",
              "</style>\n",
              "<table border=\"1\" class=\"dataframe\">\n",
              "  <thead>\n",
              "    <tr style=\"text-align: right;\">\n",
              "      <th></th>\n",
              "      <th>EGIE3.SA</th>\n",
              "      <th>ITSA4.SA</th>\n",
              "      <th>SULA11.SA</th>\n",
              "      <th>ABEV3.SA</th>\n",
              "      <th>LREN3.SA</th>\n",
              "      <th>SLCE3.SA</th>\n",
              "      <th>BBAS3.SA</th>\n",
              "      <th>CSAN3.SA</th>\n",
              "      <th>B3SA3.SA</th>\n",
              "    </tr>\n",
              "    <tr>\n",
              "      <th>Date</th>\n",
              "      <th></th>\n",
              "      <th></th>\n",
              "      <th></th>\n",
              "      <th></th>\n",
              "      <th></th>\n",
              "      <th></th>\n",
              "      <th></th>\n",
              "      <th></th>\n",
              "      <th></th>\n",
              "    </tr>\n",
              "  </thead>\n",
              "  <tbody>\n",
              "    <tr>\n",
              "      <th>2022-02-08</th>\n",
              "      <td>40.080002</td>\n",
              "      <td>10.15</td>\n",
              "      <td>24.350000</td>\n",
              "      <td>14.16</td>\n",
              "      <td>25.58</td>\n",
              "      <td>47.900002</td>\n",
              "      <td>32.200001</td>\n",
              "      <td>22.170000</td>\n",
              "      <td>13.55</td>\n",
              "    </tr>\n",
              "    <tr>\n",
              "      <th>2022-02-09</th>\n",
              "      <td>40.500000</td>\n",
              "      <td>9.98</td>\n",
              "      <td>24.940001</td>\n",
              "      <td>14.54</td>\n",
              "      <td>25.91</td>\n",
              "      <td>48.209999</td>\n",
              "      <td>31.920000</td>\n",
              "      <td>22.360001</td>\n",
              "      <td>14.16</td>\n",
              "    </tr>\n",
              "    <tr>\n",
              "      <th>2022-02-10</th>\n",
              "      <td>40.360001</td>\n",
              "      <td>10.09</td>\n",
              "      <td>25.420000</td>\n",
              "      <td>14.75</td>\n",
              "      <td>25.58</td>\n",
              "      <td>48.740002</td>\n",
              "      <td>32.270000</td>\n",
              "      <td>22.320000</td>\n",
              "      <td>14.10</td>\n",
              "    </tr>\n",
              "    <tr>\n",
              "      <th>2022-02-11</th>\n",
              "      <td>40.500000</td>\n",
              "      <td>10.47</td>\n",
              "      <td>25.450001</td>\n",
              "      <td>14.88</td>\n",
              "      <td>25.16</td>\n",
              "      <td>47.369999</td>\n",
              "      <td>33.299999</td>\n",
              "      <td>22.250000</td>\n",
              "      <td>13.94</td>\n",
              "    </tr>\n",
              "    <tr>\n",
              "      <th>2022-02-14</th>\n",
              "      <td>40.610001</td>\n",
              "      <td>10.54</td>\n",
              "      <td>25.200001</td>\n",
              "      <td>15.01</td>\n",
              "      <td>26.07</td>\n",
              "      <td>48.730000</td>\n",
              "      <td>33.410000</td>\n",
              "      <td>22.299999</td>\n",
              "      <td>14.26</td>\n",
              "    </tr>\n",
              "  </tbody>\n",
              "</table>\n",
              "</div>\n",
              "      <button class=\"colab-df-convert\" onclick=\"convertToInteractive('df-915b58fa-12f2-47f8-a548-84de36ae3419')\"\n",
              "              title=\"Convert this dataframe to an interactive table.\"\n",
              "              style=\"display:none;\">\n",
              "        \n",
              "  <svg xmlns=\"http://www.w3.org/2000/svg\" height=\"24px\"viewBox=\"0 0 24 24\"\n",
              "       width=\"24px\">\n",
              "    <path d=\"M0 0h24v24H0V0z\" fill=\"none\"/>\n",
              "    <path d=\"M18.56 5.44l.94 2.06.94-2.06 2.06-.94-2.06-.94-.94-2.06-.94 2.06-2.06.94zm-11 1L8.5 8.5l.94-2.06 2.06-.94-2.06-.94L8.5 2.5l-.94 2.06-2.06.94zm10 10l.94 2.06.94-2.06 2.06-.94-2.06-.94-.94-2.06-.94 2.06-2.06.94z\"/><path d=\"M17.41 7.96l-1.37-1.37c-.4-.4-.92-.59-1.43-.59-.52 0-1.04.2-1.43.59L10.3 9.45l-7.72 7.72c-.78.78-.78 2.05 0 2.83L4 21.41c.39.39.9.59 1.41.59.51 0 1.02-.2 1.41-.59l7.78-7.78 2.81-2.81c.8-.78.8-2.07 0-2.86zM5.41 20L4 18.59l7.72-7.72 1.47 1.35L5.41 20z\"/>\n",
              "  </svg>\n",
              "      </button>\n",
              "      \n",
              "  <style>\n",
              "    .colab-df-container {\n",
              "      display:flex;\n",
              "      flex-wrap:wrap;\n",
              "      gap: 12px;\n",
              "    }\n",
              "\n",
              "    .colab-df-convert {\n",
              "      background-color: #E8F0FE;\n",
              "      border: none;\n",
              "      border-radius: 50%;\n",
              "      cursor: pointer;\n",
              "      display: none;\n",
              "      fill: #1967D2;\n",
              "      height: 32px;\n",
              "      padding: 0 0 0 0;\n",
              "      width: 32px;\n",
              "    }\n",
              "\n",
              "    .colab-df-convert:hover {\n",
              "      background-color: #E2EBFA;\n",
              "      box-shadow: 0px 1px 2px rgba(60, 64, 67, 0.3), 0px 1px 3px 1px rgba(60, 64, 67, 0.15);\n",
              "      fill: #174EA6;\n",
              "    }\n",
              "\n",
              "    [theme=dark] .colab-df-convert {\n",
              "      background-color: #3B4455;\n",
              "      fill: #D2E3FC;\n",
              "    }\n",
              "\n",
              "    [theme=dark] .colab-df-convert:hover {\n",
              "      background-color: #434B5C;\n",
              "      box-shadow: 0px 1px 3px 1px rgba(0, 0, 0, 0.15);\n",
              "      filter: drop-shadow(0px 1px 2px rgba(0, 0, 0, 0.3));\n",
              "      fill: #FFFFFF;\n",
              "    }\n",
              "  </style>\n",
              "\n",
              "      <script>\n",
              "        const buttonEl =\n",
              "          document.querySelector('#df-915b58fa-12f2-47f8-a548-84de36ae3419 button.colab-df-convert');\n",
              "        buttonEl.style.display =\n",
              "          google.colab.kernel.accessAllowed ? 'block' : 'none';\n",
              "\n",
              "        async function convertToInteractive(key) {\n",
              "          const element = document.querySelector('#df-915b58fa-12f2-47f8-a548-84de36ae3419');\n",
              "          const dataTable =\n",
              "            await google.colab.kernel.invokeFunction('convertToInteractive',\n",
              "                                                     [key], {});\n",
              "          if (!dataTable) return;\n",
              "\n",
              "          const docLinkHtml = 'Like what you see? Visit the ' +\n",
              "            '<a target=\"_blank\" href=https://colab.research.google.com/notebooks/data_table.ipynb>data table notebook</a>'\n",
              "            + ' to learn more about interactive tables.';\n",
              "          element.innerHTML = '';\n",
              "          dataTable['output_type'] = 'display_data';\n",
              "          await google.colab.output.renderOutput(dataTable, element);\n",
              "          const docLink = document.createElement('div');\n",
              "          docLink.innerHTML = docLinkHtml;\n",
              "          element.appendChild(docLink);\n",
              "        }\n",
              "      </script>\n",
              "    </div>\n",
              "  </div>\n",
              "  "
            ],
            "text/plain": [
              "             EGIE3.SA  ITSA4.SA  SULA11.SA  ...   BBAS3.SA   CSAN3.SA  B3SA3.SA\n",
              "Date                                        ...                                \n",
              "2022-02-08  40.080002     10.15  24.350000  ...  32.200001  22.170000     13.55\n",
              "2022-02-09  40.500000      9.98  24.940001  ...  31.920000  22.360001     14.16\n",
              "2022-02-10  40.360001     10.09  25.420000  ...  32.270000  22.320000     14.10\n",
              "2022-02-11  40.500000     10.47  25.450001  ...  33.299999  22.250000     13.94\n",
              "2022-02-14  40.610001     10.54  25.200001  ...  33.410000  22.299999     14.26\n",
              "\n",
              "[5 rows x 9 columns]"
            ]
          },
          "metadata": {},
          "execution_count": 4
        }
      ]
    },
    {
      "cell_type": "code",
      "source": [
        "# calculando o retorno logaritmico de cada empresa\n",
        "ret_ativo = np.log(carteira / carteira.shift(1))\n",
        "print(ret_ativo)"
      ],
      "metadata": {
        "colab": {
          "base_uri": "https://localhost:8080/"
        },
        "id": "gk_ktuDTLcKS",
        "outputId": "d6a13887-866e-49e2-dbd0-9105844e19a1"
      },
      "execution_count": 5,
      "outputs": [
        {
          "output_type": "stream",
          "name": "stdout",
          "text": [
            "            EGIE3.SA  ITSA4.SA  SULA11.SA  ...  BBAS3.SA  CSAN3.SA  B3SA3.SA\n",
            "Date                                       ...                              \n",
            "2017-01-02       NaN       NaN        NaN  ...       NaN       NaN       NaN\n",
            "2017-01-03  0.038006  0.042915   0.047429  ...  0.044736  0.045516  0.040331\n",
            "2017-01-04 -0.012788  0.005817   0.036387  ... -0.005222  0.000514  0.018703\n",
            "2017-01-05 -0.007301  0.009238  -0.002104  ... -0.002446 -0.001801 -0.012235\n",
            "2017-01-06 -0.012479 -0.003454  -0.007930  ...  0.010789 -0.023451 -0.000586\n",
            "...              ...       ...        ...  ...       ...       ...       ...\n",
            "2022-02-08 -0.004729  0.001972   0.016981  ...  0.010615 -0.016552 -0.011009\n",
            "2022-02-09  0.010424 -0.016891   0.023941  ... -0.008734  0.008534  0.044035\n",
            "2022-02-10 -0.003463  0.010962   0.019063  ...  0.010905 -0.001791 -0.004246\n",
            "2022-02-11  0.003463  0.036969   0.001180  ...  0.031419 -0.003141 -0.011412\n",
            "2022-02-14  0.002712  0.006663  -0.009872  ...  0.003298  0.002245  0.022696\n",
            "\n",
            "[1274 rows x 9 columns]\n"
          ]
        }
      ]
    },
    {
      "cell_type": "markdown",
      "metadata": {
        "id": "tUgo0tQJwmxT"
      },
      "source": [
        "### EGIE3"
      ]
    },
    {
      "cell_type": "code",
      "source": [
        "ret_ativo['EGIE3.SA'].mean()"
      ],
      "metadata": {
        "colab": {
          "base_uri": "https://localhost:8080/"
        },
        "id": "vtdNnLPrMJ6n",
        "outputId": "da57a3f0-880d-4960-cf7b-3267a2561680"
      },
      "execution_count": 6,
      "outputs": [
        {
          "output_type": "execute_result",
          "data": {
            "text/plain": [
              "0.0005911532510399179"
            ]
          },
          "metadata": {},
          "execution_count": 6
        }
      ]
    },
    {
      "cell_type": "code",
      "source": [
        "ret_ativo['EGIE3.SA'].mean() * 250"
      ],
      "metadata": {
        "colab": {
          "base_uri": "https://localhost:8080/"
        },
        "id": "ZEpycYB1MKII",
        "outputId": "06f18520-654a-4bcc-a93b-1a38f57bfca6"
      },
      "execution_count": 7,
      "outputs": [
        {
          "output_type": "execute_result",
          "data": {
            "text/plain": [
              "0.14778831275997947"
            ]
          },
          "metadata": {},
          "execution_count": 7
        }
      ]
    },
    {
      "cell_type": "code",
      "source": [
        "ret_ativo['EGIE3.SA'].std()"
      ],
      "metadata": {
        "colab": {
          "base_uri": "https://localhost:8080/"
        },
        "id": "1vWoU1puMKQ2",
        "outputId": "9a3519d9-af11-4ceb-f9da-784a0bd0a8ad"
      },
      "execution_count": 8,
      "outputs": [
        {
          "output_type": "execute_result",
          "data": {
            "text/plain": [
              "0.01536805961606021"
            ]
          },
          "metadata": {},
          "execution_count": 8
        }
      ]
    },
    {
      "cell_type": "code",
      "source": [
        "ret_ativo['EGIE3.SA'].std() * 250 ** 0.5"
      ],
      "metadata": {
        "colab": {
          "base_uri": "https://localhost:8080/"
        },
        "id": "TIxmB1WIL40T",
        "outputId": "bbae9b59-f77f-4a31-9359-59290027806d"
      },
      "execution_count": 9,
      "outputs": [
        {
          "output_type": "execute_result",
          "data": {
            "text/plain": [
              "0.2429903580200152"
            ]
          },
          "metadata": {},
          "execution_count": 9
        }
      ]
    },
    {
      "cell_type": "markdown",
      "metadata": {
        "id": "RPp675mxMSOV"
      },
      "source": [
        "### ITSA4"
      ]
    },
    {
      "cell_type": "code",
      "source": [
        "ret_ativo['ITSA4.SA'].mean()"
      ],
      "metadata": {
        "colab": {
          "base_uri": "https://localhost:8080/"
        },
        "id": "eesw4j6bMRGz",
        "outputId": "2320c708-0483-4f7a-ec0a-593361a69146"
      },
      "execution_count": 11,
      "outputs": [
        {
          "output_type": "execute_result",
          "data": {
            "text/plain": [
              "0.0005374551042224184"
            ]
          },
          "metadata": {},
          "execution_count": 11
        }
      ]
    },
    {
      "cell_type": "code",
      "source": [
        "ret_ativo['ITSA4.SA'].mean() * 250"
      ],
      "metadata": {
        "colab": {
          "base_uri": "https://localhost:8080/"
        },
        "id": "fL0I9PooMetj",
        "outputId": "f87c3cc5-fa26-4536-e165-4e2f54632562"
      },
      "execution_count": 12,
      "outputs": [
        {
          "output_type": "execute_result",
          "data": {
            "text/plain": [
              "0.1343637760556046"
            ]
          },
          "metadata": {},
          "execution_count": 12
        }
      ]
    },
    {
      "cell_type": "code",
      "source": [
        "ret_ativo['ITSA4.SA'].std()"
      ],
      "metadata": {
        "colab": {
          "base_uri": "https://localhost:8080/"
        },
        "id": "z_sPEP05MfnS",
        "outputId": "b33f225a-7792-45e1-81b2-2cb11099ca36"
      },
      "execution_count": 13,
      "outputs": [
        {
          "output_type": "execute_result",
          "data": {
            "text/plain": [
              "0.019483707758900553"
            ]
          },
          "metadata": {},
          "execution_count": 13
        }
      ]
    },
    {
      "cell_type": "code",
      "source": [
        "ret_ativo['ITSA4.SA'].std() * 250 ** 0.5"
      ],
      "metadata": {
        "colab": {
          "base_uri": "https://localhost:8080/"
        },
        "id": "xD1SrE0iMggC",
        "outputId": "3b456c16-e364-4fc6-868c-e5e7f43206a8"
      },
      "execution_count": 14,
      "outputs": [
        {
          "output_type": "execute_result",
          "data": {
            "text/plain": [
              "0.3080644689161027"
            ]
          },
          "metadata": {},
          "execution_count": 14
        }
      ]
    },
    {
      "cell_type": "markdown",
      "metadata": {
        "id": "V0kq_IMRMlFQ"
      },
      "source": [
        "### SULA11"
      ]
    },
    {
      "cell_type": "code",
      "source": [
        "ret_ativo['SULA11.SA'].mean()"
      ],
      "metadata": {
        "colab": {
          "base_uri": "https://localhost:8080/"
        },
        "id": "ia2sw6E3MP6x",
        "outputId": "1dd7e1ad-888e-46de-b6d0-f9155981ef1c"
      },
      "execution_count": 15,
      "outputs": [
        {
          "output_type": "execute_result",
          "data": {
            "text/plain": [
              "0.0005859669515181374"
            ]
          },
          "metadata": {},
          "execution_count": 15
        }
      ]
    },
    {
      "cell_type": "code",
      "source": [
        "ret_ativo['SULA11.SA'].mean() * 250"
      ],
      "metadata": {
        "colab": {
          "base_uri": "https://localhost:8080/"
        },
        "id": "Jm9Mllt2MoOC",
        "outputId": "4a047b9f-6c95-4085-d99a-0325e8ce842f"
      },
      "execution_count": 16,
      "outputs": [
        {
          "output_type": "execute_result",
          "data": {
            "text/plain": [
              "0.14649173787953437"
            ]
          },
          "metadata": {},
          "execution_count": 16
        }
      ]
    },
    {
      "cell_type": "code",
      "source": [
        "ret_ativo['SULA11.SA'].std()"
      ],
      "metadata": {
        "colab": {
          "base_uri": "https://localhost:8080/"
        },
        "id": "76IYb_E3Mrpi",
        "outputId": "9b6de4aa-53f7-45f2-9d35-cfc51632f5fa"
      },
      "execution_count": 17,
      "outputs": [
        {
          "output_type": "execute_result",
          "data": {
            "text/plain": [
              "0.023909533924457736"
            ]
          },
          "metadata": {},
          "execution_count": 17
        }
      ]
    },
    {
      "cell_type": "code",
      "source": [
        "ret_ativo['SULA11.SA'].std() * 250 ** 0.5"
      ],
      "metadata": {
        "colab": {
          "base_uri": "https://localhost:8080/"
        },
        "id": "xXjTXoCCMsfh",
        "outputId": "eae128cf-220d-4a86-f298-db5505a44eca"
      },
      "execution_count": 18,
      "outputs": [
        {
          "output_type": "execute_result",
          "data": {
            "text/plain": [
              "0.37804292497175346"
            ]
          },
          "metadata": {},
          "execution_count": 18
        }
      ]
    },
    {
      "cell_type": "markdown",
      "metadata": {
        "id": "v90Hz8PNNqgQ"
      },
      "source": [
        "### ABEV3"
      ]
    },
    {
      "cell_type": "code",
      "source": [
        "ret_ativo['ABEV3.SA'].mean()"
      ],
      "metadata": {
        "colab": {
          "base_uri": "https://localhost:8080/"
        },
        "id": "zcayC3CQNaox",
        "outputId": "70308c18-cb60-49aa-9403-454838dbdf1f"
      },
      "execution_count": 19,
      "outputs": [
        {
          "output_type": "execute_result",
          "data": {
            "text/plain": [
              "5.6501813389660144e-05"
            ]
          },
          "metadata": {},
          "execution_count": 19
        }
      ]
    },
    {
      "cell_type": "code",
      "source": [
        "ret_ativo['ABEV3.SA'].mean() * 250"
      ],
      "metadata": {
        "colab": {
          "base_uri": "https://localhost:8080/"
        },
        "id": "7uo4yTdfNcWy",
        "outputId": "4fe596ff-2134-4ab1-9f90-0ee0d5060aaf"
      },
      "execution_count": 20,
      "outputs": [
        {
          "output_type": "execute_result",
          "data": {
            "text/plain": [
              "0.014125453347415036"
            ]
          },
          "metadata": {},
          "execution_count": 20
        }
      ]
    },
    {
      "cell_type": "code",
      "source": [
        "ret_ativo['ABEV3.SA'].std()"
      ],
      "metadata": {
        "colab": {
          "base_uri": "https://localhost:8080/"
        },
        "id": "S4dLn6CPNfzh",
        "outputId": "aca5a9cd-560c-4118-e951-ebe7aa780052"
      },
      "execution_count": 21,
      "outputs": [
        {
          "output_type": "execute_result",
          "data": {
            "text/plain": [
              "0.018880767285462015"
            ]
          },
          "metadata": {},
          "execution_count": 21
        }
      ]
    },
    {
      "cell_type": "code",
      "source": [
        "ret_ativo['ABEV3.SA'].std() * 250 ** 0.5"
      ],
      "metadata": {
        "colab": {
          "base_uri": "https://localhost:8080/"
        },
        "id": "sHDWE93qNiPw",
        "outputId": "5c8eaab0-c236-4088-fabc-436c6e132e28"
      },
      "execution_count": 22,
      "outputs": [
        {
          "output_type": "execute_result",
          "data": {
            "text/plain": [
              "0.2985311429682725"
            ]
          },
          "metadata": {},
          "execution_count": 22
        }
      ]
    },
    {
      "cell_type": "markdown",
      "metadata": {
        "id": "f2yxYGffNuig"
      },
      "source": [
        "### LREN3"
      ]
    },
    {
      "cell_type": "code",
      "source": [
        "ret_ativo['LREN3.SA'].mean()"
      ],
      "metadata": {
        "colab": {
          "base_uri": "https://localhost:8080/"
        },
        "id": "R93FArayNa5y",
        "outputId": "7973505e-fc9b-47c3-afb9-083d955329e4"
      },
      "execution_count": 23,
      "outputs": [
        {
          "output_type": "execute_result",
          "data": {
            "text/plain": [
              "0.00030923677649563516"
            ]
          },
          "metadata": {},
          "execution_count": 23
        }
      ]
    },
    {
      "cell_type": "code",
      "source": [
        "ret_ativo['LREN3.SA'].mean() * 250"
      ],
      "metadata": {
        "colab": {
          "base_uri": "https://localhost:8080/"
        },
        "id": "UkJjlxABNc0A",
        "outputId": "d5615933-4c50-4bf6-8205-6b7d069dfb84"
      },
      "execution_count": 24,
      "outputs": [
        {
          "output_type": "execute_result",
          "data": {
            "text/plain": [
              "0.07730919412390878"
            ]
          },
          "metadata": {},
          "execution_count": 24
        }
      ]
    },
    {
      "cell_type": "code",
      "source": [
        "ret_ativo['LREN3.SA'].std()"
      ],
      "metadata": {
        "colab": {
          "base_uri": "https://localhost:8080/"
        },
        "id": "EpUJf8FeNgMv",
        "outputId": "87bf3e82-ffd9-4a41-ffad-246cf527cd51"
      },
      "execution_count": 25,
      "outputs": [
        {
          "output_type": "execute_result",
          "data": {
            "text/plain": [
              "0.02598447468183477"
            ]
          },
          "metadata": {},
          "execution_count": 25
        }
      ]
    },
    {
      "cell_type": "code",
      "source": [
        "ret_ativo['LREN3.SA'].std() * 250 ** 0.5"
      ],
      "metadata": {
        "colab": {
          "base_uri": "https://localhost:8080/"
        },
        "id": "1tlvckFzNixB",
        "outputId": "4a8e0946-8c8a-4da9-8142-2aa1ece1315a"
      },
      "execution_count": 26,
      "outputs": [
        {
          "output_type": "execute_result",
          "data": {
            "text/plain": [
              "0.4108506189878847"
            ]
          },
          "metadata": {},
          "execution_count": 26
        }
      ]
    },
    {
      "cell_type": "markdown",
      "metadata": {
        "id": "sMMmVNB7NvBz"
      },
      "source": [
        "### SLCE3"
      ]
    },
    {
      "cell_type": "code",
      "source": [
        "ret_ativo['SLCE3.SA'].mean()"
      ],
      "metadata": {
        "colab": {
          "base_uri": "https://localhost:8080/"
        },
        "id": "SkBxYISLNbEh",
        "outputId": "f5eb1993-78ee-4b70-d30e-634404b11350"
      },
      "execution_count": 27,
      "outputs": [
        {
          "output_type": "execute_result",
          "data": {
            "text/plain": [
              "0.00188332996409036"
            ]
          },
          "metadata": {},
          "execution_count": 27
        }
      ]
    },
    {
      "cell_type": "code",
      "source": [
        "ret_ativo['SLCE3.SA'].mean() * 250"
      ],
      "metadata": {
        "colab": {
          "base_uri": "https://localhost:8080/"
        },
        "id": "5y8C54f3NdMm",
        "outputId": "ffc4d2c7-76ec-45c7-852f-0b663c881619"
      },
      "execution_count": 28,
      "outputs": [
        {
          "output_type": "execute_result",
          "data": {
            "text/plain": [
              "0.47083249102259"
            ]
          },
          "metadata": {},
          "execution_count": 28
        }
      ]
    },
    {
      "cell_type": "code",
      "source": [
        "ret_ativo['SLCE3.SA'].std()"
      ],
      "metadata": {
        "colab": {
          "base_uri": "https://localhost:8080/"
        },
        "id": "8foPk5MfNgfQ",
        "outputId": "aabc6166-ec2d-424e-9417-e80f4eac5391"
      },
      "execution_count": 29,
      "outputs": [
        {
          "output_type": "execute_result",
          "data": {
            "text/plain": [
              "0.02493835770292818"
            ]
          },
          "metadata": {},
          "execution_count": 29
        }
      ]
    },
    {
      "cell_type": "code",
      "source": [
        "ret_ativo['SLCE3.SA'].std() * 250 ** 0.5"
      ],
      "metadata": {
        "colab": {
          "base_uri": "https://localhost:8080/"
        },
        "id": "4QY3_O5VNnGw",
        "outputId": "bf16b709-b6e7-4ef6-d99f-35c5e2d19edc"
      },
      "execution_count": 30,
      "outputs": [
        {
          "output_type": "execute_result",
          "data": {
            "text/plain": [
              "0.394310057226289"
            ]
          },
          "metadata": {},
          "execution_count": 30
        }
      ]
    },
    {
      "cell_type": "markdown",
      "metadata": {
        "id": "xUA_T8M_Nvhw"
      },
      "source": [
        "### BBAS3"
      ]
    },
    {
      "cell_type": "code",
      "source": [
        "ret_ativo['BBAS3.SA'].mean()"
      ],
      "metadata": {
        "colab": {
          "base_uri": "https://localhost:8080/"
        },
        "id": "WyodI6tRNbNR",
        "outputId": "44b744f4-2012-415f-8e9b-76555bed9b8c"
      },
      "execution_count": 31,
      "outputs": [
        {
          "output_type": "execute_result",
          "data": {
            "text/plain": [
              "0.0003486195723199396"
            ]
          },
          "metadata": {},
          "execution_count": 31
        }
      ]
    },
    {
      "cell_type": "code",
      "source": [
        "ret_ativo['BBAS3.SA'].mean() * 250"
      ],
      "metadata": {
        "colab": {
          "base_uri": "https://localhost:8080/"
        },
        "id": "JLiTVYw6NdnA",
        "outputId": "7e936bc8-73a3-4459-fa36-891c10ce1554"
      },
      "execution_count": 32,
      "outputs": [
        {
          "output_type": "execute_result",
          "data": {
            "text/plain": [
              "0.08715489307998489"
            ]
          },
          "metadata": {},
          "execution_count": 32
        }
      ]
    },
    {
      "cell_type": "code",
      "source": [
        "ret_ativo['BBAS3.SA'].std()"
      ],
      "metadata": {
        "colab": {
          "base_uri": "https://localhost:8080/"
        },
        "id": "3C_sIyy2NgzY",
        "outputId": "77142160-8b2e-4561-d807-8dab0c13e32b"
      },
      "execution_count": 33,
      "outputs": [
        {
          "output_type": "execute_result",
          "data": {
            "text/plain": [
              "0.026511620688102384"
            ]
          },
          "metadata": {},
          "execution_count": 33
        }
      ]
    },
    {
      "cell_type": "code",
      "source": [
        "ret_ativo['BBAS3.SA'].std() * 250 ** 0.5"
      ],
      "metadata": {
        "colab": {
          "base_uri": "https://localhost:8080/"
        },
        "id": "VHxDpI-xNnhT",
        "outputId": "d1541ba8-df30-4611-ffb8-50054d1fe473"
      },
      "execution_count": 34,
      "outputs": [
        {
          "output_type": "execute_result",
          "data": {
            "text/plain": [
              "0.41918552918422003"
            ]
          },
          "metadata": {},
          "execution_count": 34
        }
      ]
    },
    {
      "cell_type": "markdown",
      "metadata": {
        "id": "9kclz4k4OgbP"
      },
      "source": [
        "### CSAN3"
      ]
    },
    {
      "cell_type": "code",
      "source": [
        "ret_ativo['CSAN3.SA'].mean()"
      ],
      "metadata": {
        "colab": {
          "base_uri": "https://localhost:8080/"
        },
        "id": "Lb1wgYieOgbf",
        "outputId": "453b8e98-b539-4063-a38b-c2a89e6767a4"
      },
      "execution_count": 35,
      "outputs": [
        {
          "output_type": "execute_result",
          "data": {
            "text/plain": [
              "0.0007863226172199625"
            ]
          },
          "metadata": {},
          "execution_count": 35
        }
      ]
    },
    {
      "cell_type": "code",
      "source": [
        "ret_ativo['CSAN3.SA'].mean() * 250"
      ],
      "metadata": {
        "colab": {
          "base_uri": "https://localhost:8080/"
        },
        "id": "FxPBhTRKOgbg",
        "outputId": "0137d05e-2aae-4b01-88f2-e019657c5c38"
      },
      "execution_count": 36,
      "outputs": [
        {
          "output_type": "execute_result",
          "data": {
            "text/plain": [
              "0.19658065430499064"
            ]
          },
          "metadata": {},
          "execution_count": 36
        }
      ]
    },
    {
      "cell_type": "code",
      "source": [
        "ret_ativo['CSAN3.SA'].std()"
      ],
      "metadata": {
        "colab": {
          "base_uri": "https://localhost:8080/"
        },
        "id": "CwTdUurxOgbh",
        "outputId": "6a9f2a54-9ad8-4fcf-9c90-9dfd25c1e9cd"
      },
      "execution_count": 37,
      "outputs": [
        {
          "output_type": "execute_result",
          "data": {
            "text/plain": [
              "0.024185412556836774"
            ]
          },
          "metadata": {},
          "execution_count": 37
        }
      ]
    },
    {
      "cell_type": "code",
      "source": [
        "ret_ativo['CSAN3.SA'].std() * 250 ** 0.5"
      ],
      "metadata": {
        "colab": {
          "base_uri": "https://localhost:8080/"
        },
        "id": "6XVzmIviOgbh",
        "outputId": "d09cd1dc-7b20-44d4-bab0-c75fc4949695"
      },
      "execution_count": 38,
      "outputs": [
        {
          "output_type": "execute_result",
          "data": {
            "text/plain": [
              "0.3824049491522037"
            ]
          },
          "metadata": {},
          "execution_count": 38
        }
      ]
    },
    {
      "cell_type": "markdown",
      "metadata": {
        "id": "PdjDmPM3Og-w"
      },
      "source": [
        "### B3SA3"
      ]
    },
    {
      "cell_type": "code",
      "source": [
        "ret_ativo['B3SA3.SA'].mean()"
      ],
      "metadata": {
        "colab": {
          "base_uri": "https://localhost:8080/"
        },
        "id": "K8gnXn-8Og-x",
        "outputId": "bc4c3c39-c3f1-4d2b-9221-54ea7dae1b39"
      },
      "execution_count": 39,
      "outputs": [
        {
          "output_type": "execute_result",
          "data": {
            "text/plain": [
              "0.0008936818860861734"
            ]
          },
          "metadata": {},
          "execution_count": 39
        }
      ]
    },
    {
      "cell_type": "code",
      "source": [
        "ret_ativo['B3SA3.SA'].mean() * 250"
      ],
      "metadata": {
        "colab": {
          "base_uri": "https://localhost:8080/"
        },
        "id": "PC3xXyvBOg-x",
        "outputId": "221a01c8-a1c5-459c-9404-0e349e28e2be"
      },
      "execution_count": 40,
      "outputs": [
        {
          "output_type": "execute_result",
          "data": {
            "text/plain": [
              "0.22342047152154335"
            ]
          },
          "metadata": {},
          "execution_count": 40
        }
      ]
    },
    {
      "cell_type": "code",
      "source": [
        "ret_ativo['B3SA3.SA'].std()"
      ],
      "metadata": {
        "colab": {
          "base_uri": "https://localhost:8080/"
        },
        "id": "4kyp6U1JOg-y",
        "outputId": "ba289252-d1d9-465c-e162-1c5bb2d51d5a"
      },
      "execution_count": 41,
      "outputs": [
        {
          "output_type": "execute_result",
          "data": {
            "text/plain": [
              "0.0244823714420781"
            ]
          },
          "metadata": {},
          "execution_count": 41
        }
      ]
    },
    {
      "cell_type": "code",
      "source": [
        "ret_ativo['B3SA3.SA'].std() * 250 ** 0.5"
      ],
      "metadata": {
        "colab": {
          "base_uri": "https://localhost:8080/"
        },
        "id": "6VHr1jkmOg-y",
        "outputId": "4f3ffa95-764a-4392-b5fc-a6e482957e93"
      },
      "execution_count": 42,
      "outputs": [
        {
          "output_type": "execute_result",
          "data": {
            "text/plain": [
              "0.3871002813961394"
            ]
          },
          "metadata": {},
          "execution_count": 42
        }
      ]
    },
    {
      "cell_type": "code",
      "source": [
        "# imprimindo a volatilidade de todas as ações da carteira\n",
        "print(ret_ativo['EGIE3.SA'].mean() * 250)\n",
        "print(ret_ativo['ITSA4.SA'].mean() * 250)\n",
        "print(ret_ativo['SULA11.SA'].mean() * 250)\n",
        "print(ret_ativo['ABEV3.SA'].mean() * 250)\n",
        "print(ret_ativo['LREN3.SA'].mean() * 250)\n",
        "print(ret_ativo['SLCE3.SA'].mean() * 250)\n",
        "print(ret_ativo['BBAS3.SA'].mean() * 250)\n",
        "print(ret_ativo['CSAN3.SA'].mean() * 250)\n",
        "print(ret_ativo['B3SA3.SA'].mean() * 250)"
      ],
      "metadata": {
        "colab": {
          "base_uri": "https://localhost:8080/"
        },
        "id": "YEfDjGaOPvj8",
        "outputId": "03d86604-2693-48df-add7-69a493f2cd38"
      },
      "execution_count": 43,
      "outputs": [
        {
          "output_type": "stream",
          "name": "stdout",
          "text": [
            "0.14778831275997947\n",
            "0.1343637760556046\n",
            "0.14649173787953437\n",
            "0.014125453347415036\n",
            "0.07730919412390878\n",
            "0.47083249102259\n",
            "0.08715489307998489\n",
            "0.19658065430499064\n",
            "0.22342047152154335\n"
          ]
        }
      ]
    },
    {
      "cell_type": "markdown",
      "source": [
        "OU"
      ],
      "metadata": {
        "id": "MLS1LunaQqEL"
      }
    },
    {
      "cell_type": "code",
      "source": [
        "# imprimindo todas as médias anuais das ações em uma linha de código\n",
        "print(ret_ativo[['EGIE3.SA', 'ITSA4.SA', 'SULA11.SA', 'ABEV3.SA', 'LREN3.SA', 'SLCE3.SA', 'BBAS3.SA', 'CSAN3.SA', 'B3SA3.SA']].mean() * 250)"
      ],
      "metadata": {
        "colab": {
          "base_uri": "https://localhost:8080/"
        },
        "id": "hwpBXLe4QrLT",
        "outputId": "8176740d-3692-457e-9009-f9d10b1e5c54"
      },
      "execution_count": 44,
      "outputs": [
        {
          "output_type": "stream",
          "name": "stdout",
          "text": [
            "EGIE3.SA     0.147788\n",
            "ITSA4.SA     0.134364\n",
            "SULA11.SA    0.146492\n",
            "ABEV3.SA     0.014125\n",
            "LREN3.SA     0.077309\n",
            "SLCE3.SA     0.470832\n",
            "BBAS3.SA     0.087155\n",
            "CSAN3.SA     0.196581\n",
            "B3SA3.SA     0.223420\n",
            "dtype: float64\n"
          ]
        }
      ]
    },
    {
      "cell_type": "markdown",
      "metadata": {
        "id": "PZC3l7bowmxd"
      },
      "source": [
        "Guarde as volatilidades anuais das ações e um array chamado \"volatilidade\"."
      ]
    },
    {
      "cell_type": "code",
      "source": [
        "volatilidade = ret_ativo[['EGIE3.SA', 'ITSA4.SA', 'SULA11.SA', 'ABEV3.SA', 'LREN3.SA', 'SLCE3.SA', 'BBAS3.SA', 'CSAN3.SA', 'B3SA3.SA']].std() * 250 ** 0.5\n",
        "print(volatilidade)"
      ],
      "metadata": {
        "colab": {
          "base_uri": "https://localhost:8080/"
        },
        "id": "JmqXdpFLP5SK",
        "outputId": "b24dda23-dea6-4b9c-84f6-7b1519d3205b"
      },
      "execution_count": 45,
      "outputs": [
        {
          "output_type": "stream",
          "name": "stdout",
          "text": [
            "EGIE3.SA     0.242990\n",
            "ITSA4.SA     0.308064\n",
            "SULA11.SA    0.378043\n",
            "ABEV3.SA     0.298531\n",
            "LREN3.SA     0.410851\n",
            "SLCE3.SA     0.394310\n",
            "BBAS3.SA     0.419186\n",
            "CSAN3.SA     0.382405\n",
            "B3SA3.SA     0.387100\n",
            "dtype: float64\n"
          ]
        }
      ]
    }
  ]
}