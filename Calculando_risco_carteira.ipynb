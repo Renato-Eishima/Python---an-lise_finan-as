{
  "nbformat": 4,
  "nbformat_minor": 0,
  "metadata": {
    "colab": {
      "name": "Calculando_risco_carteira.ipynb",
      "provenance": [],
      "collapsed_sections": [],
      "authorship_tag": "ABX9TyOOMjNnFKP59M3FjdFdIWfi",
      "include_colab_link": true
    },
    "kernelspec": {
      "name": "python3",
      "display_name": "Python 3"
    },
    "language_info": {
      "name": "python"
    }
  },
  "cells": [
    {
      "cell_type": "markdown",
      "metadata": {
        "id": "view-in-github",
        "colab_type": "text"
      },
      "source": [
        "<a href=\"https://colab.research.google.com/github/Renato-Eishima/Python_analise_financas/blob/main/Calculando_risco_carteira.ipynb\" target=\"_parent\"><img src=\"https://colab.research.google.com/assets/colab-badge.svg\" alt=\"Open In Colab\"/></a>"
      ]
    },
    {
      "cell_type": "markdown",
      "metadata": {
        "id": "Vz7Gmd2o-sh9"
      },
      "source": [
        "## Cálculo do Risco da Carteira"
      ]
    },
    {
      "cell_type": "markdown",
      "metadata": {
        "id": "bmQ_eMvf-sh_"
      },
      "source": [
        "Calculando o risco de uma carteira composta pelas ações da carteira do Dica de Hoje. Os dados serão obtidos do Yahoo Finance do período de 1º janeiro de 2017 até o dia atual."
      ]
    },
    {
      "cell_type": "code",
      "source": [
        "!pip install -q yfinance"
      ],
      "metadata": {
        "id": "9f_U_jYRwy-T",
        "colab": {
          "base_uri": "https://localhost:8080/"
        },
        "outputId": "5d4f4f0c-1fd8-4843-8993-58ff60bbbe66"
      },
      "execution_count": 1,
      "outputs": [
        {
          "output_type": "stream",
          "name": "stdout",
          "text": [
            "\u001b[K     |████████████████████████████████| 63 kB 1.2 MB/s \n",
            "\u001b[K     |████████████████████████████████| 6.4 MB 38.2 MB/s \n",
            "\u001b[31mERROR: pip's dependency resolver does not currently take into account all the packages that are installed. This behaviour is the source of the following dependency conflicts.\n",
            "google-colab 1.0.0 requires requests~=2.23.0, but you have requests 2.27.1 which is incompatible.\n",
            "datascience 0.10.6 requires folium==0.2.1, but you have folium 0.8.3 which is incompatible.\u001b[0m\n",
            "\u001b[?25h"
          ]
        }
      ]
    },
    {
      "cell_type": "code",
      "execution_count": 2,
      "metadata": {
        "id": "Bfo58_Wig94O"
      },
      "outputs": [],
      "source": [
        "import numpy as np\n",
        "import pandas as pd\n",
        "import yfinance as yf\n",
        "import matplotlib.pyplot as plt"
      ]
    },
    {
      "cell_type": "code",
      "source": [
        "acoes = ['EGIE3.SA', 'ITSA4.SA', 'SULA11.SA', 'ABEV3.SA', 'LREN3.SA', 'SLCE3.SA', 'BBAS3.SA', 'CSAN3.SA', 'B3SA3.SA'] \n",
        "carteira = pd.DataFrame()\n",
        "\n",
        "for acao in acoes:\n",
        "  carteira[acao] = yf.download(acao, start = '2017-01-01')['Adj Close']"
      ],
      "metadata": {
        "colab": {
          "base_uri": "https://localhost:8080/"
        },
        "id": "Bw9IS6N5hXl-",
        "outputId": "f7dcc266-55cf-4c69-f004-716e063ed8fd"
      },
      "execution_count": 3,
      "outputs": [
        {
          "output_type": "stream",
          "name": "stdout",
          "text": [
            "[*********************100%***********************]  1 of 1 completed\n",
            "[*********************100%***********************]  1 of 1 completed\n",
            "[*********************100%***********************]  1 of 1 completed\n",
            "[*********************100%***********************]  1 of 1 completed\n",
            "[*********************100%***********************]  1 of 1 completed\n",
            "[*********************100%***********************]  1 of 1 completed\n",
            "[*********************100%***********************]  1 of 1 completed\n",
            "[*********************100%***********************]  1 of 1 completed\n",
            "[*********************100%***********************]  1 of 1 completed\n"
          ]
        }
      ]
    },
    {
      "cell_type": "code",
      "execution_count": 4,
      "metadata": {
        "colab": {
          "base_uri": "https://localhost:8080/"
        },
        "id": "QUjxDJiH8n6c",
        "outputId": "dc4a2f8a-3a0a-495f-80e0-dcaea5415c92"
      },
      "outputs": [
        {
          "output_type": "stream",
          "name": "stdout",
          "text": [
            "             EGIE3.SA  ITSA4.SA  SULA11.SA  ...   BBAS3.SA  CSAN3.SA  B3SA3.SA\n",
            "Date                                        ...                               \n",
            "2017-01-02  19.134180  5.317467  11.952116  ...  21.435801  8.195603  4.571316\n",
            "2017-01-03  19.875393  5.550633  12.532644  ...  22.416523  8.577256  4.759449\n",
            "2017-01-04  19.622833  5.583017  12.997071  ...  22.299770  8.581670  4.849302\n",
            "2017-01-05  19.480082  5.634830  12.969754  ...  22.245287  8.566225  4.790336\n",
            "2017-01-06  19.238499  5.615400  12.867305  ...  22.486576  8.367679  4.787529\n",
            "\n",
            "[5 rows x 9 columns]\n",
            "\n",
            "\n",
            "             EGIE3.SA  ITSA4.SA  SULA11.SA  ...   BBAS3.SA   CSAN3.SA  B3SA3.SA\n",
            "Date                                        ...                                \n",
            "2022-02-11  40.509998     10.52  25.450001  ...  33.400002  22.270000     13.92\n",
            "2022-02-14  40.520000     10.48  25.280001  ...  33.540001  22.270000     14.12\n",
            "2022-02-15  40.520000     10.61  25.549999  ...  35.130001  22.299999     14.60\n",
            "2022-02-16  40.549999     10.58  25.740000  ...  35.330002  22.920000     14.59\n",
            "2022-02-17  40.500000     10.51  26.150000  ...  35.240002  23.049999     14.48\n",
            "\n",
            "[5 rows x 9 columns]\n"
          ]
        }
      ],
      "source": [
        "print(carteira.head())\n",
        "print('\\n')\n",
        "print(carteira.tail())"
      ]
    },
    {
      "cell_type": "code",
      "source": [
        "ret_log = np.log(carteira / carteira.shift(1))\n",
        "ret_log"
      ],
      "metadata": {
        "colab": {
          "base_uri": "https://localhost:8080/",
          "height": 455
        },
        "id": "3Tbr93EHiex6",
        "outputId": "650ebf88-436a-44c9-ae89-66faabbadd72"
      },
      "execution_count": 5,
      "outputs": [
        {
          "output_type": "execute_result",
          "data": {
            "text/html": [
              "\n",
              "  <div id=\"df-d40c1ca1-ef8c-4267-828b-d388a56f4a5a\">\n",
              "    <div class=\"colab-df-container\">\n",
              "      <div>\n",
              "<style scoped>\n",
              "    .dataframe tbody tr th:only-of-type {\n",
              "        vertical-align: middle;\n",
              "    }\n",
              "\n",
              "    .dataframe tbody tr th {\n",
              "        vertical-align: top;\n",
              "    }\n",
              "\n",
              "    .dataframe thead th {\n",
              "        text-align: right;\n",
              "    }\n",
              "</style>\n",
              "<table border=\"1\" class=\"dataframe\">\n",
              "  <thead>\n",
              "    <tr style=\"text-align: right;\">\n",
              "      <th></th>\n",
              "      <th>EGIE3.SA</th>\n",
              "      <th>ITSA4.SA</th>\n",
              "      <th>SULA11.SA</th>\n",
              "      <th>ABEV3.SA</th>\n",
              "      <th>LREN3.SA</th>\n",
              "      <th>SLCE3.SA</th>\n",
              "      <th>BBAS3.SA</th>\n",
              "      <th>CSAN3.SA</th>\n",
              "      <th>B3SA3.SA</th>\n",
              "    </tr>\n",
              "    <tr>\n",
              "      <th>Date</th>\n",
              "      <th></th>\n",
              "      <th></th>\n",
              "      <th></th>\n",
              "      <th></th>\n",
              "      <th></th>\n",
              "      <th></th>\n",
              "      <th></th>\n",
              "      <th></th>\n",
              "      <th></th>\n",
              "    </tr>\n",
              "  </thead>\n",
              "  <tbody>\n",
              "    <tr>\n",
              "      <th>2017-01-02</th>\n",
              "      <td>NaN</td>\n",
              "      <td>NaN</td>\n",
              "      <td>NaN</td>\n",
              "      <td>NaN</td>\n",
              "      <td>NaN</td>\n",
              "      <td>NaN</td>\n",
              "      <td>NaN</td>\n",
              "      <td>NaN</td>\n",
              "      <td>NaN</td>\n",
              "    </tr>\n",
              "    <tr>\n",
              "      <th>2017-01-03</th>\n",
              "      <td>0.038006</td>\n",
              "      <td>0.042915</td>\n",
              "      <td>0.047428</td>\n",
              "      <td>0.020031</td>\n",
              "      <td>0.030221</td>\n",
              "      <td>0.006798</td>\n",
              "      <td>0.044736</td>\n",
              "      <td>0.045516</td>\n",
              "      <td>0.040331</td>\n",
              "    </tr>\n",
              "    <tr>\n",
              "      <th>2017-01-04</th>\n",
              "      <td>-0.012789</td>\n",
              "      <td>0.005817</td>\n",
              "      <td>0.036387</td>\n",
              "      <td>-0.007843</td>\n",
              "      <td>-0.008844</td>\n",
              "      <td>0.032659</td>\n",
              "      <td>-0.005222</td>\n",
              "      <td>0.000514</td>\n",
              "      <td>0.018703</td>\n",
              "    </tr>\n",
              "    <tr>\n",
              "      <th>2017-01-05</th>\n",
              "      <td>-0.007301</td>\n",
              "      <td>0.009238</td>\n",
              "      <td>-0.002104</td>\n",
              "      <td>0.005436</td>\n",
              "      <td>-0.009350</td>\n",
              "      <td>0.027169</td>\n",
              "      <td>-0.002446</td>\n",
              "      <td>-0.001801</td>\n",
              "      <td>-0.012234</td>\n",
              "    </tr>\n",
              "    <tr>\n",
              "      <th>2017-01-06</th>\n",
              "      <td>-0.012479</td>\n",
              "      <td>-0.003454</td>\n",
              "      <td>-0.007930</td>\n",
              "      <td>-0.008470</td>\n",
              "      <td>-0.011595</td>\n",
              "      <td>-0.000638</td>\n",
              "      <td>0.010788</td>\n",
              "      <td>-0.023451</td>\n",
              "      <td>-0.000586</td>\n",
              "    </tr>\n",
              "    <tr>\n",
              "      <th>...</th>\n",
              "      <td>...</td>\n",
              "      <td>...</td>\n",
              "      <td>...</td>\n",
              "      <td>...</td>\n",
              "      <td>...</td>\n",
              "      <td>...</td>\n",
              "      <td>...</td>\n",
              "      <td>...</td>\n",
              "      <td>...</td>\n",
              "    </tr>\n",
              "    <tr>\n",
              "      <th>2022-02-11</th>\n",
              "      <td>0.003710</td>\n",
              "      <td>0.041733</td>\n",
              "      <td>0.001180</td>\n",
              "      <td>0.007430</td>\n",
              "      <td>-0.009032</td>\n",
              "      <td>-0.020940</td>\n",
              "      <td>0.034418</td>\n",
              "      <td>-0.002243</td>\n",
              "      <td>-0.012848</td>\n",
              "    </tr>\n",
              "    <tr>\n",
              "      <th>2022-02-14</th>\n",
              "      <td>0.000247</td>\n",
              "      <td>-0.003810</td>\n",
              "      <td>-0.006702</td>\n",
              "      <td>0.013369</td>\n",
              "      <td>0.021850</td>\n",
              "      <td>0.013320</td>\n",
              "      <td>0.004183</td>\n",
              "      <td>0.000000</td>\n",
              "      <td>0.014266</td>\n",
              "    </tr>\n",
              "    <tr>\n",
              "      <th>2022-02-15</th>\n",
              "      <td>0.000000</td>\n",
              "      <td>0.012328</td>\n",
              "      <td>0.010624</td>\n",
              "      <td>0.021026</td>\n",
              "      <td>0.045274</td>\n",
              "      <td>-0.049369</td>\n",
              "      <td>0.046317</td>\n",
              "      <td>0.001346</td>\n",
              "      <td>0.033429</td>\n",
              "    </tr>\n",
              "    <tr>\n",
              "      <th>2022-02-16</th>\n",
              "      <td>0.000740</td>\n",
              "      <td>-0.002832</td>\n",
              "      <td>0.007409</td>\n",
              "      <td>-0.019699</td>\n",
              "      <td>0.014647</td>\n",
              "      <td>-0.014880</td>\n",
              "      <td>0.005677</td>\n",
              "      <td>0.027423</td>\n",
              "      <td>-0.000685</td>\n",
              "    </tr>\n",
              "    <tr>\n",
              "      <th>2022-02-17</th>\n",
              "      <td>-0.001234</td>\n",
              "      <td>-0.006638</td>\n",
              "      <td>0.015803</td>\n",
              "      <td>-0.014696</td>\n",
              "      <td>0.005799</td>\n",
              "      <td>-0.015776</td>\n",
              "      <td>-0.002551</td>\n",
              "      <td>0.005656</td>\n",
              "      <td>-0.007568</td>\n",
              "    </tr>\n",
              "  </tbody>\n",
              "</table>\n",
              "<p>1277 rows × 9 columns</p>\n",
              "</div>\n",
              "      <button class=\"colab-df-convert\" onclick=\"convertToInteractive('df-d40c1ca1-ef8c-4267-828b-d388a56f4a5a')\"\n",
              "              title=\"Convert this dataframe to an interactive table.\"\n",
              "              style=\"display:none;\">\n",
              "        \n",
              "  <svg xmlns=\"http://www.w3.org/2000/svg\" height=\"24px\"viewBox=\"0 0 24 24\"\n",
              "       width=\"24px\">\n",
              "    <path d=\"M0 0h24v24H0V0z\" fill=\"none\"/>\n",
              "    <path d=\"M18.56 5.44l.94 2.06.94-2.06 2.06-.94-2.06-.94-.94-2.06-.94 2.06-2.06.94zm-11 1L8.5 8.5l.94-2.06 2.06-.94-2.06-.94L8.5 2.5l-.94 2.06-2.06.94zm10 10l.94 2.06.94-2.06 2.06-.94-2.06-.94-.94-2.06-.94 2.06-2.06.94z\"/><path d=\"M17.41 7.96l-1.37-1.37c-.4-.4-.92-.59-1.43-.59-.52 0-1.04.2-1.43.59L10.3 9.45l-7.72 7.72c-.78.78-.78 2.05 0 2.83L4 21.41c.39.39.9.59 1.41.59.51 0 1.02-.2 1.41-.59l7.78-7.78 2.81-2.81c.8-.78.8-2.07 0-2.86zM5.41 20L4 18.59l7.72-7.72 1.47 1.35L5.41 20z\"/>\n",
              "  </svg>\n",
              "      </button>\n",
              "      \n",
              "  <style>\n",
              "    .colab-df-container {\n",
              "      display:flex;\n",
              "      flex-wrap:wrap;\n",
              "      gap: 12px;\n",
              "    }\n",
              "\n",
              "    .colab-df-convert {\n",
              "      background-color: #E8F0FE;\n",
              "      border: none;\n",
              "      border-radius: 50%;\n",
              "      cursor: pointer;\n",
              "      display: none;\n",
              "      fill: #1967D2;\n",
              "      height: 32px;\n",
              "      padding: 0 0 0 0;\n",
              "      width: 32px;\n",
              "    }\n",
              "\n",
              "    .colab-df-convert:hover {\n",
              "      background-color: #E2EBFA;\n",
              "      box-shadow: 0px 1px 2px rgba(60, 64, 67, 0.3), 0px 1px 3px 1px rgba(60, 64, 67, 0.15);\n",
              "      fill: #174EA6;\n",
              "    }\n",
              "\n",
              "    [theme=dark] .colab-df-convert {\n",
              "      background-color: #3B4455;\n",
              "      fill: #D2E3FC;\n",
              "    }\n",
              "\n",
              "    [theme=dark] .colab-df-convert:hover {\n",
              "      background-color: #434B5C;\n",
              "      box-shadow: 0px 1px 3px 1px rgba(0, 0, 0, 0.15);\n",
              "      filter: drop-shadow(0px 1px 2px rgba(0, 0, 0, 0.3));\n",
              "      fill: #FFFFFF;\n",
              "    }\n",
              "  </style>\n",
              "\n",
              "      <script>\n",
              "        const buttonEl =\n",
              "          document.querySelector('#df-d40c1ca1-ef8c-4267-828b-d388a56f4a5a button.colab-df-convert');\n",
              "        buttonEl.style.display =\n",
              "          google.colab.kernel.accessAllowed ? 'block' : 'none';\n",
              "\n",
              "        async function convertToInteractive(key) {\n",
              "          const element = document.querySelector('#df-d40c1ca1-ef8c-4267-828b-d388a56f4a5a');\n",
              "          const dataTable =\n",
              "            await google.colab.kernel.invokeFunction('convertToInteractive',\n",
              "                                                     [key], {});\n",
              "          if (!dataTable) return;\n",
              "\n",
              "          const docLinkHtml = 'Like what you see? Visit the ' +\n",
              "            '<a target=\"_blank\" href=https://colab.research.google.com/notebooks/data_table.ipynb>data table notebook</a>'\n",
              "            + ' to learn more about interactive tables.';\n",
              "          element.innerHTML = '';\n",
              "          dataTable['output_type'] = 'display_data';\n",
              "          await google.colab.output.renderOutput(dataTable, element);\n",
              "          const docLink = document.createElement('div');\n",
              "          docLink.innerHTML = docLinkHtml;\n",
              "          element.appendChild(docLink);\n",
              "        }\n",
              "      </script>\n",
              "    </div>\n",
              "  </div>\n",
              "  "
            ],
            "text/plain": [
              "            EGIE3.SA  ITSA4.SA  SULA11.SA  ...  BBAS3.SA  CSAN3.SA  B3SA3.SA\n",
              "Date                                       ...                              \n",
              "2017-01-02       NaN       NaN        NaN  ...       NaN       NaN       NaN\n",
              "2017-01-03  0.038006  0.042915   0.047428  ...  0.044736  0.045516  0.040331\n",
              "2017-01-04 -0.012789  0.005817   0.036387  ... -0.005222  0.000514  0.018703\n",
              "2017-01-05 -0.007301  0.009238  -0.002104  ... -0.002446 -0.001801 -0.012234\n",
              "2017-01-06 -0.012479 -0.003454  -0.007930  ...  0.010788 -0.023451 -0.000586\n",
              "...              ...       ...        ...  ...       ...       ...       ...\n",
              "2022-02-11  0.003710  0.041733   0.001180  ...  0.034418 -0.002243 -0.012848\n",
              "2022-02-14  0.000247 -0.003810  -0.006702  ...  0.004183  0.000000  0.014266\n",
              "2022-02-15  0.000000  0.012328   0.010624  ...  0.046317  0.001346  0.033429\n",
              "2022-02-16  0.000740 -0.002832   0.007409  ...  0.005677  0.027423 -0.000685\n",
              "2022-02-17 -0.001234 -0.006638   0.015803  ... -0.002551  0.005656 -0.007568\n",
              "\n",
              "[1277 rows x 9 columns]"
            ]
          },
          "metadata": {},
          "execution_count": 5
        }
      ]
    },
    {
      "cell_type": "code",
      "source": [
        "# calculando a média do retorno logarítmico de cada ação da carteira\n",
        "ret_log[['EGIE3.SA', 'ITSA4.SA', 'SULA11.SA', 'ABEV3.SA', 'LREN3.SA', 'SLCE3.SA', 'BBAS3.SA', 'CSAN3.SA', 'B3SA3.SA']].mean() * 250"
      ],
      "metadata": {
        "colab": {
          "base_uri": "https://localhost:8080/"
        },
        "id": "2H7oZxwtj0yb",
        "outputId": "4be3f792-361e-4343-9992-a9dfd131f964"
      },
      "execution_count": 6,
      "outputs": [
        {
          "output_type": "execute_result",
          "data": {
            "text/plain": [
              "EGIE3.SA     0.146909\n",
              "ITSA4.SA     0.133489\n",
              "SULA11.SA    0.153398\n",
              "ABEV3.SA     0.012124\n",
              "LREN3.SA     0.088797\n",
              "SLCE3.SA     0.452594\n",
              "BBAS3.SA     0.097398\n",
              "CSAN3.SA     0.202600\n",
              "B3SA3.SA     0.225895\n",
              "dtype: float64"
            ]
          },
          "metadata": {},
          "execution_count": 6
        }
      ]
    },
    {
      "cell_type": "code",
      "source": [
        "# calculando a volatilidade anual de cada ação da carteira\n",
        "ret_log[['EGIE3.SA', 'ITSA4.SA', 'SULA11.SA', 'ABEV3.SA', 'LREN3.SA', 'SLCE3.SA', 'BBAS3.SA', 'CSAN3.SA', 'B3SA3.SA']].std() * 250 * 0.5"
      ],
      "metadata": {
        "colab": {
          "base_uri": "https://localhost:8080/"
        },
        "id": "cE9c0ULnj01L",
        "outputId": "de14373f-92d0-4015-ee15-49d792d71b15"
      },
      "execution_count": 7,
      "outputs": [
        {
          "output_type": "execute_result",
          "data": {
            "text/plain": [
              "EGIE3.SA     1.918748\n",
              "ITSA4.SA     2.433989\n",
              "SULA11.SA    2.985833\n",
              "ABEV3.SA     2.360249\n",
              "LREN3.SA     3.246655\n",
              "SLCE3.SA     3.118035\n",
              "BBAS3.SA     3.314397\n",
              "CSAN3.SA     3.021088\n",
              "B3SA3.SA     3.058444\n",
              "dtype: float64"
            ]
          },
          "metadata": {},
          "execution_count": 7
        }
      ]
    },
    {
      "cell_type": "markdown",
      "metadata": {
        "id": "5pXUQXSnxCwn"
      },
      "source": [
        "## Covariância e Correlação"
      ]
    },
    {
      "cell_type": "markdown",
      "metadata": {
        "id": "BrMDcv7RxCwn"
      },
      "source": [
        "\n",
        "\\begin{eqnarray*}\n",
        "Covariance Matrix: \\  \\   \n",
        "\\Sigma = \\begin{bmatrix}\n",
        "        \\sigma_{1}^2 \\ \\sigma_{12} \\ \\dots \\ \\sigma_{1I} \\\\\n",
        "        \\sigma_{21} \\ \\sigma_{2}^2 \\ \\dots \\ \\sigma_{2I} \\\\\n",
        "        \\vdots \\ \\vdots \\ \\ddots \\ \\vdots \\\\\n",
        "        \\sigma_{I1} \\ \\sigma_{I2} \\ \\dots \\ \\sigma_{I}^2\n",
        "    \\end{bmatrix}\n",
        "\\end{eqnarray*}"
      ]
    },
    {
      "cell_type": "code",
      "source": [
        "# Calculando a variância de cada ação da carteira (necessário p/ o cálculo mais pra frente)\n",
        "ITSA_var = ret_log['ITSA4.SA'].var()\n",
        "ITSA_var"
      ],
      "metadata": {
        "colab": {
          "base_uri": "https://localhost:8080/"
        },
        "id": "QOxKUZ4yrvAR",
        "outputId": "21bb67a2-b3b7-49f1-f95e-2e3dff45b8c9"
      },
      "execution_count": 8,
      "outputs": [
        {
          "output_type": "execute_result",
          "data": {
            "text/plain": [
              "0.0003791552497610612"
            ]
          },
          "metadata": {},
          "execution_count": 8
        }
      ]
    },
    {
      "cell_type": "code",
      "source": [
        "SULA_var = ret_log['SULA11.SA'].var()\n",
        "SULA_var"
      ],
      "metadata": {
        "colab": {
          "base_uri": "https://localhost:8080/"
        },
        "id": "HgNBtwf4r1UO",
        "outputId": "dde6ee25-8181-4beb-9a0e-c706630d89d2"
      },
      "execution_count": 9,
      "outputs": [
        {
          "output_type": "execute_result",
          "data": {
            "text/plain": [
              "0.0005705727408661139"
            ]
          },
          "metadata": {},
          "execution_count": 9
        }
      ]
    },
    {
      "cell_type": "code",
      "source": [
        "ABEV_var = ret_log['ABEV3.SA'].var()\n",
        "ABEV_var"
      ],
      "metadata": {
        "colab": {
          "base_uri": "https://localhost:8080/"
        },
        "id": "jwTkqdH5r1cO",
        "outputId": "ec0dc0bf-3cb9-4073-d8df-d6a9a14691a0"
      },
      "execution_count": 10,
      "outputs": [
        {
          "output_type": "execute_result",
          "data": {
            "text/plain": [
              "0.000356529516218018"
            ]
          },
          "metadata": {},
          "execution_count": 10
        }
      ]
    },
    {
      "cell_type": "code",
      "source": [
        "LREN_var = ret_log['LREN3.SA'].var()\n",
        "LREN_var"
      ],
      "metadata": {
        "colab": {
          "base_uri": "https://localhost:8080/"
        },
        "id": "4GEVRzFQr1j-",
        "outputId": "ba5c3e83-90c3-4531-cd1f-478efc5f4b2e"
      },
      "execution_count": 11,
      "outputs": [
        {
          "output_type": "execute_result",
          "data": {
            "text/plain": [
              "0.0006746092268941807"
            ]
          },
          "metadata": {},
          "execution_count": 11
        }
      ]
    },
    {
      "cell_type": "code",
      "source": [
        "SLCE_var = ret_log['SLCE3.SA'].var()\n",
        "SLCE_var"
      ],
      "metadata": {
        "colab": {
          "base_uri": "https://localhost:8080/"
        },
        "id": "V1D7VrN_r1r_",
        "outputId": "35258a42-9c0c-4011-8a12-692ba1b70378"
      },
      "execution_count": 12,
      "outputs": [
        {
          "output_type": "execute_result",
          "data": {
            "text/plain": [
              "0.000622217198901279"
            ]
          },
          "metadata": {},
          "execution_count": 12
        }
      ]
    },
    {
      "cell_type": "code",
      "source": [
        "BBAS_var = ret_log['BBAS3.SA'].var()\n",
        "BBAS_var"
      ],
      "metadata": {
        "colab": {
          "base_uri": "https://localhost:8080/"
        },
        "id": "F30ApC49r10O",
        "outputId": "699612b5-c306-4447-ee4e-7f348a5254a9"
      },
      "execution_count": 13,
      "outputs": [
        {
          "output_type": "execute_result",
          "data": {
            "text/plain": [
              "0.0007030545738641042"
            ]
          },
          "metadata": {},
          "execution_count": 13
        }
      ]
    },
    {
      "cell_type": "code",
      "source": [
        "CSAN_var = ret_log['CSAN3.SA'].var()\n",
        "CSAN_var"
      ],
      "metadata": {
        "colab": {
          "base_uri": "https://localhost:8080/"
        },
        "id": "cFA7RbLKr17_",
        "outputId": "b81bcf1d-f50c-4ed1-f070-28ee7a7ffb02"
      },
      "execution_count": 14,
      "outputs": [
        {
          "output_type": "execute_result",
          "data": {
            "text/plain": [
              "0.0005841263750254073"
            ]
          },
          "metadata": {},
          "execution_count": 14
        }
      ]
    },
    {
      "cell_type": "code",
      "source": [
        "B3SA_var = ret_log['B3SA3.SA'].var()\n",
        "B3SA_var"
      ],
      "metadata": {
        "colab": {
          "base_uri": "https://localhost:8080/"
        },
        "id": "BgAjbC2Zr2C_",
        "outputId": "d067a0ee-4f63-40bd-fab1-a1c311f0dfd6"
      },
      "execution_count": 15,
      "outputs": [
        {
          "output_type": "execute_result",
          "data": {
            "text/plain": [
              "0.0005986612118843824"
            ]
          },
          "metadata": {},
          "execution_count": 15
        }
      ]
    },
    {
      "cell_type": "code",
      "source": [
        "# Cálculo da variância anual de cada ação\n",
        "EGIE_var_anual = ret_log['EGIE3.SA'].var() * 250\n",
        "EGIE_var_anual"
      ],
      "metadata": {
        "colab": {
          "base_uri": "https://localhost:8080/"
        },
        "outputId": "cc40d210-9bb0-42e8-b96e-78aadf28ebef",
        "id": "9mSc8FZIv9UP"
      },
      "execution_count": 16,
      "outputs": [
        {
          "output_type": "execute_result",
          "data": {
            "text/plain": [
              "0.05890551081711142"
            ]
          },
          "metadata": {},
          "execution_count": 16
        }
      ]
    },
    {
      "cell_type": "code",
      "source": [
        "ITSA_var_anual = ret_log['ITSA4.SA'].var() * 250\n",
        "ITSA_var_anual"
      ],
      "metadata": {
        "colab": {
          "base_uri": "https://localhost:8080/"
        },
        "outputId": "8dcc58ca-65db-419f-8586-afcab2d21567",
        "id": "m1qphzZcv9UV"
      },
      "execution_count": 17,
      "outputs": [
        {
          "output_type": "execute_result",
          "data": {
            "text/plain": [
              "0.09478881244026531"
            ]
          },
          "metadata": {},
          "execution_count": 17
        }
      ]
    },
    {
      "cell_type": "code",
      "source": [
        "SULA_var_anual = ret_log['SULA11.SA'].var() * 250\n",
        "SULA_var_anual"
      ],
      "metadata": {
        "colab": {
          "base_uri": "https://localhost:8080/"
        },
        "outputId": "46cd8184-3693-4411-ef9e-c49d8dbcb146",
        "id": "yf_rEdMPv9UW"
      },
      "execution_count": 18,
      "outputs": [
        {
          "output_type": "execute_result",
          "data": {
            "text/plain": [
              "0.14264318521652847"
            ]
          },
          "metadata": {},
          "execution_count": 18
        }
      ]
    },
    {
      "cell_type": "code",
      "source": [
        "ABEV_var_anual = ret_log['ABEV3.SA'].var() * 250\n",
        "ABEV_var_anual"
      ],
      "metadata": {
        "colab": {
          "base_uri": "https://localhost:8080/"
        },
        "outputId": "e8e459f0-b652-4b15-dd58-63e3b2caf728",
        "id": "ufeThfhev9UW"
      },
      "execution_count": 19,
      "outputs": [
        {
          "output_type": "execute_result",
          "data": {
            "text/plain": [
              "0.0891323790545045"
            ]
          },
          "metadata": {},
          "execution_count": 19
        }
      ]
    },
    {
      "cell_type": "code",
      "source": [
        "LREN_var_anual = ret_log['LREN3.SA'].var() * 250\n",
        "LREN_var_anual"
      ],
      "metadata": {
        "colab": {
          "base_uri": "https://localhost:8080/"
        },
        "outputId": "04c723c9-fb2b-4c7d-ccf8-97c266fdcb22",
        "id": "Q2HZ48_sv9UW"
      },
      "execution_count": 20,
      "outputs": [
        {
          "output_type": "execute_result",
          "data": {
            "text/plain": [
              "0.16865230672354517"
            ]
          },
          "metadata": {},
          "execution_count": 20
        }
      ]
    },
    {
      "cell_type": "code",
      "source": [
        "SLCE_var_anual = ret_log['SLCE3.SA'].var() * 250\n",
        "SLCE_var_anual"
      ],
      "metadata": {
        "colab": {
          "base_uri": "https://localhost:8080/"
        },
        "outputId": "3b6f1b4b-95ac-4459-c3d2-653f4b8c2555",
        "id": "hmw1qZsQv9UW"
      },
      "execution_count": 21,
      "outputs": [
        {
          "output_type": "execute_result",
          "data": {
            "text/plain": [
              "0.15555429972531976"
            ]
          },
          "metadata": {},
          "execution_count": 21
        }
      ]
    },
    {
      "cell_type": "code",
      "source": [
        "BBAS_var_anual = ret_log['BBAS3.SA'].var() * 250\n",
        "BBAS_var_anual"
      ],
      "metadata": {
        "colab": {
          "base_uri": "https://localhost:8080/"
        },
        "outputId": "a7bf0a2c-fbf4-4def-de98-86f8ce56fd92",
        "id": "I4VudNoYv9UW"
      },
      "execution_count": 22,
      "outputs": [
        {
          "output_type": "execute_result",
          "data": {
            "text/plain": [
              "0.17576364346602605"
            ]
          },
          "metadata": {},
          "execution_count": 22
        }
      ]
    },
    {
      "cell_type": "code",
      "source": [
        "CSAN_var_anual = ret_log['CSAN3.SA'].var() * 250\n",
        "CSAN_var_anual"
      ],
      "metadata": {
        "colab": {
          "base_uri": "https://localhost:8080/"
        },
        "outputId": "86030b6e-7086-4ee6-bdc7-3e0e165d92d3",
        "id": "Hvf-sU4Vv9UW"
      },
      "execution_count": 23,
      "outputs": [
        {
          "output_type": "execute_result",
          "data": {
            "text/plain": [
              "0.14603159375635183"
            ]
          },
          "metadata": {},
          "execution_count": 23
        }
      ]
    },
    {
      "cell_type": "code",
      "source": [
        "B3SA_var_anual = ret_log['B3SA3.SA'].var() * 250\n",
        "B3SA_var_anual"
      ],
      "metadata": {
        "colab": {
          "base_uri": "https://localhost:8080/"
        },
        "outputId": "6ae789f4-275f-433a-e671-aa5ba692bce2",
        "id": "eebgqaSYv9UX"
      },
      "execution_count": 24,
      "outputs": [
        {
          "output_type": "execute_result",
          "data": {
            "text/plain": [
              "0.14966530297109562"
            ]
          },
          "metadata": {},
          "execution_count": 24
        }
      ]
    },
    {
      "cell_type": "markdown",
      "metadata": {
        "id": "OJquw3UGo-tY"
      },
      "source": [
        "Matriz de Covariância:"
      ]
    },
    {
      "cell_type": "code",
      "source": [
        "cov_matriz = ret_log.cov()\n",
        "cov_matriz"
      ],
      "metadata": {
        "colab": {
          "base_uri": "https://localhost:8080/",
          "height": 331
        },
        "id": "Douq1v1hsaLp",
        "outputId": "0423b3eb-855b-40bf-b5c5-a0cae17576f9"
      },
      "execution_count": 25,
      "outputs": [
        {
          "output_type": "execute_result",
          "data": {
            "text/html": [
              "\n",
              "  <div id=\"df-5ca15c5c-0504-42f4-a6fd-803189cc05a0\">\n",
              "    <div class=\"colab-df-container\">\n",
              "      <div>\n",
              "<style scoped>\n",
              "    .dataframe tbody tr th:only-of-type {\n",
              "        vertical-align: middle;\n",
              "    }\n",
              "\n",
              "    .dataframe tbody tr th {\n",
              "        vertical-align: top;\n",
              "    }\n",
              "\n",
              "    .dataframe thead th {\n",
              "        text-align: right;\n",
              "    }\n",
              "</style>\n",
              "<table border=\"1\" class=\"dataframe\">\n",
              "  <thead>\n",
              "    <tr style=\"text-align: right;\">\n",
              "      <th></th>\n",
              "      <th>EGIE3.SA</th>\n",
              "      <th>ITSA4.SA</th>\n",
              "      <th>SULA11.SA</th>\n",
              "      <th>ABEV3.SA</th>\n",
              "      <th>LREN3.SA</th>\n",
              "      <th>SLCE3.SA</th>\n",
              "      <th>BBAS3.SA</th>\n",
              "      <th>CSAN3.SA</th>\n",
              "      <th>B3SA3.SA</th>\n",
              "    </tr>\n",
              "  </thead>\n",
              "  <tbody>\n",
              "    <tr>\n",
              "      <th>EGIE3.SA</th>\n",
              "      <td>0.000236</td>\n",
              "      <td>0.000165</td>\n",
              "      <td>0.000139</td>\n",
              "      <td>0.000120</td>\n",
              "      <td>0.000198</td>\n",
              "      <td>0.000091</td>\n",
              "      <td>0.000222</td>\n",
              "      <td>0.000174</td>\n",
              "      <td>0.000197</td>\n",
              "    </tr>\n",
              "    <tr>\n",
              "      <th>ITSA4.SA</th>\n",
              "      <td>0.000165</td>\n",
              "      <td>0.000379</td>\n",
              "      <td>0.000198</td>\n",
              "      <td>0.000189</td>\n",
              "      <td>0.000300</td>\n",
              "      <td>0.000097</td>\n",
              "      <td>0.000409</td>\n",
              "      <td>0.000255</td>\n",
              "      <td>0.000297</td>\n",
              "    </tr>\n",
              "    <tr>\n",
              "      <th>SULA11.SA</th>\n",
              "      <td>0.000139</td>\n",
              "      <td>0.000198</td>\n",
              "      <td>0.000571</td>\n",
              "      <td>0.000158</td>\n",
              "      <td>0.000298</td>\n",
              "      <td>0.000139</td>\n",
              "      <td>0.000284</td>\n",
              "      <td>0.000247</td>\n",
              "      <td>0.000287</td>\n",
              "    </tr>\n",
              "    <tr>\n",
              "      <th>ABEV3.SA</th>\n",
              "      <td>0.000120</td>\n",
              "      <td>0.000189</td>\n",
              "      <td>0.000158</td>\n",
              "      <td>0.000357</td>\n",
              "      <td>0.000227</td>\n",
              "      <td>0.000098</td>\n",
              "      <td>0.000227</td>\n",
              "      <td>0.000193</td>\n",
              "      <td>0.000199</td>\n",
              "    </tr>\n",
              "    <tr>\n",
              "      <th>LREN3.SA</th>\n",
              "      <td>0.000198</td>\n",
              "      <td>0.000300</td>\n",
              "      <td>0.000298</td>\n",
              "      <td>0.000227</td>\n",
              "      <td>0.000675</td>\n",
              "      <td>0.000107</td>\n",
              "      <td>0.000422</td>\n",
              "      <td>0.000301</td>\n",
              "      <td>0.000369</td>\n",
              "    </tr>\n",
              "    <tr>\n",
              "      <th>SLCE3.SA</th>\n",
              "      <td>0.000091</td>\n",
              "      <td>0.000097</td>\n",
              "      <td>0.000139</td>\n",
              "      <td>0.000098</td>\n",
              "      <td>0.000107</td>\n",
              "      <td>0.000622</td>\n",
              "      <td>0.000144</td>\n",
              "      <td>0.000152</td>\n",
              "      <td>0.000155</td>\n",
              "    </tr>\n",
              "    <tr>\n",
              "      <th>BBAS3.SA</th>\n",
              "      <td>0.000222</td>\n",
              "      <td>0.000409</td>\n",
              "      <td>0.000284</td>\n",
              "      <td>0.000227</td>\n",
              "      <td>0.000422</td>\n",
              "      <td>0.000144</td>\n",
              "      <td>0.000703</td>\n",
              "      <td>0.000343</td>\n",
              "      <td>0.000409</td>\n",
              "    </tr>\n",
              "    <tr>\n",
              "      <th>CSAN3.SA</th>\n",
              "      <td>0.000174</td>\n",
              "      <td>0.000255</td>\n",
              "      <td>0.000247</td>\n",
              "      <td>0.000193</td>\n",
              "      <td>0.000301</td>\n",
              "      <td>0.000152</td>\n",
              "      <td>0.000343</td>\n",
              "      <td>0.000584</td>\n",
              "      <td>0.000308</td>\n",
              "    </tr>\n",
              "    <tr>\n",
              "      <th>B3SA3.SA</th>\n",
              "      <td>0.000197</td>\n",
              "      <td>0.000297</td>\n",
              "      <td>0.000287</td>\n",
              "      <td>0.000199</td>\n",
              "      <td>0.000369</td>\n",
              "      <td>0.000155</td>\n",
              "      <td>0.000409</td>\n",
              "      <td>0.000308</td>\n",
              "      <td>0.000599</td>\n",
              "    </tr>\n",
              "  </tbody>\n",
              "</table>\n",
              "</div>\n",
              "      <button class=\"colab-df-convert\" onclick=\"convertToInteractive('df-5ca15c5c-0504-42f4-a6fd-803189cc05a0')\"\n",
              "              title=\"Convert this dataframe to an interactive table.\"\n",
              "              style=\"display:none;\">\n",
              "        \n",
              "  <svg xmlns=\"http://www.w3.org/2000/svg\" height=\"24px\"viewBox=\"0 0 24 24\"\n",
              "       width=\"24px\">\n",
              "    <path d=\"M0 0h24v24H0V0z\" fill=\"none\"/>\n",
              "    <path d=\"M18.56 5.44l.94 2.06.94-2.06 2.06-.94-2.06-.94-.94-2.06-.94 2.06-2.06.94zm-11 1L8.5 8.5l.94-2.06 2.06-.94-2.06-.94L8.5 2.5l-.94 2.06-2.06.94zm10 10l.94 2.06.94-2.06 2.06-.94-2.06-.94-.94-2.06-.94 2.06-2.06.94z\"/><path d=\"M17.41 7.96l-1.37-1.37c-.4-.4-.92-.59-1.43-.59-.52 0-1.04.2-1.43.59L10.3 9.45l-7.72 7.72c-.78.78-.78 2.05 0 2.83L4 21.41c.39.39.9.59 1.41.59.51 0 1.02-.2 1.41-.59l7.78-7.78 2.81-2.81c.8-.78.8-2.07 0-2.86zM5.41 20L4 18.59l7.72-7.72 1.47 1.35L5.41 20z\"/>\n",
              "  </svg>\n",
              "      </button>\n",
              "      \n",
              "  <style>\n",
              "    .colab-df-container {\n",
              "      display:flex;\n",
              "      flex-wrap:wrap;\n",
              "      gap: 12px;\n",
              "    }\n",
              "\n",
              "    .colab-df-convert {\n",
              "      background-color: #E8F0FE;\n",
              "      border: none;\n",
              "      border-radius: 50%;\n",
              "      cursor: pointer;\n",
              "      display: none;\n",
              "      fill: #1967D2;\n",
              "      height: 32px;\n",
              "      padding: 0 0 0 0;\n",
              "      width: 32px;\n",
              "    }\n",
              "\n",
              "    .colab-df-convert:hover {\n",
              "      background-color: #E2EBFA;\n",
              "      box-shadow: 0px 1px 2px rgba(60, 64, 67, 0.3), 0px 1px 3px 1px rgba(60, 64, 67, 0.15);\n",
              "      fill: #174EA6;\n",
              "    }\n",
              "\n",
              "    [theme=dark] .colab-df-convert {\n",
              "      background-color: #3B4455;\n",
              "      fill: #D2E3FC;\n",
              "    }\n",
              "\n",
              "    [theme=dark] .colab-df-convert:hover {\n",
              "      background-color: #434B5C;\n",
              "      box-shadow: 0px 1px 3px 1px rgba(0, 0, 0, 0.15);\n",
              "      filter: drop-shadow(0px 1px 2px rgba(0, 0, 0, 0.3));\n",
              "      fill: #FFFFFF;\n",
              "    }\n",
              "  </style>\n",
              "\n",
              "      <script>\n",
              "        const buttonEl =\n",
              "          document.querySelector('#df-5ca15c5c-0504-42f4-a6fd-803189cc05a0 button.colab-df-convert');\n",
              "        buttonEl.style.display =\n",
              "          google.colab.kernel.accessAllowed ? 'block' : 'none';\n",
              "\n",
              "        async function convertToInteractive(key) {\n",
              "          const element = document.querySelector('#df-5ca15c5c-0504-42f4-a6fd-803189cc05a0');\n",
              "          const dataTable =\n",
              "            await google.colab.kernel.invokeFunction('convertToInteractive',\n",
              "                                                     [key], {});\n",
              "          if (!dataTable) return;\n",
              "\n",
              "          const docLinkHtml = 'Like what you see? Visit the ' +\n",
              "            '<a target=\"_blank\" href=https://colab.research.google.com/notebooks/data_table.ipynb>data table notebook</a>'\n",
              "            + ' to learn more about interactive tables.';\n",
              "          element.innerHTML = '';\n",
              "          dataTable['output_type'] = 'display_data';\n",
              "          await google.colab.output.renderOutput(dataTable, element);\n",
              "          const docLink = document.createElement('div');\n",
              "          docLink.innerHTML = docLinkHtml;\n",
              "          element.appendChild(docLink);\n",
              "        }\n",
              "      </script>\n",
              "    </div>\n",
              "  </div>\n",
              "  "
            ],
            "text/plain": [
              "           EGIE3.SA  ITSA4.SA  SULA11.SA  ...  BBAS3.SA  CSAN3.SA  B3SA3.SA\n",
              "EGIE3.SA   0.000236  0.000165   0.000139  ...  0.000222  0.000174  0.000197\n",
              "ITSA4.SA   0.000165  0.000379   0.000198  ...  0.000409  0.000255  0.000297\n",
              "SULA11.SA  0.000139  0.000198   0.000571  ...  0.000284  0.000247  0.000287\n",
              "ABEV3.SA   0.000120  0.000189   0.000158  ...  0.000227  0.000193  0.000199\n",
              "LREN3.SA   0.000198  0.000300   0.000298  ...  0.000422  0.000301  0.000369\n",
              "SLCE3.SA   0.000091  0.000097   0.000139  ...  0.000144  0.000152  0.000155\n",
              "BBAS3.SA   0.000222  0.000409   0.000284  ...  0.000703  0.000343  0.000409\n",
              "CSAN3.SA   0.000174  0.000255   0.000247  ...  0.000343  0.000584  0.000308\n",
              "B3SA3.SA   0.000197  0.000297   0.000287  ...  0.000409  0.000308  0.000599\n",
              "\n",
              "[9 rows x 9 columns]"
            ]
          },
          "metadata": {},
          "execution_count": 25
        }
      ]
    },
    {
      "cell_type": "code",
      "source": [
        "# matriz de covariância anual\n",
        "cov_matriz_anual = ret_log.cov() * 250\n",
        "cov_matriz_anual"
      ],
      "metadata": {
        "colab": {
          "base_uri": "https://localhost:8080/",
          "height": 331
        },
        "id": "ns-6h-kq_6H5",
        "outputId": "896c8bfc-b4f8-43d8-e071-92ded04c60b3"
      },
      "execution_count": 26,
      "outputs": [
        {
          "output_type": "execute_result",
          "data": {
            "text/html": [
              "\n",
              "  <div id=\"df-9168bfaa-3113-4d68-ba6b-313ba85e5fc7\">\n",
              "    <div class=\"colab-df-container\">\n",
              "      <div>\n",
              "<style scoped>\n",
              "    .dataframe tbody tr th:only-of-type {\n",
              "        vertical-align: middle;\n",
              "    }\n",
              "\n",
              "    .dataframe tbody tr th {\n",
              "        vertical-align: top;\n",
              "    }\n",
              "\n",
              "    .dataframe thead th {\n",
              "        text-align: right;\n",
              "    }\n",
              "</style>\n",
              "<table border=\"1\" class=\"dataframe\">\n",
              "  <thead>\n",
              "    <tr style=\"text-align: right;\">\n",
              "      <th></th>\n",
              "      <th>EGIE3.SA</th>\n",
              "      <th>ITSA4.SA</th>\n",
              "      <th>SULA11.SA</th>\n",
              "      <th>ABEV3.SA</th>\n",
              "      <th>LREN3.SA</th>\n",
              "      <th>SLCE3.SA</th>\n",
              "      <th>BBAS3.SA</th>\n",
              "      <th>CSAN3.SA</th>\n",
              "      <th>B3SA3.SA</th>\n",
              "    </tr>\n",
              "  </thead>\n",
              "  <tbody>\n",
              "    <tr>\n",
              "      <th>EGIE3.SA</th>\n",
              "      <td>0.058906</td>\n",
              "      <td>0.041337</td>\n",
              "      <td>0.034747</td>\n",
              "      <td>0.029880</td>\n",
              "      <td>0.049383</td>\n",
              "      <td>0.022636</td>\n",
              "      <td>0.055573</td>\n",
              "      <td>0.043441</td>\n",
              "      <td>0.049240</td>\n",
              "    </tr>\n",
              "    <tr>\n",
              "      <th>ITSA4.SA</th>\n",
              "      <td>0.041337</td>\n",
              "      <td>0.094789</td>\n",
              "      <td>0.049599</td>\n",
              "      <td>0.047328</td>\n",
              "      <td>0.074895</td>\n",
              "      <td>0.024265</td>\n",
              "      <td>0.102242</td>\n",
              "      <td>0.063865</td>\n",
              "      <td>0.074182</td>\n",
              "    </tr>\n",
              "    <tr>\n",
              "      <th>SULA11.SA</th>\n",
              "      <td>0.034747</td>\n",
              "      <td>0.049599</td>\n",
              "      <td>0.142643</td>\n",
              "      <td>0.039515</td>\n",
              "      <td>0.074617</td>\n",
              "      <td>0.034838</td>\n",
              "      <td>0.070886</td>\n",
              "      <td>0.061820</td>\n",
              "      <td>0.071759</td>\n",
              "    </tr>\n",
              "    <tr>\n",
              "      <th>ABEV3.SA</th>\n",
              "      <td>0.029880</td>\n",
              "      <td>0.047328</td>\n",
              "      <td>0.039515</td>\n",
              "      <td>0.089132</td>\n",
              "      <td>0.056689</td>\n",
              "      <td>0.024444</td>\n",
              "      <td>0.056680</td>\n",
              "      <td>0.048262</td>\n",
              "      <td>0.049697</td>\n",
              "    </tr>\n",
              "    <tr>\n",
              "      <th>LREN3.SA</th>\n",
              "      <td>0.049383</td>\n",
              "      <td>0.074895</td>\n",
              "      <td>0.074617</td>\n",
              "      <td>0.056689</td>\n",
              "      <td>0.168652</td>\n",
              "      <td>0.026835</td>\n",
              "      <td>0.105543</td>\n",
              "      <td>0.075273</td>\n",
              "      <td>0.092375</td>\n",
              "    </tr>\n",
              "    <tr>\n",
              "      <th>SLCE3.SA</th>\n",
              "      <td>0.022636</td>\n",
              "      <td>0.024265</td>\n",
              "      <td>0.034838</td>\n",
              "      <td>0.024444</td>\n",
              "      <td>0.026835</td>\n",
              "      <td>0.155554</td>\n",
              "      <td>0.036104</td>\n",
              "      <td>0.038074</td>\n",
              "      <td>0.038682</td>\n",
              "    </tr>\n",
              "    <tr>\n",
              "      <th>BBAS3.SA</th>\n",
              "      <td>0.055573</td>\n",
              "      <td>0.102242</td>\n",
              "      <td>0.070886</td>\n",
              "      <td>0.056680</td>\n",
              "      <td>0.105543</td>\n",
              "      <td>0.036104</td>\n",
              "      <td>0.175764</td>\n",
              "      <td>0.085850</td>\n",
              "      <td>0.102233</td>\n",
              "    </tr>\n",
              "    <tr>\n",
              "      <th>CSAN3.SA</th>\n",
              "      <td>0.043441</td>\n",
              "      <td>0.063865</td>\n",
              "      <td>0.061820</td>\n",
              "      <td>0.048262</td>\n",
              "      <td>0.075273</td>\n",
              "      <td>0.038074</td>\n",
              "      <td>0.085850</td>\n",
              "      <td>0.146032</td>\n",
              "      <td>0.077071</td>\n",
              "    </tr>\n",
              "    <tr>\n",
              "      <th>B3SA3.SA</th>\n",
              "      <td>0.049240</td>\n",
              "      <td>0.074182</td>\n",
              "      <td>0.071759</td>\n",
              "      <td>0.049697</td>\n",
              "      <td>0.092375</td>\n",
              "      <td>0.038682</td>\n",
              "      <td>0.102233</td>\n",
              "      <td>0.077071</td>\n",
              "      <td>0.149665</td>\n",
              "    </tr>\n",
              "  </tbody>\n",
              "</table>\n",
              "</div>\n",
              "      <button class=\"colab-df-convert\" onclick=\"convertToInteractive('df-9168bfaa-3113-4d68-ba6b-313ba85e5fc7')\"\n",
              "              title=\"Convert this dataframe to an interactive table.\"\n",
              "              style=\"display:none;\">\n",
              "        \n",
              "  <svg xmlns=\"http://www.w3.org/2000/svg\" height=\"24px\"viewBox=\"0 0 24 24\"\n",
              "       width=\"24px\">\n",
              "    <path d=\"M0 0h24v24H0V0z\" fill=\"none\"/>\n",
              "    <path d=\"M18.56 5.44l.94 2.06.94-2.06 2.06-.94-2.06-.94-.94-2.06-.94 2.06-2.06.94zm-11 1L8.5 8.5l.94-2.06 2.06-.94-2.06-.94L8.5 2.5l-.94 2.06-2.06.94zm10 10l.94 2.06.94-2.06 2.06-.94-2.06-.94-.94-2.06-.94 2.06-2.06.94z\"/><path d=\"M17.41 7.96l-1.37-1.37c-.4-.4-.92-.59-1.43-.59-.52 0-1.04.2-1.43.59L10.3 9.45l-7.72 7.72c-.78.78-.78 2.05 0 2.83L4 21.41c.39.39.9.59 1.41.59.51 0 1.02-.2 1.41-.59l7.78-7.78 2.81-2.81c.8-.78.8-2.07 0-2.86zM5.41 20L4 18.59l7.72-7.72 1.47 1.35L5.41 20z\"/>\n",
              "  </svg>\n",
              "      </button>\n",
              "      \n",
              "  <style>\n",
              "    .colab-df-container {\n",
              "      display:flex;\n",
              "      flex-wrap:wrap;\n",
              "      gap: 12px;\n",
              "    }\n",
              "\n",
              "    .colab-df-convert {\n",
              "      background-color: #E8F0FE;\n",
              "      border: none;\n",
              "      border-radius: 50%;\n",
              "      cursor: pointer;\n",
              "      display: none;\n",
              "      fill: #1967D2;\n",
              "      height: 32px;\n",
              "      padding: 0 0 0 0;\n",
              "      width: 32px;\n",
              "    }\n",
              "\n",
              "    .colab-df-convert:hover {\n",
              "      background-color: #E2EBFA;\n",
              "      box-shadow: 0px 1px 2px rgba(60, 64, 67, 0.3), 0px 1px 3px 1px rgba(60, 64, 67, 0.15);\n",
              "      fill: #174EA6;\n",
              "    }\n",
              "\n",
              "    [theme=dark] .colab-df-convert {\n",
              "      background-color: #3B4455;\n",
              "      fill: #D2E3FC;\n",
              "    }\n",
              "\n",
              "    [theme=dark] .colab-df-convert:hover {\n",
              "      background-color: #434B5C;\n",
              "      box-shadow: 0px 1px 3px 1px rgba(0, 0, 0, 0.15);\n",
              "      filter: drop-shadow(0px 1px 2px rgba(0, 0, 0, 0.3));\n",
              "      fill: #FFFFFF;\n",
              "    }\n",
              "  </style>\n",
              "\n",
              "      <script>\n",
              "        const buttonEl =\n",
              "          document.querySelector('#df-9168bfaa-3113-4d68-ba6b-313ba85e5fc7 button.colab-df-convert');\n",
              "        buttonEl.style.display =\n",
              "          google.colab.kernel.accessAllowed ? 'block' : 'none';\n",
              "\n",
              "        async function convertToInteractive(key) {\n",
              "          const element = document.querySelector('#df-9168bfaa-3113-4d68-ba6b-313ba85e5fc7');\n",
              "          const dataTable =\n",
              "            await google.colab.kernel.invokeFunction('convertToInteractive',\n",
              "                                                     [key], {});\n",
              "          if (!dataTable) return;\n",
              "\n",
              "          const docLinkHtml = 'Like what you see? Visit the ' +\n",
              "            '<a target=\"_blank\" href=https://colab.research.google.com/notebooks/data_table.ipynb>data table notebook</a>'\n",
              "            + ' to learn more about interactive tables.';\n",
              "          element.innerHTML = '';\n",
              "          dataTable['output_type'] = 'display_data';\n",
              "          await google.colab.output.renderOutput(dataTable, element);\n",
              "          const docLink = document.createElement('div');\n",
              "          docLink.innerHTML = docLinkHtml;\n",
              "          element.appendChild(docLink);\n",
              "        }\n",
              "      </script>\n",
              "    </div>\n",
              "  </div>\n",
              "  "
            ],
            "text/plain": [
              "           EGIE3.SA  ITSA4.SA  SULA11.SA  ...  BBAS3.SA  CSAN3.SA  B3SA3.SA\n",
              "EGIE3.SA   0.058906  0.041337   0.034747  ...  0.055573  0.043441  0.049240\n",
              "ITSA4.SA   0.041337  0.094789   0.049599  ...  0.102242  0.063865  0.074182\n",
              "SULA11.SA  0.034747  0.049599   0.142643  ...  0.070886  0.061820  0.071759\n",
              "ABEV3.SA   0.029880  0.047328   0.039515  ...  0.056680  0.048262  0.049697\n",
              "LREN3.SA   0.049383  0.074895   0.074617  ...  0.105543  0.075273  0.092375\n",
              "SLCE3.SA   0.022636  0.024265   0.034838  ...  0.036104  0.038074  0.038682\n",
              "BBAS3.SA   0.055573  0.102242   0.070886  ...  0.175764  0.085850  0.102233\n",
              "CSAN3.SA   0.043441  0.063865   0.061820  ...  0.085850  0.146032  0.077071\n",
              "B3SA3.SA   0.049240  0.074182   0.071759  ...  0.102233  0.077071  0.149665\n",
              "\n",
              "[9 rows x 9 columns]"
            ]
          },
          "metadata": {},
          "execution_count": 26
        }
      ]
    },
    {
      "cell_type": "markdown",
      "metadata": {
        "id": "ojVquAOGo-ta"
      },
      "source": [
        "Matriz de correlação:"
      ]
    },
    {
      "cell_type": "code",
      "source": [
        "corr_matriz = ret_log.corr()\n",
        "corr_matriz"
      ],
      "metadata": {
        "colab": {
          "base_uri": "https://localhost:8080/",
          "height": 331
        },
        "id": "QMva3egDwgv6",
        "outputId": "478fd405-1db2-403a-dc36-1e9e2973b84e"
      },
      "execution_count": 27,
      "outputs": [
        {
          "output_type": "execute_result",
          "data": {
            "text/html": [
              "\n",
              "  <div id=\"df-1144351b-e683-407b-b36f-6b434b450f74\">\n",
              "    <div class=\"colab-df-container\">\n",
              "      <div>\n",
              "<style scoped>\n",
              "    .dataframe tbody tr th:only-of-type {\n",
              "        vertical-align: middle;\n",
              "    }\n",
              "\n",
              "    .dataframe tbody tr th {\n",
              "        vertical-align: top;\n",
              "    }\n",
              "\n",
              "    .dataframe thead th {\n",
              "        text-align: right;\n",
              "    }\n",
              "</style>\n",
              "<table border=\"1\" class=\"dataframe\">\n",
              "  <thead>\n",
              "    <tr style=\"text-align: right;\">\n",
              "      <th></th>\n",
              "      <th>EGIE3.SA</th>\n",
              "      <th>ITSA4.SA</th>\n",
              "      <th>SULA11.SA</th>\n",
              "      <th>ABEV3.SA</th>\n",
              "      <th>LREN3.SA</th>\n",
              "      <th>SLCE3.SA</th>\n",
              "      <th>BBAS3.SA</th>\n",
              "      <th>CSAN3.SA</th>\n",
              "      <th>B3SA3.SA</th>\n",
              "    </tr>\n",
              "  </thead>\n",
              "  <tbody>\n",
              "    <tr>\n",
              "      <th>EGIE3.SA</th>\n",
              "      <td>1.000000</td>\n",
              "      <td>0.553195</td>\n",
              "      <td>0.379062</td>\n",
              "      <td>0.412374</td>\n",
              "      <td>0.495451</td>\n",
              "      <td>0.236476</td>\n",
              "      <td>0.546163</td>\n",
              "      <td>0.468375</td>\n",
              "      <td>0.524417</td>\n",
              "    </tr>\n",
              "    <tr>\n",
              "      <th>ITSA4.SA</th>\n",
              "      <td>0.553195</td>\n",
              "      <td>1.000000</td>\n",
              "      <td>0.426545</td>\n",
              "      <td>0.514902</td>\n",
              "      <td>0.592347</td>\n",
              "      <td>0.199832</td>\n",
              "      <td>0.792109</td>\n",
              "      <td>0.542827</td>\n",
              "      <td>0.622813</td>\n",
              "    </tr>\n",
              "    <tr>\n",
              "      <th>SULA11.SA</th>\n",
              "      <td>0.379062</td>\n",
              "      <td>0.426545</td>\n",
              "      <td>1.000000</td>\n",
              "      <td>0.350442</td>\n",
              "      <td>0.481081</td>\n",
              "      <td>0.233879</td>\n",
              "      <td>0.447685</td>\n",
              "      <td>0.428335</td>\n",
              "      <td>0.491122</td>\n",
              "    </tr>\n",
              "    <tr>\n",
              "      <th>ABEV3.SA</th>\n",
              "      <td>0.412374</td>\n",
              "      <td>0.514902</td>\n",
              "      <td>0.350442</td>\n",
              "      <td>1.000000</td>\n",
              "      <td>0.462362</td>\n",
              "      <td>0.207598</td>\n",
              "      <td>0.452846</td>\n",
              "      <td>0.423023</td>\n",
              "      <td>0.430276</td>\n",
              "    </tr>\n",
              "    <tr>\n",
              "      <th>LREN3.SA</th>\n",
              "      <td>0.495451</td>\n",
              "      <td>0.592347</td>\n",
              "      <td>0.481081</td>\n",
              "      <td>0.462362</td>\n",
              "      <td>1.000000</td>\n",
              "      <td>0.165681</td>\n",
              "      <td>0.613013</td>\n",
              "      <td>0.479643</td>\n",
              "      <td>0.581427</td>\n",
              "    </tr>\n",
              "    <tr>\n",
              "      <th>SLCE3.SA</th>\n",
              "      <td>0.236476</td>\n",
              "      <td>0.199832</td>\n",
              "      <td>0.233879</td>\n",
              "      <td>0.207598</td>\n",
              "      <td>0.165681</td>\n",
              "      <td>1.000000</td>\n",
              "      <td>0.218350</td>\n",
              "      <td>0.252621</td>\n",
              "      <td>0.253514</td>\n",
              "    </tr>\n",
              "    <tr>\n",
              "      <th>BBAS3.SA</th>\n",
              "      <td>0.546163</td>\n",
              "      <td>0.792109</td>\n",
              "      <td>0.447685</td>\n",
              "      <td>0.452846</td>\n",
              "      <td>0.613013</td>\n",
              "      <td>0.218350</td>\n",
              "      <td>1.000000</td>\n",
              "      <td>0.535860</td>\n",
              "      <td>0.630326</td>\n",
              "    </tr>\n",
              "    <tr>\n",
              "      <th>CSAN3.SA</th>\n",
              "      <td>0.468375</td>\n",
              "      <td>0.542827</td>\n",
              "      <td>0.428335</td>\n",
              "      <td>0.423023</td>\n",
              "      <td>0.479643</td>\n",
              "      <td>0.252621</td>\n",
              "      <td>0.535860</td>\n",
              "      <td>1.000000</td>\n",
              "      <td>0.521325</td>\n",
              "    </tr>\n",
              "    <tr>\n",
              "      <th>B3SA3.SA</th>\n",
              "      <td>0.524417</td>\n",
              "      <td>0.622813</td>\n",
              "      <td>0.491122</td>\n",
              "      <td>0.430276</td>\n",
              "      <td>0.581427</td>\n",
              "      <td>0.253514</td>\n",
              "      <td>0.630326</td>\n",
              "      <td>0.521325</td>\n",
              "      <td>1.000000</td>\n",
              "    </tr>\n",
              "  </tbody>\n",
              "</table>\n",
              "</div>\n",
              "      <button class=\"colab-df-convert\" onclick=\"convertToInteractive('df-1144351b-e683-407b-b36f-6b434b450f74')\"\n",
              "              title=\"Convert this dataframe to an interactive table.\"\n",
              "              style=\"display:none;\">\n",
              "        \n",
              "  <svg xmlns=\"http://www.w3.org/2000/svg\" height=\"24px\"viewBox=\"0 0 24 24\"\n",
              "       width=\"24px\">\n",
              "    <path d=\"M0 0h24v24H0V0z\" fill=\"none\"/>\n",
              "    <path d=\"M18.56 5.44l.94 2.06.94-2.06 2.06-.94-2.06-.94-.94-2.06-.94 2.06-2.06.94zm-11 1L8.5 8.5l.94-2.06 2.06-.94-2.06-.94L8.5 2.5l-.94 2.06-2.06.94zm10 10l.94 2.06.94-2.06 2.06-.94-2.06-.94-.94-2.06-.94 2.06-2.06.94z\"/><path d=\"M17.41 7.96l-1.37-1.37c-.4-.4-.92-.59-1.43-.59-.52 0-1.04.2-1.43.59L10.3 9.45l-7.72 7.72c-.78.78-.78 2.05 0 2.83L4 21.41c.39.39.9.59 1.41.59.51 0 1.02-.2 1.41-.59l7.78-7.78 2.81-2.81c.8-.78.8-2.07 0-2.86zM5.41 20L4 18.59l7.72-7.72 1.47 1.35L5.41 20z\"/>\n",
              "  </svg>\n",
              "      </button>\n",
              "      \n",
              "  <style>\n",
              "    .colab-df-container {\n",
              "      display:flex;\n",
              "      flex-wrap:wrap;\n",
              "      gap: 12px;\n",
              "    }\n",
              "\n",
              "    .colab-df-convert {\n",
              "      background-color: #E8F0FE;\n",
              "      border: none;\n",
              "      border-radius: 50%;\n",
              "      cursor: pointer;\n",
              "      display: none;\n",
              "      fill: #1967D2;\n",
              "      height: 32px;\n",
              "      padding: 0 0 0 0;\n",
              "      width: 32px;\n",
              "    }\n",
              "\n",
              "    .colab-df-convert:hover {\n",
              "      background-color: #E2EBFA;\n",
              "      box-shadow: 0px 1px 2px rgba(60, 64, 67, 0.3), 0px 1px 3px 1px rgba(60, 64, 67, 0.15);\n",
              "      fill: #174EA6;\n",
              "    }\n",
              "\n",
              "    [theme=dark] .colab-df-convert {\n",
              "      background-color: #3B4455;\n",
              "      fill: #D2E3FC;\n",
              "    }\n",
              "\n",
              "    [theme=dark] .colab-df-convert:hover {\n",
              "      background-color: #434B5C;\n",
              "      box-shadow: 0px 1px 3px 1px rgba(0, 0, 0, 0.15);\n",
              "      filter: drop-shadow(0px 1px 2px rgba(0, 0, 0, 0.3));\n",
              "      fill: #FFFFFF;\n",
              "    }\n",
              "  </style>\n",
              "\n",
              "      <script>\n",
              "        const buttonEl =\n",
              "          document.querySelector('#df-1144351b-e683-407b-b36f-6b434b450f74 button.colab-df-convert');\n",
              "        buttonEl.style.display =\n",
              "          google.colab.kernel.accessAllowed ? 'block' : 'none';\n",
              "\n",
              "        async function convertToInteractive(key) {\n",
              "          const element = document.querySelector('#df-1144351b-e683-407b-b36f-6b434b450f74');\n",
              "          const dataTable =\n",
              "            await google.colab.kernel.invokeFunction('convertToInteractive',\n",
              "                                                     [key], {});\n",
              "          if (!dataTable) return;\n",
              "\n",
              "          const docLinkHtml = 'Like what you see? Visit the ' +\n",
              "            '<a target=\"_blank\" href=https://colab.research.google.com/notebooks/data_table.ipynb>data table notebook</a>'\n",
              "            + ' to learn more about interactive tables.';\n",
              "          element.innerHTML = '';\n",
              "          dataTable['output_type'] = 'display_data';\n",
              "          await google.colab.output.renderOutput(dataTable, element);\n",
              "          const docLink = document.createElement('div');\n",
              "          docLink.innerHTML = docLinkHtml;\n",
              "          element.appendChild(docLink);\n",
              "        }\n",
              "      </script>\n",
              "    </div>\n",
              "  </div>\n",
              "  "
            ],
            "text/plain": [
              "           EGIE3.SA  ITSA4.SA  SULA11.SA  ...  BBAS3.SA  CSAN3.SA  B3SA3.SA\n",
              "EGIE3.SA   1.000000  0.553195   0.379062  ...  0.546163  0.468375  0.524417\n",
              "ITSA4.SA   0.553195  1.000000   0.426545  ...  0.792109  0.542827  0.622813\n",
              "SULA11.SA  0.379062  0.426545   1.000000  ...  0.447685  0.428335  0.491122\n",
              "ABEV3.SA   0.412374  0.514902   0.350442  ...  0.452846  0.423023  0.430276\n",
              "LREN3.SA   0.495451  0.592347   0.481081  ...  0.613013  0.479643  0.581427\n",
              "SLCE3.SA   0.236476  0.199832   0.233879  ...  0.218350  0.252621  0.253514\n",
              "BBAS3.SA   0.546163  0.792109   0.447685  ...  1.000000  0.535860  0.630326\n",
              "CSAN3.SA   0.468375  0.542827   0.428335  ...  0.535860  1.000000  0.521325\n",
              "B3SA3.SA   0.524417  0.622813   0.491122  ...  0.630326  0.521325  1.000000\n",
              "\n",
              "[9 rows x 9 columns]"
            ]
          },
          "metadata": {},
          "execution_count": 27
        }
      ]
    },
    {
      "cell_type": "markdown",
      "metadata": {
        "id": "K92AYO9j-siJ"
      },
      "source": [
        "## Cálculo do Risco da Carteira"
      ]
    },
    {
      "cell_type": "markdown",
      "metadata": {
        "id": "A-fPbDPp-siJ"
      },
      "source": [
        "Deixando os pesos iguais de cada ação:"
      ]
    },
    {
      "cell_type": "code",
      "source": [
        "pesos = np.array([1/9, 1/9, 1/9, 1/9, 1/9, 1/9, 1/9, 1/9, 1/9])\n",
        "pesos"
      ],
      "metadata": {
        "colab": {
          "base_uri": "https://localhost:8080/"
        },
        "id": "G5y3DGASBMaa",
        "outputId": "88f66d9b-d097-40ab-f664-b5b6e6d8ed86"
      },
      "execution_count": 28,
      "outputs": [
        {
          "output_type": "execute_result",
          "data": {
            "text/plain": [
              "array([0.11111111, 0.11111111, 0.11111111, 0.11111111, 0.11111111,\n",
              "       0.11111111, 0.11111111, 0.11111111, 0.11111111])"
            ]
          },
          "metadata": {},
          "execution_count": 28
        }
      ]
    },
    {
      "cell_type": "code",
      "source": [
        "pesos.sum()"
      ],
      "metadata": {
        "colab": {
          "base_uri": "https://localhost:8080/"
        },
        "id": "KtnYkRMRBkFW",
        "outputId": "347ed686-ab71-443c-8869-f7ba80187a14"
      },
      "execution_count": 29,
      "outputs": [
        {
          "output_type": "execute_result",
          "data": {
            "text/plain": [
              "1.0"
            ]
          },
          "metadata": {},
          "execution_count": 29
        }
      ]
    },
    {
      "cell_type": "markdown",
      "metadata": {
        "id": "QALo8z5O-siJ"
      },
      "source": [
        "Variância da Carteira:"
      ]
    },
    {
      "cell_type": "code",
      "source": [
        "var_carteira = np.dot(pesos.T, np.dot(ret_log.cov() * 250, pesos))\n",
        "var_carteira"
      ],
      "metadata": {
        "colab": {
          "base_uri": "https://localhost:8080/"
        },
        "id": "sPydkFw0A_Ml",
        "outputId": "0f7af282-67a3-45d6-cf5c-8b1db7b2f772"
      },
      "execution_count": 30,
      "outputs": [
        {
          "output_type": "execute_result",
          "data": {
            "text/plain": [
              "0.06470193036692883"
            ]
          },
          "metadata": {},
          "execution_count": 30
        }
      ]
    },
    {
      "cell_type": "markdown",
      "metadata": {
        "id": "T-n9nS_n-siK"
      },
      "source": [
        "Volatilidade da Carteira:"
      ]
    },
    {
      "cell_type": "code",
      "source": [
        "volatilidade_cart = var_carteira ** 0.5\n",
        "volatilidade_cart # 0.25"
      ],
      "metadata": {
        "colab": {
          "base_uri": "https://localhost:8080/"
        },
        "id": "fWkrI5_jA5R2",
        "outputId": "8a221500-5c4a-40f2-c994-9f6daac27e0b"
      },
      "execution_count": 31,
      "outputs": [
        {
          "output_type": "execute_result",
          "data": {
            "text/plain": [
              "0.2543657413389799"
            ]
          },
          "metadata": {},
          "execution_count": 31
        }
      ]
    },
    {
      "cell_type": "code",
      "source": [
        "# imprimindo a volatilidade da carteira em porcentagem\n",
        "print('A volatilidade da carteira é ' + str(round(volatilidade_cart * 100, 2)) + '%')"
      ],
      "metadata": {
        "colab": {
          "base_uri": "https://localhost:8080/"
        },
        "id": "N_NuFSFrCagt",
        "outputId": "209ac539-ff0b-4643-fb62-5f525756b095"
      },
      "execution_count": 46,
      "outputs": [
        {
          "output_type": "stream",
          "name": "stdout",
          "text": [
            "A volatilidade da carteira é 25.44%\n"
          ]
        }
      ]
    },
    {
      "cell_type": "markdown",
      "source": [
        "OU"
      ],
      "metadata": {
        "id": "rGoDurXbCydu"
      }
    },
    {
      "cell_type": "code",
      "source": [
        "print('A volatilidade da carteira é {}%'.format(round(volatilidade_cart * 100, 2)))"
      ],
      "metadata": {
        "colab": {
          "base_uri": "https://localhost:8080/"
        },
        "id": "X0YJcXCnCzXO",
        "outputId": "b45598c5-5530-412f-e916-476191606d22"
      },
      "execution_count": 44,
      "outputs": [
        {
          "output_type": "stream",
          "name": "stdout",
          "text": [
            "A volatilidade da carteira é 25.44%\n"
          ]
        }
      ]
    },
    {
      "cell_type": "markdown",
      "source": [
        "OU"
      ],
      "metadata": {
        "id": "VLh8JbeYC0tt"
      }
    },
    {
      "cell_type": "code",
      "source": [
        "print(f'A volatilidade da carteira é {round(volatilidade_cart * 100, 2)}%')"
      ],
      "metadata": {
        "colab": {
          "base_uri": "https://localhost:8080/"
        },
        "id": "afgsghxGDDwc",
        "outputId": "0330cc69-eed7-4639-f44c-a5cd1d644e42"
      },
      "execution_count": 45,
      "outputs": [
        {
          "output_type": "stream",
          "name": "stdout",
          "text": [
            "A volatilidade da carteira é 25.44%\n"
          ]
        }
      ]
    },
    {
      "cell_type": "markdown",
      "metadata": {
        "id": "fuNI9Br1aywc"
      },
      "source": [
        "Colocando pesos diferente p/ cada ação:"
      ]
    },
    {
      "cell_type": "code",
      "source": [
        "pesos2 = np.array([0.15, 0.12, 0.15, 0.08, 0.12, 0.1, 0.1, 0.08, 0.1])\n",
        "pesos2"
      ],
      "metadata": {
        "colab": {
          "base_uri": "https://localhost:8080/"
        },
        "id": "mlaaUso5a7HM",
        "outputId": "4668f528-a4af-4a59-e056-d4e63f5e69ec"
      },
      "execution_count": 35,
      "outputs": [
        {
          "output_type": "execute_result",
          "data": {
            "text/plain": [
              "array([0.15, 0.12, 0.15, 0.08, 0.12, 0.1 , 0.1 , 0.08, 0.1 ])"
            ]
          },
          "metadata": {},
          "execution_count": 35
        }
      ]
    },
    {
      "cell_type": "code",
      "source": [
        "pesos2.sum()"
      ],
      "metadata": {
        "colab": {
          "base_uri": "https://localhost:8080/"
        },
        "id": "HQj4rW36b2WZ",
        "outputId": "540498e6-69f2-4889-ab98-c757f3964cae"
      },
      "execution_count": 36,
      "outputs": [
        {
          "output_type": "execute_result",
          "data": {
            "text/plain": [
              "1.0"
            ]
          },
          "metadata": {},
          "execution_count": 36
        }
      ]
    },
    {
      "cell_type": "markdown",
      "metadata": {
        "id": "T6Pu-WMzcdho"
      },
      "source": [
        "Variância da Carteira:"
      ]
    },
    {
      "cell_type": "code",
      "source": [
        "var_carteira2 = np.dot(pesos2.T, np.dot(ret_log.cov() * 250, pesos2))\n",
        "var_carteira2"
      ],
      "metadata": {
        "colab": {
          "base_uri": "https://localhost:8080/"
        },
        "id": "oBAuLAsQb4AX",
        "outputId": "7fa5c78b-e2c1-4333-cee2-7aa0f8dda1af"
      },
      "execution_count": 37,
      "outputs": [
        {
          "output_type": "execute_result",
          "data": {
            "text/plain": [
              "0.06378761964381219"
            ]
          },
          "metadata": {},
          "execution_count": 37
        }
      ]
    },
    {
      "cell_type": "markdown",
      "metadata": {
        "id": "47EVY9W-cgUY"
      },
      "source": [
        "Volatilidade da Carteira:"
      ]
    },
    {
      "cell_type": "code",
      "source": [
        "volatilidade_cart2 = var_carteira2 ** 0.5\n",
        "volatilidade_cart2"
      ],
      "metadata": {
        "colab": {
          "base_uri": "https://localhost:8080/"
        },
        "id": "Kd5AM7Z2ciFx",
        "outputId": "a01adbd6-a0c5-4577-9f2e-7f711dff903d"
      },
      "execution_count": 38,
      "outputs": [
        {
          "output_type": "execute_result",
          "data": {
            "text/plain": [
              "0.25256211046752874"
            ]
          },
          "metadata": {},
          "execution_count": 38
        }
      ]
    },
    {
      "cell_type": "code",
      "source": [
        "# imprimindo a volatilidade da carteira 2 em porcentagem\n",
        "print(f'A volatilidade da carteira 2 é {round(volatilidade_cart2 * 100, 2)}%')"
      ],
      "metadata": {
        "colab": {
          "base_uri": "https://localhost:8080/"
        },
        "id": "Iuu18YmbcrRG",
        "outputId": "43f87eb1-7598-40e3-8c4d-0300d3778296"
      },
      "execution_count": 43,
      "outputs": [
        {
          "output_type": "stream",
          "name": "stdout",
          "text": [
            "A volatilidade da carteira 2 é 25.26%\n"
          ]
        }
      ]
    }
  ]
}