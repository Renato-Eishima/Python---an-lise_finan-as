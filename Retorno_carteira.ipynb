{
  "nbformat": 4,
  "nbformat_minor": 0,
  "metadata": {
    "colab": {
      "name": "Retorno_carteira.ipynb",
      "provenance": [],
      "collapsed_sections": [],
      "authorship_tag": "ABX9TyOTpiijsa4GdlNGul/ljy/9",
      "include_colab_link": true
    },
    "kernelspec": {
      "name": "python3",
      "display_name": "Python 3"
    },
    "language_info": {
      "name": "python"
    }
  },
  "cells": [
    {
      "cell_type": "markdown",
      "metadata": {
        "id": "view-in-github",
        "colab_type": "text"
      },
      "source": [
        "<a href=\"https://colab.research.google.com/github/Renato-Eishima/Python_analise_financas/blob/main/Retorno_carteira.ipynb\" target=\"_parent\"><img src=\"https://colab.research.google.com/assets/colab-badge.svg\" alt=\"Open In Colab\"/></a>"
      ]
    },
    {
      "cell_type": "markdown",
      "metadata": {
        "id": "NNa7Vw65l5jD"
      },
      "source": [
        "## Calculando o Retorno de uma carteira de ações"
      ]
    },
    {
      "cell_type": "markdown",
      "metadata": {
        "id": "klLI5OMUl5jP"
      },
      "source": [
        "Faça o download dos dados das ações. No caso de Egie3, Sula11, Itsa4, Csan3, \n",
        "Abev3, Lren3, Slce3, Bbas3 e B3sa3 do período de '2017-01-01' até hoje."
      ]
    },
    {
      "cell_type": "code",
      "execution_count": 1,
      "metadata": {
        "colab": {
          "base_uri": "https://localhost:8080/"
        },
        "id": "J4DcksuXNWR1",
        "outputId": "cfb1ba66-217e-449e-e8bf-17e2af4f010c"
      },
      "outputs": [
        {
          "output_type": "stream",
          "name": "stdout",
          "text": [
            "\u001b[K     |████████████████████████████████| 63 kB 1.4 MB/s \n",
            "\u001b[K     |████████████████████████████████| 6.4 MB 8.9 MB/s \n",
            "\u001b[31mERROR: pip's dependency resolver does not currently take into account all the packages that are installed. This behaviour is the source of the following dependency conflicts.\n",
            "google-colab 1.0.0 requires requests~=2.23.0, but you have requests 2.27.1 which is incompatible.\n",
            "datascience 0.10.6 requires folium==0.2.1, but you have folium 0.8.3 which is incompatible.\u001b[0m\n",
            "\u001b[?25h"
          ]
        }
      ],
      "source": [
        "!pip install -q yfinance"
      ]
    },
    {
      "cell_type": "code",
      "source": [
        "import numpy as np\n",
        "import pandas as pd\n",
        "import yfinance as yf\n",
        "import matplotlib.pyplot as plt"
      ],
      "metadata": {
        "id": "DgwRuzeEY1oc"
      },
      "execution_count": 2,
      "outputs": []
    },
    {
      "cell_type": "code",
      "source": [
        "acoes = ['EGIE3.SA', 'ITSA4.SA', 'SULA11.SA', 'ABEV3.SA', 'LREN3.SA', 'SLCE3.SA', 'BBAS3.SA', 'CSAN3.SA', 'B3SA3.SA'] \n",
        "carteira = pd.DataFrame()\n",
        "for acao in acoes:\n",
        "  # print(acao)\n",
        "  carteira[acao] = yf.download(acao, start = '2017-01-01')['Adj Close']"
      ],
      "metadata": {
        "colab": {
          "base_uri": "https://localhost:8080/"
        },
        "id": "PTR5_6LUZF2A",
        "outputId": "b19bbdfa-f606-452a-c167-ca27fc726755"
      },
      "execution_count": 3,
      "outputs": [
        {
          "output_type": "stream",
          "name": "stdout",
          "text": [
            "[*********************100%***********************]  1 of 1 completed\n",
            "[*********************100%***********************]  1 of 1 completed\n",
            "[*********************100%***********************]  1 of 1 completed\n",
            "[*********************100%***********************]  1 of 1 completed\n",
            "[*********************100%***********************]  1 of 1 completed\n",
            "[*********************100%***********************]  1 of 1 completed\n",
            "[*********************100%***********************]  1 of 1 completed\n",
            "[*********************100%***********************]  1 of 1 completed\n",
            "[*********************100%***********************]  1 of 1 completed\n"
          ]
        }
      ]
    },
    {
      "cell_type": "code",
      "source": [
        "carteira.head()"
      ],
      "metadata": {
        "colab": {
          "base_uri": "https://localhost:8080/",
          "height": 237
        },
        "id": "DoQpbbcpaBSF",
        "outputId": "8f869908-2b68-421a-8ab9-ca1d2694af2e"
      },
      "execution_count": 4,
      "outputs": [
        {
          "output_type": "execute_result",
          "data": {
            "text/html": [
              "\n",
              "  <div id=\"df-88cb6dab-8b06-4bb2-bb5f-0e20a3890e6a\">\n",
              "    <div class=\"colab-df-container\">\n",
              "      <div>\n",
              "<style scoped>\n",
              "    .dataframe tbody tr th:only-of-type {\n",
              "        vertical-align: middle;\n",
              "    }\n",
              "\n",
              "    .dataframe tbody tr th {\n",
              "        vertical-align: top;\n",
              "    }\n",
              "\n",
              "    .dataframe thead th {\n",
              "        text-align: right;\n",
              "    }\n",
              "</style>\n",
              "<table border=\"1\" class=\"dataframe\">\n",
              "  <thead>\n",
              "    <tr style=\"text-align: right;\">\n",
              "      <th></th>\n",
              "      <th>EGIE3.SA</th>\n",
              "      <th>ITSA4.SA</th>\n",
              "      <th>SULA11.SA</th>\n",
              "      <th>ABEV3.SA</th>\n",
              "      <th>LREN3.SA</th>\n",
              "      <th>SLCE3.SA</th>\n",
              "      <th>BBAS3.SA</th>\n",
              "      <th>CSAN3.SA</th>\n",
              "      <th>B3SA3.SA</th>\n",
              "    </tr>\n",
              "    <tr>\n",
              "      <th>Date</th>\n",
              "      <th></th>\n",
              "      <th></th>\n",
              "      <th></th>\n",
              "      <th></th>\n",
              "      <th></th>\n",
              "      <th></th>\n",
              "      <th></th>\n",
              "      <th></th>\n",
              "      <th></th>\n",
              "    </tr>\n",
              "  </thead>\n",
              "  <tbody>\n",
              "    <tr>\n",
              "      <th>2017-01-02</th>\n",
              "      <td>19.134184</td>\n",
              "      <td>5.317467</td>\n",
              "      <td>11.952116</td>\n",
              "      <td>13.968291</td>\n",
              "      <td>17.586411</td>\n",
              "      <td>4.431844</td>\n",
              "      <td>21.435804</td>\n",
              "      <td>8.195605</td>\n",
              "      <td>4.571316</td>\n",
              "    </tr>\n",
              "    <tr>\n",
              "      <th>2017-01-03</th>\n",
              "      <td>19.875391</td>\n",
              "      <td>5.550633</td>\n",
              "      <td>12.532649</td>\n",
              "      <td>14.250912</td>\n",
              "      <td>18.126013</td>\n",
              "      <td>4.462074</td>\n",
              "      <td>22.416517</td>\n",
              "      <td>8.577258</td>\n",
              "      <td>4.759449</td>\n",
              "    </tr>\n",
              "    <tr>\n",
              "      <th>2017-01-04</th>\n",
              "      <td>19.622833</td>\n",
              "      <td>5.583017</td>\n",
              "      <td>12.997073</td>\n",
              "      <td>14.139578</td>\n",
              "      <td>17.966415</td>\n",
              "      <td>4.610206</td>\n",
              "      <td>22.299776</td>\n",
              "      <td>8.581669</td>\n",
              "      <td>4.849302</td>\n",
              "    </tr>\n",
              "    <tr>\n",
              "      <th>2017-01-05</th>\n",
              "      <td>19.480082</td>\n",
              "      <td>5.634831</td>\n",
              "      <td>12.969750</td>\n",
              "      <td>14.216656</td>\n",
              "      <td>17.799208</td>\n",
              "      <td>4.737176</td>\n",
              "      <td>22.245289</td>\n",
              "      <td>8.566227</td>\n",
              "      <td>4.790337</td>\n",
              "    </tr>\n",
              "    <tr>\n",
              "      <th>2017-01-06</th>\n",
              "      <td>19.238501</td>\n",
              "      <td>5.615401</td>\n",
              "      <td>12.867305</td>\n",
              "      <td>14.096757</td>\n",
              "      <td>17.594009</td>\n",
              "      <td>4.734152</td>\n",
              "      <td>22.486572</td>\n",
              "      <td>8.367680</td>\n",
              "      <td>4.787529</td>\n",
              "    </tr>\n",
              "  </tbody>\n",
              "</table>\n",
              "</div>\n",
              "      <button class=\"colab-df-convert\" onclick=\"convertToInteractive('df-88cb6dab-8b06-4bb2-bb5f-0e20a3890e6a')\"\n",
              "              title=\"Convert this dataframe to an interactive table.\"\n",
              "              style=\"display:none;\">\n",
              "        \n",
              "  <svg xmlns=\"http://www.w3.org/2000/svg\" height=\"24px\"viewBox=\"0 0 24 24\"\n",
              "       width=\"24px\">\n",
              "    <path d=\"M0 0h24v24H0V0z\" fill=\"none\"/>\n",
              "    <path d=\"M18.56 5.44l.94 2.06.94-2.06 2.06-.94-2.06-.94-.94-2.06-.94 2.06-2.06.94zm-11 1L8.5 8.5l.94-2.06 2.06-.94-2.06-.94L8.5 2.5l-.94 2.06-2.06.94zm10 10l.94 2.06.94-2.06 2.06-.94-2.06-.94-.94-2.06-.94 2.06-2.06.94z\"/><path d=\"M17.41 7.96l-1.37-1.37c-.4-.4-.92-.59-1.43-.59-.52 0-1.04.2-1.43.59L10.3 9.45l-7.72 7.72c-.78.78-.78 2.05 0 2.83L4 21.41c.39.39.9.59 1.41.59.51 0 1.02-.2 1.41-.59l7.78-7.78 2.81-2.81c.8-.78.8-2.07 0-2.86zM5.41 20L4 18.59l7.72-7.72 1.47 1.35L5.41 20z\"/>\n",
              "  </svg>\n",
              "      </button>\n",
              "      \n",
              "  <style>\n",
              "    .colab-df-container {\n",
              "      display:flex;\n",
              "      flex-wrap:wrap;\n",
              "      gap: 12px;\n",
              "    }\n",
              "\n",
              "    .colab-df-convert {\n",
              "      background-color: #E8F0FE;\n",
              "      border: none;\n",
              "      border-radius: 50%;\n",
              "      cursor: pointer;\n",
              "      display: none;\n",
              "      fill: #1967D2;\n",
              "      height: 32px;\n",
              "      padding: 0 0 0 0;\n",
              "      width: 32px;\n",
              "    }\n",
              "\n",
              "    .colab-df-convert:hover {\n",
              "      background-color: #E2EBFA;\n",
              "      box-shadow: 0px 1px 2px rgba(60, 64, 67, 0.3), 0px 1px 3px 1px rgba(60, 64, 67, 0.15);\n",
              "      fill: #174EA6;\n",
              "    }\n",
              "\n",
              "    [theme=dark] .colab-df-convert {\n",
              "      background-color: #3B4455;\n",
              "      fill: #D2E3FC;\n",
              "    }\n",
              "\n",
              "    [theme=dark] .colab-df-convert:hover {\n",
              "      background-color: #434B5C;\n",
              "      box-shadow: 0px 1px 3px 1px rgba(0, 0, 0, 0.15);\n",
              "      filter: drop-shadow(0px 1px 2px rgba(0, 0, 0, 0.3));\n",
              "      fill: #FFFFFF;\n",
              "    }\n",
              "  </style>\n",
              "\n",
              "      <script>\n",
              "        const buttonEl =\n",
              "          document.querySelector('#df-88cb6dab-8b06-4bb2-bb5f-0e20a3890e6a button.colab-df-convert');\n",
              "        buttonEl.style.display =\n",
              "          google.colab.kernel.accessAllowed ? 'block' : 'none';\n",
              "\n",
              "        async function convertToInteractive(key) {\n",
              "          const element = document.querySelector('#df-88cb6dab-8b06-4bb2-bb5f-0e20a3890e6a');\n",
              "          const dataTable =\n",
              "            await google.colab.kernel.invokeFunction('convertToInteractive',\n",
              "                                                     [key], {});\n",
              "          if (!dataTable) return;\n",
              "\n",
              "          const docLinkHtml = 'Like what you see? Visit the ' +\n",
              "            '<a target=\"_blank\" href=https://colab.research.google.com/notebooks/data_table.ipynb>data table notebook</a>'\n",
              "            + ' to learn more about interactive tables.';\n",
              "          element.innerHTML = '';\n",
              "          dataTable['output_type'] = 'display_data';\n",
              "          await google.colab.output.renderOutput(dataTable, element);\n",
              "          const docLink = document.createElement('div');\n",
              "          docLink.innerHTML = docLinkHtml;\n",
              "          element.appendChild(docLink);\n",
              "        }\n",
              "      </script>\n",
              "    </div>\n",
              "  </div>\n",
              "  "
            ],
            "text/plain": [
              "             EGIE3.SA  ITSA4.SA  SULA11.SA  ...   BBAS3.SA  CSAN3.SA  B3SA3.SA\n",
              "Date                                        ...                               \n",
              "2017-01-02  19.134184  5.317467  11.952116  ...  21.435804  8.195605  4.571316\n",
              "2017-01-03  19.875391  5.550633  12.532649  ...  22.416517  8.577258  4.759449\n",
              "2017-01-04  19.622833  5.583017  12.997073  ...  22.299776  8.581669  4.849302\n",
              "2017-01-05  19.480082  5.634831  12.969750  ...  22.245289  8.566227  4.790337\n",
              "2017-01-06  19.238501  5.615401  12.867305  ...  22.486572  8.367680  4.787529\n",
              "\n",
              "[5 rows x 9 columns]"
            ]
          },
          "metadata": {},
          "execution_count": 4
        }
      ]
    },
    {
      "cell_type": "code",
      "source": [
        "carteira.tail()"
      ],
      "metadata": {
        "colab": {
          "base_uri": "https://localhost:8080/",
          "height": 237
        },
        "id": "m-DzGPsbaDyP",
        "outputId": "11dceafb-d81a-4f63-96ae-717a4b36af33"
      },
      "execution_count": 5,
      "outputs": [
        {
          "output_type": "execute_result",
          "data": {
            "text/html": [
              "\n",
              "  <div id=\"df-ba67b5ca-0fc6-4a44-a267-78fca7c3c4ac\">\n",
              "    <div class=\"colab-df-container\">\n",
              "      <div>\n",
              "<style scoped>\n",
              "    .dataframe tbody tr th:only-of-type {\n",
              "        vertical-align: middle;\n",
              "    }\n",
              "\n",
              "    .dataframe tbody tr th {\n",
              "        vertical-align: top;\n",
              "    }\n",
              "\n",
              "    .dataframe thead th {\n",
              "        text-align: right;\n",
              "    }\n",
              "</style>\n",
              "<table border=\"1\" class=\"dataframe\">\n",
              "  <thead>\n",
              "    <tr style=\"text-align: right;\">\n",
              "      <th></th>\n",
              "      <th>EGIE3.SA</th>\n",
              "      <th>ITSA4.SA</th>\n",
              "      <th>SULA11.SA</th>\n",
              "      <th>ABEV3.SA</th>\n",
              "      <th>LREN3.SA</th>\n",
              "      <th>SLCE3.SA</th>\n",
              "      <th>BBAS3.SA</th>\n",
              "      <th>CSAN3.SA</th>\n",
              "      <th>B3SA3.SA</th>\n",
              "    </tr>\n",
              "    <tr>\n",
              "      <th>Date</th>\n",
              "      <th></th>\n",
              "      <th></th>\n",
              "      <th></th>\n",
              "      <th></th>\n",
              "      <th></th>\n",
              "      <th></th>\n",
              "      <th></th>\n",
              "      <th></th>\n",
              "      <th></th>\n",
              "    </tr>\n",
              "  </thead>\n",
              "  <tbody>\n",
              "    <tr>\n",
              "      <th>2022-02-04</th>\n",
              "      <td>40.779999</td>\n",
              "      <td>10.27</td>\n",
              "      <td>24.020000</td>\n",
              "      <td>14.41</td>\n",
              "      <td>26.200001</td>\n",
              "      <td>47.380001</td>\n",
              "      <td>32.230000</td>\n",
              "      <td>23.309999</td>\n",
              "      <td>14.13</td>\n",
              "    </tr>\n",
              "    <tr>\n",
              "      <th>2022-02-07</th>\n",
              "      <td>40.270000</td>\n",
              "      <td>10.13</td>\n",
              "      <td>23.940001</td>\n",
              "      <td>14.29</td>\n",
              "      <td>25.690001</td>\n",
              "      <td>48.500000</td>\n",
              "      <td>31.860001</td>\n",
              "      <td>22.540001</td>\n",
              "      <td>13.70</td>\n",
              "    </tr>\n",
              "    <tr>\n",
              "      <th>2022-02-08</th>\n",
              "      <td>40.080002</td>\n",
              "      <td>10.15</td>\n",
              "      <td>24.350000</td>\n",
              "      <td>14.16</td>\n",
              "      <td>25.580000</td>\n",
              "      <td>47.900002</td>\n",
              "      <td>32.200001</td>\n",
              "      <td>22.170000</td>\n",
              "      <td>13.55</td>\n",
              "    </tr>\n",
              "    <tr>\n",
              "      <th>2022-02-09</th>\n",
              "      <td>40.500000</td>\n",
              "      <td>9.98</td>\n",
              "      <td>24.940001</td>\n",
              "      <td>14.54</td>\n",
              "      <td>25.910000</td>\n",
              "      <td>48.209999</td>\n",
              "      <td>31.920000</td>\n",
              "      <td>22.360001</td>\n",
              "      <td>14.16</td>\n",
              "    </tr>\n",
              "    <tr>\n",
              "      <th>2022-02-10</th>\n",
              "      <td>40.580002</td>\n",
              "      <td>10.07</td>\n",
              "      <td>25.080000</td>\n",
              "      <td>14.64</td>\n",
              "      <td>25.790001</td>\n",
              "      <td>49.180000</td>\n",
              "      <td>32.590000</td>\n",
              "      <td>22.260000</td>\n",
              "      <td>14.02</td>\n",
              "    </tr>\n",
              "  </tbody>\n",
              "</table>\n",
              "</div>\n",
              "      <button class=\"colab-df-convert\" onclick=\"convertToInteractive('df-ba67b5ca-0fc6-4a44-a267-78fca7c3c4ac')\"\n",
              "              title=\"Convert this dataframe to an interactive table.\"\n",
              "              style=\"display:none;\">\n",
              "        \n",
              "  <svg xmlns=\"http://www.w3.org/2000/svg\" height=\"24px\"viewBox=\"0 0 24 24\"\n",
              "       width=\"24px\">\n",
              "    <path d=\"M0 0h24v24H0V0z\" fill=\"none\"/>\n",
              "    <path d=\"M18.56 5.44l.94 2.06.94-2.06 2.06-.94-2.06-.94-.94-2.06-.94 2.06-2.06.94zm-11 1L8.5 8.5l.94-2.06 2.06-.94-2.06-.94L8.5 2.5l-.94 2.06-2.06.94zm10 10l.94 2.06.94-2.06 2.06-.94-2.06-.94-.94-2.06-.94 2.06-2.06.94z\"/><path d=\"M17.41 7.96l-1.37-1.37c-.4-.4-.92-.59-1.43-.59-.52 0-1.04.2-1.43.59L10.3 9.45l-7.72 7.72c-.78.78-.78 2.05 0 2.83L4 21.41c.39.39.9.59 1.41.59.51 0 1.02-.2 1.41-.59l7.78-7.78 2.81-2.81c.8-.78.8-2.07 0-2.86zM5.41 20L4 18.59l7.72-7.72 1.47 1.35L5.41 20z\"/>\n",
              "  </svg>\n",
              "      </button>\n",
              "      \n",
              "  <style>\n",
              "    .colab-df-container {\n",
              "      display:flex;\n",
              "      flex-wrap:wrap;\n",
              "      gap: 12px;\n",
              "    }\n",
              "\n",
              "    .colab-df-convert {\n",
              "      background-color: #E8F0FE;\n",
              "      border: none;\n",
              "      border-radius: 50%;\n",
              "      cursor: pointer;\n",
              "      display: none;\n",
              "      fill: #1967D2;\n",
              "      height: 32px;\n",
              "      padding: 0 0 0 0;\n",
              "      width: 32px;\n",
              "    }\n",
              "\n",
              "    .colab-df-convert:hover {\n",
              "      background-color: #E2EBFA;\n",
              "      box-shadow: 0px 1px 2px rgba(60, 64, 67, 0.3), 0px 1px 3px 1px rgba(60, 64, 67, 0.15);\n",
              "      fill: #174EA6;\n",
              "    }\n",
              "\n",
              "    [theme=dark] .colab-df-convert {\n",
              "      background-color: #3B4455;\n",
              "      fill: #D2E3FC;\n",
              "    }\n",
              "\n",
              "    [theme=dark] .colab-df-convert:hover {\n",
              "      background-color: #434B5C;\n",
              "      box-shadow: 0px 1px 3px 1px rgba(0, 0, 0, 0.15);\n",
              "      filter: drop-shadow(0px 1px 2px rgba(0, 0, 0, 0.3));\n",
              "      fill: #FFFFFF;\n",
              "    }\n",
              "  </style>\n",
              "\n",
              "      <script>\n",
              "        const buttonEl =\n",
              "          document.querySelector('#df-ba67b5ca-0fc6-4a44-a267-78fca7c3c4ac button.colab-df-convert');\n",
              "        buttonEl.style.display =\n",
              "          google.colab.kernel.accessAllowed ? 'block' : 'none';\n",
              "\n",
              "        async function convertToInteractive(key) {\n",
              "          const element = document.querySelector('#df-ba67b5ca-0fc6-4a44-a267-78fca7c3c4ac');\n",
              "          const dataTable =\n",
              "            await google.colab.kernel.invokeFunction('convertToInteractive',\n",
              "                                                     [key], {});\n",
              "          if (!dataTable) return;\n",
              "\n",
              "          const docLinkHtml = 'Like what you see? Visit the ' +\n",
              "            '<a target=\"_blank\" href=https://colab.research.google.com/notebooks/data_table.ipynb>data table notebook</a>'\n",
              "            + ' to learn more about interactive tables.';\n",
              "          element.innerHTML = '';\n",
              "          dataTable['output_type'] = 'display_data';\n",
              "          await google.colab.output.renderOutput(dataTable, element);\n",
              "          const docLink = document.createElement('div');\n",
              "          docLink.innerHTML = docLinkHtml;\n",
              "          element.appendChild(docLink);\n",
              "        }\n",
              "      </script>\n",
              "    </div>\n",
              "  </div>\n",
              "  "
            ],
            "text/plain": [
              "             EGIE3.SA  ITSA4.SA  SULA11.SA  ...   BBAS3.SA   CSAN3.SA  B3SA3.SA\n",
              "Date                                        ...                                \n",
              "2022-02-04  40.779999     10.27  24.020000  ...  32.230000  23.309999     14.13\n",
              "2022-02-07  40.270000     10.13  23.940001  ...  31.860001  22.540001     13.70\n",
              "2022-02-08  40.080002     10.15  24.350000  ...  32.200001  22.170000     13.55\n",
              "2022-02-09  40.500000      9.98  24.940001  ...  31.920000  22.360001     14.16\n",
              "2022-02-10  40.580002     10.07  25.080000  ...  32.590000  22.260000     14.02\n",
              "\n",
              "[5 rows x 9 columns]"
            ]
          },
          "metadata": {},
          "execution_count": 5
        }
      ]
    },
    {
      "cell_type": "markdown",
      "metadata": {
        "id": "GOMZZQ38l5jY"
      },
      "source": [
        "### Normalização por 100:\n",
        "\n",
        "$$\n",
        "\\frac {P_t}{P_0} * 100\n",
        "$$"
      ]
    },
    {
      "cell_type": "markdown",
      "metadata": {
        "id": "Hwz02sf0l5jZ"
      },
      "source": [
        "Normalize por 100 e plote os dados em um gráfico (você pode aplicar o método \n",
        "'.loc()' ou o '.iloc()'"
      ]
    },
    {
      "cell_type": "code",
      "source": [
        "carteira.iloc[0]"
      ],
      "metadata": {
        "colab": {
          "base_uri": "https://localhost:8080/"
        },
        "id": "Vu_97QD8aQ0J",
        "outputId": "083449cc-ecf7-4424-91b3-5b883eb8179b"
      },
      "execution_count": 6,
      "outputs": [
        {
          "output_type": "execute_result",
          "data": {
            "text/plain": [
              "EGIE3.SA     19.134184\n",
              "ITSA4.SA      5.317467\n",
              "SULA11.SA    11.952116\n",
              "ABEV3.SA     13.968291\n",
              "LREN3.SA     17.586411\n",
              "SLCE3.SA      4.431844\n",
              "BBAS3.SA     21.435804\n",
              "CSAN3.SA      8.195605\n",
              "B3SA3.SA      4.571316\n",
              "Name: 2017-01-02 00:00:00, dtype: float64"
            ]
          },
          "metadata": {},
          "execution_count": 6
        }
      ]
    },
    {
      "cell_type": "markdown",
      "metadata": {
        "id": "Kpz-ES9ll5jb"
      },
      "source": [
        "OU"
      ]
    },
    {
      "cell_type": "code",
      "source": [
        "carteira.loc['2017-01-02']"
      ],
      "metadata": {
        "colab": {
          "base_uri": "https://localhost:8080/"
        },
        "id": "OT5lK0rJa83_",
        "outputId": "b93206cc-e2f7-4c95-a1f5-bc85924999fd"
      },
      "execution_count": 7,
      "outputs": [
        {
          "output_type": "execute_result",
          "data": {
            "text/plain": [
              "EGIE3.SA     19.134184\n",
              "ITSA4.SA      5.317467\n",
              "SULA11.SA    11.952116\n",
              "ABEV3.SA     13.968291\n",
              "LREN3.SA     17.586411\n",
              "SLCE3.SA      4.431844\n",
              "BBAS3.SA     21.435804\n",
              "CSAN3.SA      8.195605\n",
              "B3SA3.SA      4.571316\n",
              "Name: 2017-01-02 00:00:00, dtype: float64"
            ]
          },
          "metadata": {},
          "execution_count": 7
        }
      ]
    },
    {
      "cell_type": "code",
      "source": [
        "(carteira / carteira.iloc[0]*100).plot(figsize = (15, 8))\n",
        "plt.show();"
      ],
      "metadata": {
        "colab": {
          "base_uri": "https://localhost:8080/",
          "height": 465
        },
        "id": "s-EA_0SLbD62",
        "outputId": "f456ea8f-e932-46d7-80a6-f0d4de331abc"
      },
      "execution_count": 8,
      "outputs": [
        {
          "output_type": "display_data",
          "data": {
            "image/png": "[encoded data removed]",
            "text/plain": [
              "<Figure size 1080x576 with 1 Axes>"
            ]
          },
          "metadata": {
            "needs_background": "light"
          }
        }
      ]
    },
    {
      "cell_type": "markdown",
      "metadata": {
        "id": "lemltfsfl5jg"
      },
      "source": [
        "### Calculando o retorno de um portifólio de ações"
      ]
    },
    {
      "cell_type": "markdown",
      "metadata": {
        "id": "GqxUA-E5l5jh"
      },
      "source": [
        "Obtenha o retorno simples de cada ação do portifólio e salve os resultados\n",
        "em um outro dataframe."
      ]
    },
    {
      "cell_type": "code",
      "source": [
        "retorno = (carteira / carteira.shift(1)) - 1\n",
        "retorno.head()"
      ],
      "metadata": {
        "colab": {
          "base_uri": "https://localhost:8080/",
          "height": 237
        },
        "id": "oiwakBXubEGd",
        "outputId": "05259543-ac10-4dd9-ea1b-91761d7f0b2d"
      },
      "execution_count": 9,
      "outputs": [
        {
          "output_type": "execute_result",
          "data": {
            "text/html": [
              "\n",
              "  <div id=\"df-d04ce97c-0f23-4824-8025-1e853fd8c956\">\n",
              "    <div class=\"colab-df-container\">\n",
              "      <div>\n",
              "<style scoped>\n",
              "    .dataframe tbody tr th:only-of-type {\n",
              "        vertical-align: middle;\n",
              "    }\n",
              "\n",
              "    .dataframe tbody tr th {\n",
              "        vertical-align: top;\n",
              "    }\n",
              "\n",
              "    .dataframe thead th {\n",
              "        text-align: right;\n",
              "    }\n",
              "</style>\n",
              "<table border=\"1\" class=\"dataframe\">\n",
              "  <thead>\n",
              "    <tr style=\"text-align: right;\">\n",
              "      <th></th>\n",
              "      <th>EGIE3.SA</th>\n",
              "      <th>ITSA4.SA</th>\n",
              "      <th>SULA11.SA</th>\n",
              "      <th>ABEV3.SA</th>\n",
              "      <th>LREN3.SA</th>\n",
              "      <th>SLCE3.SA</th>\n",
              "      <th>BBAS3.SA</th>\n",
              "      <th>CSAN3.SA</th>\n",
              "      <th>B3SA3.SA</th>\n",
              "    </tr>\n",
              "    <tr>\n",
              "      <th>Date</th>\n",
              "      <th></th>\n",
              "      <th></th>\n",
              "      <th></th>\n",
              "      <th></th>\n",
              "      <th></th>\n",
              "      <th></th>\n",
              "      <th></th>\n",
              "      <th></th>\n",
              "      <th></th>\n",
              "    </tr>\n",
              "  </thead>\n",
              "  <tbody>\n",
              "    <tr>\n",
              "      <th>2017-01-02</th>\n",
              "      <td>NaN</td>\n",
              "      <td>NaN</td>\n",
              "      <td>NaN</td>\n",
              "      <td>NaN</td>\n",
              "      <td>NaN</td>\n",
              "      <td>NaN</td>\n",
              "      <td>NaN</td>\n",
              "      <td>NaN</td>\n",
              "      <td>NaN</td>\n",
              "    </tr>\n",
              "    <tr>\n",
              "      <th>2017-01-03</th>\n",
              "      <td>0.038737</td>\n",
              "      <td>0.043849</td>\n",
              "      <td>0.048572</td>\n",
              "      <td>0.020233</td>\n",
              "      <td>0.030683</td>\n",
              "      <td>0.006821</td>\n",
              "      <td>0.045751</td>\n",
              "      <td>0.046568</td>\n",
              "      <td>0.041155</td>\n",
              "    </tr>\n",
              "    <tr>\n",
              "      <th>2017-01-04</th>\n",
              "      <td>-0.012707</td>\n",
              "      <td>0.005834</td>\n",
              "      <td>0.037057</td>\n",
              "      <td>-0.007812</td>\n",
              "      <td>-0.008805</td>\n",
              "      <td>0.033198</td>\n",
              "      <td>-0.005208</td>\n",
              "      <td>0.000514</td>\n",
              "      <td>0.018879</td>\n",
              "    </tr>\n",
              "    <tr>\n",
              "      <th>2017-01-05</th>\n",
              "      <td>-0.007275</td>\n",
              "      <td>0.009281</td>\n",
              "      <td>-0.002102</td>\n",
              "      <td>0.005451</td>\n",
              "      <td>-0.009307</td>\n",
              "      <td>0.027541</td>\n",
              "      <td>-0.002443</td>\n",
              "      <td>-0.001799</td>\n",
              "      <td>-0.012159</td>\n",
              "    </tr>\n",
              "    <tr>\n",
              "      <th>2017-01-06</th>\n",
              "      <td>-0.012401</td>\n",
              "      <td>-0.003448</td>\n",
              "      <td>-0.007899</td>\n",
              "      <td>-0.008434</td>\n",
              "      <td>-0.011529</td>\n",
              "      <td>-0.000638</td>\n",
              "      <td>0.010846</td>\n",
              "      <td>-0.023178</td>\n",
              "      <td>-0.000586</td>\n",
              "    </tr>\n",
              "  </tbody>\n",
              "</table>\n",
              "</div>\n",
              "      <button class=\"colab-df-convert\" onclick=\"convertToInteractive('df-d04ce97c-0f23-4824-8025-1e853fd8c956')\"\n",
              "              title=\"Convert this dataframe to an interactive table.\"\n",
              "              style=\"display:none;\">\n",
              "        \n",
              "  <svg xmlns=\"http://www.w3.org/2000/svg\" height=\"24px\"viewBox=\"0 0 24 24\"\n",
              "       width=\"24px\">\n",
              "    <path d=\"M0 0h24v24H0V0z\" fill=\"none\"/>\n",
              "    <path d=\"M18.56 5.44l.94 2.06.94-2.06 2.06-.94-2.06-.94-.94-2.06-.94 2.06-2.06.94zm-11 1L8.5 8.5l.94-2.06 2.06-.94-2.06-.94L8.5 2.5l-.94 2.06-2.06.94zm10 10l.94 2.06.94-2.06 2.06-.94-2.06-.94-.94-2.06-.94 2.06-2.06.94z\"/><path d=\"M17.41 7.96l-1.37-1.37c-.4-.4-.92-.59-1.43-.59-.52 0-1.04.2-1.43.59L10.3 9.45l-7.72 7.72c-.78.78-.78 2.05 0 2.83L4 21.41c.39.39.9.59 1.41.59.51 0 1.02-.2 1.41-.59l7.78-7.78 2.81-2.81c.8-.78.8-2.07 0-2.86zM5.41 20L4 18.59l7.72-7.72 1.47 1.35L5.41 20z\"/>\n",
              "  </svg>\n",
              "      </button>\n",
              "      \n",
              "  <style>\n",
              "    .colab-df-container {\n",
              "      display:flex;\n",
              "      flex-wrap:wrap;\n",
              "      gap: 12px;\n",
              "    }\n",
              "\n",
              "    .colab-df-convert {\n",
              "      background-color: #E8F0FE;\n",
              "      border: none;\n",
              "      border-radius: 50%;\n",
              "      cursor: pointer;\n",
              "      display: none;\n",
              "      fill: #1967D2;\n",
              "      height: 32px;\n",
              "      padding: 0 0 0 0;\n",
              "      width: 32px;\n",
              "    }\n",
              "\n",
              "    .colab-df-convert:hover {\n",
              "      background-color: #E2EBFA;\n",
              "      box-shadow: 0px 1px 2px rgba(60, 64, 67, 0.3), 0px 1px 3px 1px rgba(60, 64, 67, 0.15);\n",
              "      fill: #174EA6;\n",
              "    }\n",
              "\n",
              "    [theme=dark] .colab-df-convert {\n",
              "      background-color: #3B4455;\n",
              "      fill: #D2E3FC;\n",
              "    }\n",
              "\n",
              "    [theme=dark] .colab-df-convert:hover {\n",
              "      background-color: #434B5C;\n",
              "      box-shadow: 0px 1px 3px 1px rgba(0, 0, 0, 0.15);\n",
              "      filter: drop-shadow(0px 1px 2px rgba(0, 0, 0, 0.3));\n",
              "      fill: #FFFFFF;\n",
              "    }\n",
              "  </style>\n",
              "\n",
              "      <script>\n",
              "        const buttonEl =\n",
              "          document.querySelector('#df-d04ce97c-0f23-4824-8025-1e853fd8c956 button.colab-df-convert');\n",
              "        buttonEl.style.display =\n",
              "          google.colab.kernel.accessAllowed ? 'block' : 'none';\n",
              "\n",
              "        async function convertToInteractive(key) {\n",
              "          const element = document.querySelector('#df-d04ce97c-0f23-4824-8025-1e853fd8c956');\n",
              "          const dataTable =\n",
              "            await google.colab.kernel.invokeFunction('convertToInteractive',\n",
              "                                                     [key], {});\n",
              "          if (!dataTable) return;\n",
              "\n",
              "          const docLinkHtml = 'Like what you see? Visit the ' +\n",
              "            '<a target=\"_blank\" href=https://colab.research.google.com/notebooks/data_table.ipynb>data table notebook</a>'\n",
              "            + ' to learn more about interactive tables.';\n",
              "          element.innerHTML = '';\n",
              "          dataTable['output_type'] = 'display_data';\n",
              "          await google.colab.output.renderOutput(dataTable, element);\n",
              "          const docLink = document.createElement('div');\n",
              "          docLink.innerHTML = docLinkHtml;\n",
              "          element.appendChild(docLink);\n",
              "        }\n",
              "      </script>\n",
              "    </div>\n",
              "  </div>\n",
              "  "
            ],
            "text/plain": [
              "            EGIE3.SA  ITSA4.SA  SULA11.SA  ...  BBAS3.SA  CSAN3.SA  B3SA3.SA\n",
              "Date                                       ...                              \n",
              "2017-01-02       NaN       NaN        NaN  ...       NaN       NaN       NaN\n",
              "2017-01-03  0.038737  0.043849   0.048572  ...  0.045751  0.046568  0.041155\n",
              "2017-01-04 -0.012707  0.005834   0.037057  ... -0.005208  0.000514  0.018879\n",
              "2017-01-05 -0.007275  0.009281  -0.002102  ... -0.002443 -0.001799 -0.012159\n",
              "2017-01-06 -0.012401 -0.003448  -0.007899  ...  0.010846 -0.023178 -0.000586\n",
              "\n",
              "[5 rows x 9 columns]"
            ]
          },
          "metadata": {},
          "execution_count": 9
        }
      ]
    },
    {
      "cell_type": "markdown",
      "metadata": {
        "id": "1cBtGHqLl5ji"
      },
      "source": [
        "Primeiramente assuma um portifolio com pesos iguais. Crie o 'array' com o nome \"pesos\"."
      ]
    },
    {
      "cell_type": "code",
      "source": [
        "pesos = np.array([0.111, 0.111, 0.111, 0.111, 0.111, 0.111, 0.111, 0.111, 0.112])\n",
        "pesos"
      ],
      "metadata": {
        "colab": {
          "base_uri": "https://localhost:8080/"
        },
        "id": "7VEjYhePdq7G",
        "outputId": "0195a616-657a-4f60-edd5-26e4e087d76f"
      },
      "execution_count": 10,
      "outputs": [
        {
          "output_type": "execute_result",
          "data": {
            "text/plain": [
              "array([0.111, 0.111, 0.111, 0.111, 0.111, 0.111, 0.111, 0.111, 0.112])"
            ]
          },
          "metadata": {},
          "execution_count": 10
        }
      ]
    },
    {
      "cell_type": "code",
      "source": [
        "np.dot(retorno, pesos)  # para fazer o produto escalar. Porém DÁ erro! OU SEJA, ESTÁ ERRADO!!"
      ],
      "metadata": {
        "colab": {
          "base_uri": "https://localhost:8080/"
        },
        "id": "Irm9Oh8EbEKu",
        "outputId": "0b9bcc35-0c26-4dfb-ba6d-27522403c6a4"
      },
      "execution_count": 11,
      "outputs": [
        {
          "output_type": "execute_result",
          "data": {
            "text/plain": [
              "array([        nan,  0.03582415,  0.00678434, ..., -0.00312565,\n",
              "        0.01215087,  0.00505217])"
            ]
          },
          "metadata": {},
          "execution_count": 11
        }
      ]
    },
    {
      "cell_type": "markdown",
      "metadata": {
        "id": "-VwKvaTGl5jl"
      },
      "source": [
        "Obtenha o retorno anual de cada ação e depois calcule o produto escalar dos\n",
        "retornos com os pesos."
      ]
    },
    {
      "cell_type": "code",
      "source": [
        "retorno_anual = retorno.mean() * 250\n",
        "retorno_anual"
      ],
      "metadata": {
        "colab": {
          "base_uri": "https://localhost:8080/"
        },
        "id": "qqcuiW63eG3F",
        "outputId": "3ae52a72-c80b-4059-8320-5b0a99ae35d6"
      },
      "execution_count": 12,
      "outputs": [
        {
          "output_type": "execute_result",
          "data": {
            "text/plain": [
              "EGIE3.SA     0.177489\n",
              "ITSA4.SA     0.172904\n",
              "SULA11.SA    0.217021\n",
              "ABEV3.SA     0.053657\n",
              "LREN3.SA     0.159256\n",
              "SLCE3.SA     0.551814\n",
              "BBAS3.SA     0.169796\n",
              "CSAN3.SA     0.269582\n",
              "B3SA3.SA     0.295399\n",
              "dtype: float64"
            ]
          },
          "metadata": {},
          "execution_count": 12
        }
      ]
    },
    {
      "cell_type": "code",
      "source": [
        "np.dot(retorno_anual, pesos)"
      ],
      "metadata": {
        "colab": {
          "base_uri": "https://localhost:8080/"
        },
        "id": "cg1lznLMerua",
        "outputId": "3091efe7-293c-4777-9a38-b3aa5f6f11b2"
      },
      "execution_count": 13,
      "outputs": [
        {
          "output_type": "execute_result",
          "data": {
            "text/plain": [
              "0.229723192753379"
            ]
          },
          "metadata": {},
          "execution_count": 13
        }
      ]
    },
    {
      "cell_type": "markdown",
      "metadata": {
        "id": "bdVftOHEl5jn"
      },
      "source": [
        "Transforme o resultado em forma de porcentagem"
      ]
    },
    {
      "cell_type": "code",
      "source": [
        "pfolio1 = str(round(np.dot(retorno_anual * 100, pesos), 2)) + \"%\"\n",
        "print(pfolio1)"
      ],
      "metadata": {
        "colab": {
          "base_uri": "https://localhost:8080/"
        },
        "id": "cSvDg_Kpe6XB",
        "outputId": "1ef5ff56-e3fb-40f6-8b64-021c0616b697"
      },
      "execution_count": 15,
      "outputs": [
        {
          "output_type": "stream",
          "name": "stdout",
          "text": [
            "22.97%\n"
          ]
        }
      ]
    },
    {
      "cell_type": "markdown",
      "metadata": {
        "id": "vfrLW69xfVEX"
      },
      "source": [
        "OU"
      ]
    },
    {
      "cell_type": "code",
      "source": [
        "print('{}%'.format(round(np.dot(retorno_anual * 100, pesos), 2)))"
      ],
      "metadata": {
        "colab": {
          "base_uri": "https://localhost:8080/"
        },
        "id": "D_sc-CwyfVm3",
        "outputId": "08548328-e5f2-4a9c-c14f-619201b578f7"
      },
      "execution_count": 16,
      "outputs": [
        {
          "output_type": "stream",
          "name": "stdout",
          "text": [
            "22.97%\n"
          ]
        }
      ]
    },
    {
      "cell_type": "markdown",
      "metadata": {
        "id": "m3AM8A7HfsH6"
      },
      "source": [
        "OU"
      ]
    },
    {
      "cell_type": "code",
      "source": [
        "pfolio1 = round(np.dot(retorno_anual * 100, pesos), 2)\n",
        "print(f'{pfolio1}%')"
      ],
      "metadata": {
        "colab": {
          "base_uri": "https://localhost:8080/"
        },
        "id": "wgoZy3Xxfswf",
        "outputId": "2b9a8040-7424-423e-9295-311b531a1172"
      },
      "execution_count": 17,
      "outputs": [
        {
          "output_type": "stream",
          "name": "stdout",
          "text": [
            "22.97%\n"
          ]
        }
      ]
    },
    {
      "cell_type": "markdown",
      "metadata": {
        "id": "hsqh8Be7gLLU"
      },
      "source": [
        "Agora assumindo os pesos conforme a carteira ANTIGA do Dica de Hoje. (DESATUALIZADA)"
      ]
    },
    {
      "cell_type": "code",
      "source": [
        "pesos2 = np.array([0.15, 0.12, 0.15, 0.08, 0.12, 0.10, 0.10, 0.08, 0.1])"
      ],
      "metadata": {
        "id": "NmbPwdCpgRWs"
      },
      "execution_count": 18,
      "outputs": []
    },
    {
      "cell_type": "code",
      "source": [
        "pesos2.sum()"
      ],
      "metadata": {
        "colab": {
          "base_uri": "https://localhost:8080/"
        },
        "id": "QlHrOODNhKCh",
        "outputId": "986dddd7-bd00-428e-8d31-f725f2079a46"
      },
      "execution_count": 19,
      "outputs": [
        {
          "output_type": "execute_result",
          "data": {
            "text/plain": [
              "1.0"
            ]
          },
          "metadata": {},
          "execution_count": 19
        }
      ]
    },
    {
      "cell_type": "markdown",
      "metadata": {
        "id": "7kti2twXhaLk"
      },
      "source": [
        "Transforme o resultado em forma de porcentagem"
      ]
    },
    {
      "cell_type": "code",
      "source": [
        "pfolio2 = str(round(np.dot(retorno_anual * 100, pesos2), 2)) + '%'\n",
        "print(pfolio2)"
      ],
      "metadata": {
        "colab": {
          "base_uri": "https://localhost:8080/"
        },
        "id": "FQfDFoXChaw1",
        "outputId": "d47ca68c-a6e1-4f42-9542-b6de0de7b6b4"
      },
      "execution_count": 20,
      "outputs": [
        {
          "output_type": "stream",
          "name": "stdout",
          "text": [
            "22.66%\n"
          ]
        }
      ]
    },
    {
      "cell_type": "markdown",
      "metadata": {
        "id": "k5hjsZCDh1Q0"
      },
      "source": [
        "OU"
      ]
    },
    {
      "cell_type": "code",
      "source": [
        "print('{}%'.format(round(np.dot(retorno_anual * 100, pesos2), 2)))"
      ],
      "metadata": {
        "colab": {
          "base_uri": "https://localhost:8080/"
        },
        "id": "CTAciCnGh13b",
        "outputId": "74f067d9-77e9-4a7c-f4ea-12ede5299bef"
      },
      "execution_count": 22,
      "outputs": [
        {
          "output_type": "stream",
          "name": "stdout",
          "text": [
            "22.66%\n"
          ]
        }
      ]
    },
    {
      "cell_type": "markdown",
      "metadata": {
        "id": "ZCl1sGmMh1ZS"
      },
      "source": [
        "OU"
      ]
    },
    {
      "cell_type": "code",
      "source": [
        "pfolio2 = round(np.dot(retorno_anual * 100, pesos2), 2)\n",
        "print(f'{pfolio2}%')"
      ],
      "metadata": {
        "colab": {
          "base_uri": "https://localhost:8080/"
        },
        "id": "QXOPNg8ziXE9",
        "outputId": "2b1b5770-4220-4fea-d883-73bd5df031eb"
      },
      "execution_count": 23,
      "outputs": [
        {
          "output_type": "stream",
          "name": "stdout",
          "text": [
            "22.66%\n"
          ]
        }
      ]
    }
  ]
}